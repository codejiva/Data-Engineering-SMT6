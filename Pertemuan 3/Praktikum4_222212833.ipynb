{
  "nbformat": 4,
  "nbformat_minor": 0,
  "metadata": {
    "colab": {
      "provenance": []
    },
    "kernelspec": {
      "name": "python3",
      "display_name": "Python 3"
    },
    "language_info": {
      "name": "python"
    }
  },
  "cells": [
    {
      "cell_type": "markdown",
      "source": [
        "#Teknologi Perekayasaan Data\n",
        "##Modul 4\n",
        "###Rambati Lumbung Pardja\n",
        "###222212833\n",
        "###3SI1/31\n",
        "\n",
        "####PENUGASAN (1 Week Assignment)\n",
        "1. Buat File .ipynb yang baru dengan nama Praktikum4_NIM.ipynb"
      ],
      "metadata": {
        "id": "Am5siqkhE8Wq"
      }
    },
    {
      "cell_type": "markdown",
      "source": [
        "2. Lakukan web scraping menggunakan Requests + BeautifulSoup untuk mengekstrak Tabel Matching Cryptocurrencies pada tab Table View di Yahoo!Finance https://finance.yahoo.com/crypto/ (cukup 3 halaman saja - 75 rows). Hints: lihat perubahan URL untuk setiap halaman table dan lakukan looping per halaman"
      ],
      "metadata": {
        "id": "R9FtQrNZuWGi"
      }
    },
    {
      "cell_type": "markdown",
      "source": [
        "Persiapan"
      ],
      "metadata": {
        "id": "iU9kT5JMGWOg"
      }
    },
    {
      "cell_type": "code",
      "source": [
        "import requests\n",
        "from bs4 import BeautifulSoup\n",
        "import re\n",
        "import pandas as pd"
      ],
      "metadata": {
        "id": "dHNEwdd9FUMM"
      },
      "execution_count": 1,
      "outputs": []
    },
    {
      "cell_type": "markdown",
      "source": [
        "FUngsi scraping"
      ],
      "metadata": {
        "id": "3cXiyoBNGt7D"
      }
    },
    {
      "cell_type": "code",
      "source": [
        "def scrape_crypto_data(page_count=3):\n",
        "    base_url = \"https://finance.yahoo.com/crypto/?offset={}&count=25\"\n",
        "    crypto_data = []\n",
        "\n",
        "    for page in range(page_count):\n",
        "        offset = page * 25\n",
        "        url = base_url.format(offset)\n",
        "        headers = {\"User-Agent\": \"Mozilla/5.0\"}\n",
        "\n",
        "        response = requests.get(url, headers=headers)\n",
        "        if response.status_code == 200:\n",
        "            soup = BeautifulSoup(response.text, \"html.parser\")\n",
        "            table = soup.find(\"table\")\n",
        "\n",
        "            if table:\n",
        "                rows = table.find_all(\"tr\")[1:]\n",
        "\n",
        "                for row in rows:\n",
        "                    cols = row.find_all(\"td\")\n",
        "                    if len(cols) >= 7:\n",
        "\n",
        "                        # buat debug\n",
        "                        col_texts = [col.text.strip() for col in cols]\n",
        "                        print(\"Row Data:\", col_texts)\n",
        "\n",
        "                        name = cols[0].text.strip()\n",
        "                        symbol = cols[1].text.strip()\n",
        "                        price_span = cols[2].find(\"span\")\n",
        "                        price = price_span.text.strip() if price_span else \"N/A\"\n",
        "                        change_span = cols[3].find(\"span\")\n",
        "                        change = change_span.text.strip() if change_span else \"N/A\"\n",
        "                        percent_change_span = cols[4].find(\"span\")\n",
        "                        percent_change = percent_change_span.text.strip() if percent_change_span else \"N/A\"\n",
        "                        market_cap_span = cols[6].find(\"span\")\n",
        "                        market_cap = market_cap_span.text.strip() if market_cap_span else \"N/A\"\n",
        "\n",
        "                        crypto_data.append([symbol, name, price, change, percent_change, market_cap])\n",
        "\n",
        "            else:\n",
        "                print(f\"Tabel tidak ditemukan pada halaman {page + 1}\")\n",
        "        else:\n",
        "            print(f\"Gagal mengakses halaman {page + 1}\")\n",
        "\n",
        "    return crypto_data"
      ],
      "metadata": {
        "id": "20AoPa9aGwkI"
      },
      "execution_count": 2,
      "outputs": []
    },
    {
      "cell_type": "markdown",
      "source": [
        "fungsi simpan ke csv"
      ],
      "metadata": {
        "id": "4KHVANg8IsMv"
      }
    },
    {
      "cell_type": "code",
      "source": [
        "def save_to_csv(data, filename=\"crypto_data.csv\"):\n",
        "    df = pd.DataFrame(data, columns=[\"Symbol\", \"Name\", \"Price\", \"Change\", \"% Change\", \"Market Cap\"])\n",
        "    df.to_csv(filename, index=False)\n",
        "    print(f\"Data berhasil disimpan ke {filename}\")"
      ],
      "metadata": {
        "id": "ajqccHN2ItrS"
      },
      "execution_count": 3,
      "outputs": []
    },
    {
      "cell_type": "markdown",
      "source": [
        "main function"
      ],
      "metadata": {
        "id": "r9HGr-lBJYgB"
      }
    },
    {
      "cell_type": "code",
      "source": [
        "def main():\n",
        "    print(\"Sedang mencuri data dari Yahoo! Finance...3...2...1...\")\n",
        "    crypto_data = scrape_crypto_data(page_count=3)\n",
        "\n",
        "    if crypto_data:\n",
        "        save_to_csv(crypto_data)\n",
        "        print(\"\\n5 Data pertama yang berhasil didapat:\")\n",
        "        print(pd.DataFrame(crypto_data, columns=[\"Name\", \"Symbol\", \"Price\", \"Change\", \"% Change\", \"Market Cap\"]).head())\n",
        "    else:\n",
        "        print(\"Enggak ada data yang diambil\")\n",
        "\n",
        "if __name__ == \"__main__\":\n",
        "    main()"
      ],
      "metadata": {
        "colab": {
          "base_uri": "https://localhost:8080/"
        },
        "id": "GgyIpNNRJaVX",
        "outputId": "3ea02007-f718-4703-b725-d53c12c8b3c3"
      },
      "execution_count": 4,
      "outputs": [
        {
          "output_type": "stream",
          "name": "stdout",
          "text": [
            "🛠️ Sedang mencuri data dari Yahoo! Finance...3...2...1...\n",
            "Row Data: ['BTC-USD', 'Bitcoin USD', '', '85,182.27 +3,104.50 (+3.78%)', '+3,104.50', '+3.78%', '1.69T', '30.978B', '30.978B', '30.978B', '19.839M', '21.80%', '']\n",
            "Row Data: ['ETH-USD', 'Ethereum USD', '', '2,028.66 +130.80 (+6.89%)', '+130.80', '+6.89%', '244.711B', '18.548B', '18.548B', '18.548B', '120.627M', '-44.99%', '']\n",
            "Row Data: ['XRP-USD', 'XRP USD', '', '2.4949 +0.2410 (+10.69%)', '+0.2410', '+10.69%', '144.976B', '8.752B', '8.752B', '8.752B', '58.109B', '273.59%', '']\n",
            "Row Data: ['USDT-USD', 'Tether USDt USD', '', '1.0003 +0.0007 (+0.07%)', '+0.0007', '+0.07%', '143.488B', '72.9B', '72.9B', '72.9B', '143.439B', '-0.05%', '']\n",
            "Row Data: ['BNB-USD', 'BNB USD', '', '617.62 -14.73 (-2.33%)', '-14.73', '-2.33%', '87.995B', '1.985B', '1.985B', '1.985B', '142.474M', '12.83%', '']\n",
            "Row Data: ['SOL-USD', 'Solana USD', '', '131.96 +7.96 (+6.42%)', '+7.96', '+6.42%', '67.305B', '3.195B', '3.195B', '3.195B', '510.033M', '-34.58%', '']\n",
            "Row Data: ['USDC-USD', 'USD Coin USD', '', '1.0001 +0.0003 (+0.03%)', '+0.0003', '+0.03%', '59.056B', '10.809B', '10.809B', '10.809B', '59.048B', '-0.03%', '']\n",
            "Row Data: ['DOGE-USD', 'Dogecoin USD', '', '0.173273 +0.007920 (+4.79%)', '+0.007920', '+4.79%', '25.73B', '1.131B', '1.131B', '1.131B', '148.497B', '10.41%', '']\n",
            "Row Data: ['ADA-USD', 'Cardano USD', '', '0.729497 +0.037275 (+5.38%)', '+0.037275', '+5.38%', '25.704B', '1.038B', '1.038B', '1.038B', '35.235B', '9.79%', '']\n",
            "Row Data: ['TRX-USD', 'TRON USD', '', '0.230189 -0.000132 (-0.06%)', '-0.000132', '-0.06%', '21.872B', '1.264B', '1.264B', '1.264B', '95.016B', '95.91%', '']\n",
            "Row Data: ['WTRX-USD', 'Wrapped TRON USD', '', '0.230324 +0.000619 (+0.27%)', '+0.000619', '+0.27%', '20.136B', '10.036M', '10.036M', '10.036M', '87.423B', '95.84%', '']\n",
            "Row Data: ['STETH-USD', 'Lido Staked ETH USD', '', '2,025.63 +135.14 (+7.15%)', '+135.14', '+7.15%', '18.897B', '72.08M', '72.08M', '72.08M', '9.329M', '-45.02%', '']\n",
            "Row Data: ['WBTC-USD', 'Wrapped Bitcoin USD', '', '84,953.81 +3,195.95 (+3.91%)', '+3,195.95', '+3.91%', '10.966B', '260.846M', '260.846M', '260.846M', '129,077', '21.78%', '']\n",
            "Row Data: ['LINK-USD', 'Chainlink USD', '', '14.39 +0.79 (+5.85%)', '+0.79', '+5.85%', '9.456B', '449.115M', '449.115M', '449.115M', '657.1M', '-24.36%', '']\n",
            "Row Data: ['TON11419-USD', 'Toncoin USD', '', '3.7433 +0.1502 (+4.18%)', '+0.1502', '+4.18%', '9.29B', '325.509M', '325.509M', '325.509M', '2.482B', '-15.83%', '']\n",
            "Row Data: ['LEO-USD', 'UNUS SED LEO USD', '', '9.8252 +0.0997 (+1.03%)', '+0.0997', '+1.03%', '9.078B', '2.842M', '2.842M', '2.842M', '923.908M', '58.30%', '']\n",
            "Row Data: ['WSTETH-USD', 'Lido wstETH USD', '', '2,434.53 +174.59 (+7.73%)', '+174.59', '+7.73%', '9.065B', '7.137M', '7.137M', '7.137M', '3.723M', '-43.05%', '']\n",
            "Row Data: ['XLM-USD', 'Stellar USD', '', '0.288013 +0.019166 (+7.13%)', '+0.019166', '+7.13%', '8.858B', '401.356M', '401.356M', '401.356M', '30.755B', '108.67%', '']\n",
            "Row Data: ['USDS33039-USD', 'USDS USD', '', '1.0019 +0.0034 (+0.34%)', '+0.0034', '+0.34%', '8.424B', '16.827M', '16.827M', '16.827M', '8.407B', '-8.80%', '']\n",
            "Row Data: ['HBAR-USD', 'Hedera USD', '', '0.193856 +0.009230 (+5.00%)', '+0.009230', '+5.00%', '8.184B', '282.323M', '282.323M', '282.323M', '42.219B', '69.28%', '']\n",
            "Row Data: ['AVAX-USD', 'Avalanche USD', '', '19.60 +1.07 (+5.77%)', '+1.07', '+5.77%', '8.123B', '343.191M', '343.191M', '343.191M', '414.454M', '-66.68%', '']\n",
            "Row Data: ['SUI20947-USD', 'Sui USD', '', '2.4189 +0.1632 (+7.24%)', '+0.1632', '+7.24%', '7.668B', '776.022M', '776.022M', '776.022M', '3.17B', '30.18%', '']\n",
            "Row Data: ['SHIB-USD', 'Shiba Inu USD', '', '0.000013 +0.000000 (+2.95%)', '+0.000000', '+2.95%', '7.515B', '174.917M', '174.917M', '174.917M', '589.253T', '-53.57%', '']\n",
            "Row Data: ['DOT-USD', 'Polkadot USD', '', '4.5518 +0.1978 (+4.54%)', '+0.1978', '+4.54%', '7.098B', '233.481M', '233.481M', '233.481M', '1.559B', '-53.07%', '']\n",
            "Row Data: ['LTC-USD', 'Litecoin USD', '', '91.92 +3.76 (+4.27%)', '+3.76', '+4.27%', '6.945B', '554.794M', '554.794M', '554.794M', '75.558M', '6.24%', '']\n",
            "Row Data: ['BTC-USD', 'Bitcoin USD', '', '85,182.27 +3,104.50 (+3.78%)', '+3,104.50', '+3.78%', '1.69T', '30.978B', '30.978B', '30.978B', '19.839M', '21.80%', '']\n",
            "Row Data: ['ETH-USD', 'Ethereum USD', '', '2,028.66 +130.80 (+6.89%)', '+130.80', '+6.89%', '244.711B', '18.548B', '18.548B', '18.548B', '120.627M', '-44.99%', '']\n",
            "Row Data: ['XRP-USD', 'XRP USD', '', '2.4949 +0.2410 (+10.69%)', '+0.2410', '+10.69%', '144.976B', '8.752B', '8.752B', '8.752B', '58.109B', '273.59%', '']\n",
            "Row Data: ['USDT-USD', 'Tether USDt USD', '', '1.0003 +0.0007 (+0.07%)', '+0.0007', '+0.07%', '143.488B', '72.9B', '72.9B', '72.9B', '143.439B', '-0.05%', '']\n",
            "Row Data: ['BNB-USD', 'BNB USD', '', '617.62 -14.73 (-2.33%)', '-14.73', '-2.33%', '87.995B', '1.985B', '1.985B', '1.985B', '142.474M', '12.83%', '']\n",
            "Row Data: ['SOL-USD', 'Solana USD', '', '131.96 +7.96 (+6.42%)', '+7.96', '+6.42%', '67.305B', '3.195B', '3.195B', '3.195B', '510.033M', '-34.58%', '']\n",
            "Row Data: ['USDC-USD', 'USD Coin USD', '', '1.0001 +0.0003 (+0.03%)', '+0.0003', '+0.03%', '59.056B', '10.809B', '10.809B', '10.809B', '59.048B', '-0.03%', '']\n",
            "Row Data: ['DOGE-USD', 'Dogecoin USD', '', '0.173273 +0.007920 (+4.79%)', '+0.007920', '+4.79%', '25.73B', '1.131B', '1.131B', '1.131B', '148.497B', '10.41%', '']\n",
            "Row Data: ['ADA-USD', 'Cardano USD', '', '0.729497 +0.037275 (+5.38%)', '+0.037275', '+5.38%', '25.704B', '1.038B', '1.038B', '1.038B', '35.235B', '9.79%', '']\n",
            "Row Data: ['TRX-USD', 'TRON USD', '', '0.230189 -0.000132 (-0.06%)', '-0.000132', '-0.06%', '21.872B', '1.264B', '1.264B', '1.264B', '95.016B', '95.91%', '']\n",
            "Row Data: ['WTRX-USD', 'Wrapped TRON USD', '', '0.230324 +0.000619 (+0.27%)', '+0.000619', '+0.27%', '20.136B', '10.036M', '10.036M', '10.036M', '87.423B', '95.84%', '']\n",
            "Row Data: ['STETH-USD', 'Lido Staked ETH USD', '', '2,025.63 +135.14 (+7.15%)', '+135.14', '+7.15%', '18.897B', '72.08M', '72.08M', '72.08M', '9.329M', '-45.02%', '']\n",
            "Row Data: ['WBTC-USD', 'Wrapped Bitcoin USD', '', '84,953.81 +3,195.95 (+3.91%)', '+3,195.95', '+3.91%', '10.966B', '260.846M', '260.846M', '260.846M', '129,077', '21.78%', '']\n",
            "Row Data: ['LINK-USD', 'Chainlink USD', '', '14.39 +0.79 (+5.85%)', '+0.79', '+5.85%', '9.456B', '449.115M', '449.115M', '449.115M', '657.1M', '-24.36%', '']\n",
            "Row Data: ['TON11419-USD', 'Toncoin USD', '', '3.7433 +0.1502 (+4.18%)', '+0.1502', '+4.18%', '9.29B', '325.509M', '325.509M', '325.509M', '2.482B', '-15.83%', '']\n",
            "Row Data: ['LEO-USD', 'UNUS SED LEO USD', '', '9.8252 +0.0997 (+1.03%)', '+0.0997', '+1.03%', '9.078B', '2.842M', '2.842M', '2.842M', '923.908M', '58.30%', '']\n",
            "Row Data: ['WSTETH-USD', 'Lido wstETH USD', '', '2,434.53 +174.59 (+7.73%)', '+174.59', '+7.73%', '9.065B', '7.137M', '7.137M', '7.137M', '3.723M', '-43.05%', '']\n",
            "Row Data: ['XLM-USD', 'Stellar USD', '', '0.288013 +0.019166 (+7.13%)', '+0.019166', '+7.13%', '8.858B', '401.356M', '401.356M', '401.356M', '30.755B', '108.67%', '']\n",
            "Row Data: ['USDS33039-USD', 'USDS USD', '', '1.0019 +0.0034 (+0.34%)', '+0.0034', '+0.34%', '8.424B', '16.827M', '16.827M', '16.827M', '8.407B', '-8.80%', '']\n",
            "Row Data: ['HBAR-USD', 'Hedera USD', '', '0.193856 +0.009230 (+5.00%)', '+0.009230', '+5.00%', '8.184B', '282.323M', '282.323M', '282.323M', '42.219B', '69.28%', '']\n",
            "Row Data: ['AVAX-USD', 'Avalanche USD', '', '19.60 +1.07 (+5.77%)', '+1.07', '+5.77%', '8.123B', '343.191M', '343.191M', '343.191M', '414.454M', '-66.68%', '']\n",
            "Row Data: ['SUI20947-USD', 'Sui USD', '', '2.4189 +0.1632 (+7.24%)', '+0.1632', '+7.24%', '7.668B', '776.022M', '776.022M', '776.022M', '3.17B', '30.18%', '']\n",
            "Row Data: ['SHIB-USD', 'Shiba Inu USD', '', '0.000013 +0.000000 (+2.95%)', '+0.000000', '+2.95%', '7.515B', '174.917M', '174.917M', '174.917M', '589.253T', '-53.57%', '']\n",
            "Row Data: ['DOT-USD', 'Polkadot USD', '', '4.5518 +0.1978 (+4.54%)', '+0.1978', '+4.54%', '7.098B', '233.481M', '233.481M', '233.481M', '1.559B', '-53.07%', '']\n",
            "Row Data: ['LTC-USD', 'Litecoin USD', '', '91.92 +3.76 (+4.27%)', '+3.76', '+4.27%', '6.945B', '554.794M', '554.794M', '554.794M', '75.558M', '6.24%', '']\n",
            "Row Data: ['BTC-USD', 'Bitcoin USD', '', '85,182.27 +3,104.50 (+3.78%)', '+3,104.50', '+3.78%', '1.69T', '30.978B', '30.978B', '30.978B', '19.839M', '21.80%', '']\n",
            "Row Data: ['ETH-USD', 'Ethereum USD', '', '2,028.66 +130.80 (+6.89%)', '+130.80', '+6.89%', '244.711B', '18.548B', '18.548B', '18.548B', '120.627M', '-44.99%', '']\n",
            "Row Data: ['XRP-USD', 'XRP USD', '', '2.4949 +0.2410 (+10.69%)', '+0.2410', '+10.69%', '144.976B', '8.752B', '8.752B', '8.752B', '58.109B', '273.59%', '']\n",
            "Row Data: ['USDT-USD', 'Tether USDt USD', '', '1.0003 +0.0007 (+0.07%)', '+0.0007', '+0.07%', '143.488B', '72.9B', '72.9B', '72.9B', '143.439B', '-0.05%', '']\n",
            "Row Data: ['BNB-USD', 'BNB USD', '', '617.62 -14.73 (-2.33%)', '-14.73', '-2.33%', '87.995B', '1.985B', '1.985B', '1.985B', '142.474M', '12.83%', '']\n",
            "Row Data: ['SOL-USD', 'Solana USD', '', '131.96 +7.96 (+6.42%)', '+7.96', '+6.42%', '67.305B', '3.195B', '3.195B', '3.195B', '510.033M', '-34.58%', '']\n",
            "Row Data: ['USDC-USD', 'USD Coin USD', '', '1.0001 +0.0003 (+0.03%)', '+0.0003', '+0.03%', '59.056B', '10.809B', '10.809B', '10.809B', '59.048B', '-0.03%', '']\n",
            "Row Data: ['DOGE-USD', 'Dogecoin USD', '', '0.173273 +0.007920 (+4.79%)', '+0.007920', '+4.79%', '25.73B', '1.131B', '1.131B', '1.131B', '148.497B', '10.41%', '']\n",
            "Row Data: ['ADA-USD', 'Cardano USD', '', '0.729497 +0.037275 (+5.38%)', '+0.037275', '+5.38%', '25.704B', '1.038B', '1.038B', '1.038B', '35.235B', '9.79%', '']\n",
            "Row Data: ['TRX-USD', 'TRON USD', '', '0.230189 -0.000132 (-0.06%)', '-0.000132', '-0.06%', '21.872B', '1.264B', '1.264B', '1.264B', '95.016B', '95.91%', '']\n",
            "Row Data: ['WTRX-USD', 'Wrapped TRON USD', '', '0.230324 +0.000619 (+0.27%)', '+0.000619', '+0.27%', '20.136B', '10.036M', '10.036M', '10.036M', '87.423B', '95.84%', '']\n",
            "Row Data: ['STETH-USD', 'Lido Staked ETH USD', '', '2,025.63 +135.14 (+7.15%)', '+135.14', '+7.15%', '18.897B', '72.08M', '72.08M', '72.08M', '9.329M', '-45.02%', '']\n",
            "Row Data: ['WBTC-USD', 'Wrapped Bitcoin USD', '', '84,953.81 +3,195.95 (+3.91%)', '+3,195.95', '+3.91%', '10.966B', '260.846M', '260.846M', '260.846M', '129,077', '21.78%', '']\n",
            "Row Data: ['LINK-USD', 'Chainlink USD', '', '14.39 +0.79 (+5.85%)', '+0.79', '+5.85%', '9.456B', '449.115M', '449.115M', '449.115M', '657.1M', '-24.36%', '']\n",
            "Row Data: ['TON11419-USD', 'Toncoin USD', '', '3.7433 +0.1502 (+4.18%)', '+0.1502', '+4.18%', '9.29B', '325.509M', '325.509M', '325.509M', '2.482B', '-15.83%', '']\n",
            "Row Data: ['LEO-USD', 'UNUS SED LEO USD', '', '9.8252 +0.0997 (+1.03%)', '+0.0997', '+1.03%', '9.078B', '2.842M', '2.842M', '2.842M', '923.908M', '58.30%', '']\n",
            "Row Data: ['WSTETH-USD', 'Lido wstETH USD', '', '2,434.53 +174.59 (+7.73%)', '+174.59', '+7.73%', '9.065B', '7.137M', '7.137M', '7.137M', '3.723M', '-43.05%', '']\n",
            "Row Data: ['XLM-USD', 'Stellar USD', '', '0.288013 +0.019166 (+7.13%)', '+0.019166', '+7.13%', '8.858B', '401.356M', '401.356M', '401.356M', '30.755B', '108.67%', '']\n",
            "Row Data: ['USDS33039-USD', 'USDS USD', '', '1.0019 +0.0034 (+0.34%)', '+0.0034', '+0.34%', '8.424B', '16.827M', '16.827M', '16.827M', '8.407B', '-8.80%', '']\n",
            "Row Data: ['HBAR-USD', 'Hedera USD', '', '0.193856 +0.009230 (+5.00%)', '+0.009230', '+5.00%', '8.184B', '282.323M', '282.323M', '282.323M', '42.219B', '69.28%', '']\n",
            "Row Data: ['AVAX-USD', 'Avalanche USD', '', '19.60 +1.07 (+5.77%)', '+1.07', '+5.77%', '8.123B', '343.191M', '343.191M', '343.191M', '414.454M', '-66.68%', '']\n",
            "Row Data: ['SUI20947-USD', 'Sui USD', '', '2.4189 +0.1632 (+7.24%)', '+0.1632', '+7.24%', '7.668B', '776.022M', '776.022M', '776.022M', '3.17B', '30.18%', '']\n",
            "Row Data: ['SHIB-USD', 'Shiba Inu USD', '', '0.000013 +0.000000 (+2.95%)', '+0.000000', '+2.95%', '7.515B', '174.917M', '174.917M', '174.917M', '589.253T', '-53.57%', '']\n",
            "Row Data: ['DOT-USD', 'Polkadot USD', '', '4.5518 +0.1978 (+4.54%)', '+0.1978', '+4.54%', '7.098B', '233.481M', '233.481M', '233.481M', '1.559B', '-53.07%', '']\n",
            "Row Data: ['LTC-USD', 'Litecoin USD', '', '91.92 +3.76 (+4.27%)', '+3.76', '+4.27%', '6.945B', '554.794M', '554.794M', '554.794M', '75.558M', '6.24%', '']\n",
            "Data berhasil disimpan ke crypto_data.csv\n",
            "\n",
            "5 Data pertama yang berhasil didapat:\n",
            "              Name    Symbol Price                        Change   % Change  \\\n",
            "0      Bitcoin USD   BTC-USD        85,182.27 +3,104.50 (+3.78%)  +3,104.50   \n",
            "1     Ethereum USD   ETH-USD           2,028.66 +130.80 (+6.89%)    +130.80   \n",
            "2          XRP USD   XRP-USD            2.4949 +0.2410 (+10.69%)    +0.2410   \n",
            "3  Tether USDt USD  USDT-USD             1.0003 +0.0007 (+0.07%)    +0.0007   \n",
            "4          BNB USD   BNB-USD              617.62 -14.73 (-2.33%)     -14.73   \n",
            "\n",
            "  Market Cap  \n",
            "0      1.69T  \n",
            "1   244.711B  \n",
            "2   144.976B  \n",
            "3   143.488B  \n",
            "4    87.995B  \n"
          ]
        }
      ]
    },
    {
      "cell_type": "markdown",
      "source": [
        "3. Lakukan web scraping menggunakan Scrapy untuk mengekstrak data negara di https://www.scrapethissite.com/pages/simple/"
      ],
      "metadata": {
        "id": "I4_mkpbwuU5F"
      }
    },
    {
      "cell_type": "code",
      "source": [
        "!pip install scrapy"
      ],
      "metadata": {
        "colab": {
          "base_uri": "https://localhost:8080/"
        },
        "id": "14rf9jVx4xOv",
        "outputId": "6d9da7e1-1dbd-477a-8d09-a15f3e865e53"
      },
      "execution_count": 12,
      "outputs": [
        {
          "output_type": "stream",
          "name": "stdout",
          "text": [
            "Requirement already satisfied: scrapy in /usr/local/lib/python3.11/dist-packages (2.12.0)\n",
            "Requirement already satisfied: Twisted>=21.7.0 in /usr/local/lib/python3.11/dist-packages (from scrapy) (24.11.0)\n",
            "Requirement already satisfied: cryptography>=37.0.0 in /usr/local/lib/python3.11/dist-packages (from scrapy) (43.0.3)\n",
            "Requirement already satisfied: cssselect>=0.9.1 in /usr/local/lib/python3.11/dist-packages (from scrapy) (1.3.0)\n",
            "Requirement already satisfied: itemloaders>=1.0.1 in /usr/local/lib/python3.11/dist-packages (from scrapy) (1.3.2)\n",
            "Requirement already satisfied: parsel>=1.5.0 in /usr/local/lib/python3.11/dist-packages (from scrapy) (1.10.0)\n",
            "Requirement already satisfied: pyOpenSSL>=22.0.0 in /usr/local/lib/python3.11/dist-packages (from scrapy) (24.2.1)\n",
            "Requirement already satisfied: queuelib>=1.4.2 in /usr/local/lib/python3.11/dist-packages (from scrapy) (1.7.0)\n",
            "Requirement already satisfied: service-identity>=18.1.0 in /usr/local/lib/python3.11/dist-packages (from scrapy) (24.2.0)\n",
            "Requirement already satisfied: w3lib>=1.17.0 in /usr/local/lib/python3.11/dist-packages (from scrapy) (2.3.1)\n",
            "Requirement already satisfied: zope.interface>=5.1.0 in /usr/local/lib/python3.11/dist-packages (from scrapy) (7.2)\n",
            "Requirement already satisfied: protego>=0.1.15 in /usr/local/lib/python3.11/dist-packages (from scrapy) (0.4.0)\n",
            "Requirement already satisfied: itemadapter>=0.1.0 in /usr/local/lib/python3.11/dist-packages (from scrapy) (0.11.0)\n",
            "Requirement already satisfied: packaging in /usr/local/lib/python3.11/dist-packages (from scrapy) (24.2)\n",
            "Requirement already satisfied: tldextract in /usr/local/lib/python3.11/dist-packages (from scrapy) (5.1.3)\n",
            "Requirement already satisfied: lxml>=4.6.0 in /usr/local/lib/python3.11/dist-packages (from scrapy) (5.3.1)\n",
            "Requirement already satisfied: defusedxml>=0.7.1 in /usr/local/lib/python3.11/dist-packages (from scrapy) (0.7.1)\n",
            "Requirement already satisfied: PyDispatcher>=2.0.5 in /usr/local/lib/python3.11/dist-packages (from scrapy) (2.0.7)\n",
            "Requirement already satisfied: cffi>=1.12 in /usr/local/lib/python3.11/dist-packages (from cryptography>=37.0.0->scrapy) (1.17.1)\n",
            "Requirement already satisfied: jmespath>=0.9.5 in /usr/local/lib/python3.11/dist-packages (from itemloaders>=1.0.1->scrapy) (1.0.1)\n",
            "Requirement already satisfied: attrs>=19.1.0 in /usr/local/lib/python3.11/dist-packages (from service-identity>=18.1.0->scrapy) (25.3.0)\n",
            "Requirement already satisfied: pyasn1 in /usr/local/lib/python3.11/dist-packages (from service-identity>=18.1.0->scrapy) (0.6.1)\n",
            "Requirement already satisfied: pyasn1-modules in /usr/local/lib/python3.11/dist-packages (from service-identity>=18.1.0->scrapy) (0.4.1)\n",
            "Requirement already satisfied: automat>=24.8.0 in /usr/local/lib/python3.11/dist-packages (from Twisted>=21.7.0->scrapy) (24.8.1)\n",
            "Requirement already satisfied: constantly>=15.1 in /usr/local/lib/python3.11/dist-packages (from Twisted>=21.7.0->scrapy) (23.10.4)\n",
            "Requirement already satisfied: hyperlink>=17.1.1 in /usr/local/lib/python3.11/dist-packages (from Twisted>=21.7.0->scrapy) (21.0.0)\n",
            "Requirement already satisfied: incremental>=24.7.0 in /usr/local/lib/python3.11/dist-packages (from Twisted>=21.7.0->scrapy) (24.7.2)\n",
            "Requirement already satisfied: typing-extensions>=4.2.0 in /usr/local/lib/python3.11/dist-packages (from Twisted>=21.7.0->scrapy) (4.12.2)\n",
            "Requirement already satisfied: setuptools in /usr/local/lib/python3.11/dist-packages (from zope.interface>=5.1.0->scrapy) (75.1.0)\n",
            "Requirement already satisfied: idna in /usr/local/lib/python3.11/dist-packages (from tldextract->scrapy) (3.10)\n",
            "Requirement already satisfied: requests>=2.1.0 in /usr/local/lib/python3.11/dist-packages (from tldextract->scrapy) (2.32.3)\n",
            "Requirement already satisfied: requests-file>=1.4 in /usr/local/lib/python3.11/dist-packages (from tldextract->scrapy) (2.1.0)\n",
            "Requirement already satisfied: filelock>=3.0.8 in /usr/local/lib/python3.11/dist-packages (from tldextract->scrapy) (3.17.0)\n",
            "Requirement already satisfied: pycparser in /usr/local/lib/python3.11/dist-packages (from cffi>=1.12->cryptography>=37.0.0->scrapy) (2.22)\n",
            "Requirement already satisfied: charset-normalizer<4,>=2 in /usr/local/lib/python3.11/dist-packages (from requests>=2.1.0->tldextract->scrapy) (3.4.1)\n",
            "Requirement already satisfied: urllib3<3,>=1.21.1 in /usr/local/lib/python3.11/dist-packages (from requests>=2.1.0->tldextract->scrapy) (2.3.0)\n",
            "Requirement already satisfied: certifi>=2017.4.17 in /usr/local/lib/python3.11/dist-packages (from requests>=2.1.0->tldextract->scrapy) (2025.1.31)\n"
          ]
        }
      ]
    },
    {
      "cell_type": "code",
      "source": [
        "import scrapy\n",
        "from scrapy.crawler import CrawlerProcess\n",
        "\n",
        "class CountriesSpider(scrapy.Spider):\n",
        "    name = \"countries\"\n",
        "    start_urls = [\"https://www.scrapethissite.com/pages/simple/\"]\n",
        "\n",
        "    def parse(self, response):\n",
        "        countries = response.css(\"div.country\")\n",
        "\n",
        "        for country in countries:\n",
        "            yield {\n",
        "                # pake string() buat ambil text dari <h3>\n",
        "                \"name\": country.xpath(\"string(.//h3[@class='country-name'])\").get(default=\"\").strip(),\n",
        "                \"capital\": country.css(\"span.country-capital::text\").get(default=\"\").strip(),\n",
        "                \"population\": country.css(\"span.country-population::text\").get(default=\"\").strip(),\n",
        "                \"area\": country.css(\"span.country-area::text\").get(default=\"\").strip(),\n",
        "            }\n",
        "\n",
        "# buat jalaninnya\n",
        "process = CrawlerProcess(settings={\n",
        "    \"FEEDS\": {\n",
        "        \"countries.json\": {\n",
        "            \"format\": \"json\",\n",
        "            \"indent\": 4,\n",
        "        }\n",
        "    }\n",
        "})\n",
        "\n",
        "process.crawl(CountriesSpider)\n",
        "process.start()\n"
      ],
      "metadata": {
        "colab": {
          "base_uri": "https://localhost:8080/"
        },
        "id": "pHdoGH0r4yI-",
        "outputId": "14a84ad4-68ea-47a3-c02d-eb5155d054b0"
      },
      "execution_count": 1,
      "outputs": [
        {
          "output_type": "stream",
          "name": "stderr",
          "text": [
            "INFO:scrapy.utils.log:Scrapy 2.12.0 started (bot: scrapybot)\n",
            "2025-03-20 02:40:37 [scrapy.utils.log] INFO: Scrapy 2.12.0 started (bot: scrapybot)\n",
            "INFO:scrapy.utils.log:Versions: lxml 5.3.1.0, libxml2 2.12.9, cssselect 1.3.0, parsel 1.10.0, w3lib 2.3.1, Twisted 24.11.0, Python 3.11.11 (main, Dec  4 2024, 08:55:07) [GCC 11.4.0], pyOpenSSL 24.2.1 (OpenSSL 3.3.2 3 Sep 2024), cryptography 43.0.3, Platform Linux-6.1.85+-x86_64-with-glibc2.35\n",
            "2025-03-20 02:40:37 [scrapy.utils.log] INFO: Versions: lxml 5.3.1.0, libxml2 2.12.9, cssselect 1.3.0, parsel 1.10.0, w3lib 2.3.1, Twisted 24.11.0, Python 3.11.11 (main, Dec  4 2024, 08:55:07) [GCC 11.4.0], pyOpenSSL 24.2.1 (OpenSSL 3.3.2 3 Sep 2024), cryptography 43.0.3, Platform Linux-6.1.85+-x86_64-with-glibc2.35\n",
            "INFO:scrapy.addons:Enabled addons:\n",
            "[]\n",
            "2025-03-20 02:40:37 [scrapy.addons] INFO: Enabled addons:\n",
            "[]\n",
            "DEBUG:scrapy.utils.log:Using reactor: twisted.internet.epollreactor.EPollReactor\n",
            "2025-03-20 02:40:37 [scrapy.utils.log] DEBUG: Using reactor: twisted.internet.epollreactor.EPollReactor\n",
            "INFO:scrapy.extensions.telnet:Telnet Password: 2f69a513b92ff145\n",
            "2025-03-20 02:40:37 [scrapy.extensions.telnet] INFO: Telnet Password: 2f69a513b92ff145\n",
            "INFO:scrapy.middleware:Enabled extensions:\n",
            "['scrapy.extensions.corestats.CoreStats',\n",
            " 'scrapy.extensions.telnet.TelnetConsole',\n",
            " 'scrapy.extensions.memusage.MemoryUsage',\n",
            " 'scrapy.extensions.feedexport.FeedExporter',\n",
            " 'scrapy.extensions.logstats.LogStats']\n",
            "2025-03-20 02:40:37 [scrapy.middleware] INFO: Enabled extensions:\n",
            "['scrapy.extensions.corestats.CoreStats',\n",
            " 'scrapy.extensions.telnet.TelnetConsole',\n",
            " 'scrapy.extensions.memusage.MemoryUsage',\n",
            " 'scrapy.extensions.feedexport.FeedExporter',\n",
            " 'scrapy.extensions.logstats.LogStats']\n",
            "INFO:scrapy.crawler:Overridden settings:\n",
            "{}\n",
            "2025-03-20 02:40:37 [scrapy.crawler] INFO: Overridden settings:\n",
            "{}\n",
            "INFO:scrapy.middleware:Enabled downloader middlewares:\n",
            "['scrapy.downloadermiddlewares.offsite.OffsiteMiddleware',\n",
            " 'scrapy.downloadermiddlewares.httpauth.HttpAuthMiddleware',\n",
            " 'scrapy.downloadermiddlewares.downloadtimeout.DownloadTimeoutMiddleware',\n",
            " 'scrapy.downloadermiddlewares.defaultheaders.DefaultHeadersMiddleware',\n",
            " 'scrapy.downloadermiddlewares.useragent.UserAgentMiddleware',\n",
            " 'scrapy.downloadermiddlewares.retry.RetryMiddleware',\n",
            " 'scrapy.downloadermiddlewares.redirect.MetaRefreshMiddleware',\n",
            " 'scrapy.downloadermiddlewares.httpcompression.HttpCompressionMiddleware',\n",
            " 'scrapy.downloadermiddlewares.redirect.RedirectMiddleware',\n",
            " 'scrapy.downloadermiddlewares.cookies.CookiesMiddleware',\n",
            " 'scrapy.downloadermiddlewares.httpproxy.HttpProxyMiddleware',\n",
            " 'scrapy.downloadermiddlewares.stats.DownloaderStats']\n",
            "2025-03-20 02:40:37 [scrapy.middleware] INFO: Enabled downloader middlewares:\n",
            "['scrapy.downloadermiddlewares.offsite.OffsiteMiddleware',\n",
            " 'scrapy.downloadermiddlewares.httpauth.HttpAuthMiddleware',\n",
            " 'scrapy.downloadermiddlewares.downloadtimeout.DownloadTimeoutMiddleware',\n",
            " 'scrapy.downloadermiddlewares.defaultheaders.DefaultHeadersMiddleware',\n",
            " 'scrapy.downloadermiddlewares.useragent.UserAgentMiddleware',\n",
            " 'scrapy.downloadermiddlewares.retry.RetryMiddleware',\n",
            " 'scrapy.downloadermiddlewares.redirect.MetaRefreshMiddleware',\n",
            " 'scrapy.downloadermiddlewares.httpcompression.HttpCompressionMiddleware',\n",
            " 'scrapy.downloadermiddlewares.redirect.RedirectMiddleware',\n",
            " 'scrapy.downloadermiddlewares.cookies.CookiesMiddleware',\n",
            " 'scrapy.downloadermiddlewares.httpproxy.HttpProxyMiddleware',\n",
            " 'scrapy.downloadermiddlewares.stats.DownloaderStats']\n",
            "INFO:scrapy.middleware:Enabled spider middlewares:\n",
            "['scrapy.spidermiddlewares.httperror.HttpErrorMiddleware',\n",
            " 'scrapy.spidermiddlewares.referer.RefererMiddleware',\n",
            " 'scrapy.spidermiddlewares.urllength.UrlLengthMiddleware',\n",
            " 'scrapy.spidermiddlewares.depth.DepthMiddleware']\n",
            "2025-03-20 02:40:37 [scrapy.middleware] INFO: Enabled spider middlewares:\n",
            "['scrapy.spidermiddlewares.httperror.HttpErrorMiddleware',\n",
            " 'scrapy.spidermiddlewares.referer.RefererMiddleware',\n",
            " 'scrapy.spidermiddlewares.urllength.UrlLengthMiddleware',\n",
            " 'scrapy.spidermiddlewares.depth.DepthMiddleware']\n",
            "INFO:scrapy.middleware:Enabled item pipelines:\n",
            "[]\n",
            "2025-03-20 02:40:37 [scrapy.middleware] INFO: Enabled item pipelines:\n",
            "[]\n",
            "INFO:scrapy.core.engine:Spider opened\n",
            "2025-03-20 02:40:37 [scrapy.core.engine] INFO: Spider opened\n",
            "INFO:scrapy.extensions.logstats:Crawled 0 pages (at 0 pages/min), scraped 0 items (at 0 items/min)\n",
            "2025-03-20 02:40:37 [scrapy.extensions.logstats] INFO: Crawled 0 pages (at 0 pages/min), scraped 0 items (at 0 items/min)\n",
            "INFO:scrapy.extensions.telnet:Telnet console listening on 127.0.0.1:6023\n",
            "2025-03-20 02:40:37 [scrapy.extensions.telnet] INFO: Telnet console listening on 127.0.0.1:6023\n",
            "DEBUG:scrapy.core.engine:Crawled (200) <GET https://www.scrapethissite.com/pages/simple/> (referer: None)\n",
            "2025-03-20 02:40:38 [scrapy.core.engine] DEBUG: Crawled (200) <GET https://www.scrapethissite.com/pages/simple/> (referer: None)\n",
            "DEBUG:scrapy.core.scraper:Scraped from <200 https://www.scrapethissite.com/pages/simple/>\n",
            "{'name': 'Andorra', 'capital': 'Andorra la Vella', 'population': '84000', 'area': '468.0'}\n",
            "2025-03-20 02:40:38 [scrapy.core.scraper] DEBUG: Scraped from <200 https://www.scrapethissite.com/pages/simple/>\n",
            "{'name': 'Andorra', 'capital': 'Andorra la Vella', 'population': '84000', 'area': '468.0'}\n",
            "DEBUG:scrapy.core.scraper:Scraped from <200 https://www.scrapethissite.com/pages/simple/>\n",
            "{'name': 'United Arab Emirates', 'capital': 'Abu Dhabi', 'population': '4975593', 'area': '82880.0'}\n",
            "2025-03-20 02:40:38 [scrapy.core.scraper] DEBUG: Scraped from <200 https://www.scrapethissite.com/pages/simple/>\n",
            "{'name': 'United Arab Emirates', 'capital': 'Abu Dhabi', 'population': '4975593', 'area': '82880.0'}\n",
            "DEBUG:scrapy.core.scraper:Scraped from <200 https://www.scrapethissite.com/pages/simple/>\n",
            "{'name': 'Afghanistan', 'capital': 'Kabul', 'population': '29121286', 'area': '647500.0'}\n",
            "2025-03-20 02:40:38 [scrapy.core.scraper] DEBUG: Scraped from <200 https://www.scrapethissite.com/pages/simple/>\n",
            "{'name': 'Afghanistan', 'capital': 'Kabul', 'population': '29121286', 'area': '647500.0'}\n",
            "DEBUG:scrapy.core.scraper:Scraped from <200 https://www.scrapethissite.com/pages/simple/>\n",
            "{'name': 'Antigua and Barbuda', 'capital': \"St. John's\", 'population': '86754', 'area': '443.0'}\n",
            "2025-03-20 02:40:38 [scrapy.core.scraper] DEBUG: Scraped from <200 https://www.scrapethissite.com/pages/simple/>\n",
            "{'name': 'Antigua and Barbuda', 'capital': \"St. John's\", 'population': '86754', 'area': '443.0'}\n",
            "DEBUG:scrapy.core.scraper:Scraped from <200 https://www.scrapethissite.com/pages/simple/>\n",
            "{'name': 'Anguilla', 'capital': 'The Valley', 'population': '13254', 'area': '102.0'}\n",
            "2025-03-20 02:40:38 [scrapy.core.scraper] DEBUG: Scraped from <200 https://www.scrapethissite.com/pages/simple/>\n",
            "{'name': 'Anguilla', 'capital': 'The Valley', 'population': '13254', 'area': '102.0'}\n",
            "DEBUG:scrapy.core.scraper:Scraped from <200 https://www.scrapethissite.com/pages/simple/>\n",
            "{'name': 'Albania', 'capital': 'Tirana', 'population': '2986952', 'area': '28748.0'}\n",
            "2025-03-20 02:40:38 [scrapy.core.scraper] DEBUG: Scraped from <200 https://www.scrapethissite.com/pages/simple/>\n",
            "{'name': 'Albania', 'capital': 'Tirana', 'population': '2986952', 'area': '28748.0'}\n",
            "DEBUG:scrapy.core.scraper:Scraped from <200 https://www.scrapethissite.com/pages/simple/>\n",
            "{'name': 'Armenia', 'capital': 'Yerevan', 'population': '2968000', 'area': '29800.0'}\n",
            "2025-03-20 02:40:38 [scrapy.core.scraper] DEBUG: Scraped from <200 https://www.scrapethissite.com/pages/simple/>\n",
            "{'name': 'Armenia', 'capital': 'Yerevan', 'population': '2968000', 'area': '29800.0'}\n",
            "DEBUG:scrapy.core.scraper:Scraped from <200 https://www.scrapethissite.com/pages/simple/>\n",
            "{'name': 'Angola', 'capital': 'Luanda', 'population': '13068161', 'area': '1246700.0'}\n",
            "2025-03-20 02:40:38 [scrapy.core.scraper] DEBUG: Scraped from <200 https://www.scrapethissite.com/pages/simple/>\n",
            "{'name': 'Angola', 'capital': 'Luanda', 'population': '13068161', 'area': '1246700.0'}\n",
            "DEBUG:scrapy.core.scraper:Scraped from <200 https://www.scrapethissite.com/pages/simple/>\n",
            "{'name': 'Antarctica', 'capital': 'None', 'population': '0', 'area': '1.4E7'}\n",
            "2025-03-20 02:40:38 [scrapy.core.scraper] DEBUG: Scraped from <200 https://www.scrapethissite.com/pages/simple/>\n",
            "{'name': 'Antarctica', 'capital': 'None', 'population': '0', 'area': '1.4E7'}\n",
            "DEBUG:scrapy.core.scraper:Scraped from <200 https://www.scrapethissite.com/pages/simple/>\n",
            "{'name': 'Argentina', 'capital': 'Buenos Aires', 'population': '41343201', 'area': '2766890.0'}\n",
            "2025-03-20 02:40:38 [scrapy.core.scraper] DEBUG: Scraped from <200 https://www.scrapethissite.com/pages/simple/>\n",
            "{'name': 'Argentina', 'capital': 'Buenos Aires', 'population': '41343201', 'area': '2766890.0'}\n",
            "DEBUG:scrapy.core.scraper:Scraped from <200 https://www.scrapethissite.com/pages/simple/>\n",
            "{'name': 'American Samoa', 'capital': 'Pago Pago', 'population': '57881', 'area': '199.0'}\n",
            "2025-03-20 02:40:38 [scrapy.core.scraper] DEBUG: Scraped from <200 https://www.scrapethissite.com/pages/simple/>\n",
            "{'name': 'American Samoa', 'capital': 'Pago Pago', 'population': '57881', 'area': '199.0'}\n",
            "DEBUG:scrapy.core.scraper:Scraped from <200 https://www.scrapethissite.com/pages/simple/>\n",
            "{'name': 'Austria', 'capital': 'Vienna', 'population': '8205000', 'area': '83858.0'}\n",
            "2025-03-20 02:40:38 [scrapy.core.scraper] DEBUG: Scraped from <200 https://www.scrapethissite.com/pages/simple/>\n",
            "{'name': 'Austria', 'capital': 'Vienna', 'population': '8205000', 'area': '83858.0'}\n",
            "DEBUG:scrapy.core.scraper:Scraped from <200 https://www.scrapethissite.com/pages/simple/>\n",
            "{'name': 'Australia', 'capital': 'Canberra', 'population': '21515754', 'area': '7686850.0'}\n",
            "2025-03-20 02:40:38 [scrapy.core.scraper] DEBUG: Scraped from <200 https://www.scrapethissite.com/pages/simple/>\n",
            "{'name': 'Australia', 'capital': 'Canberra', 'population': '21515754', 'area': '7686850.0'}\n",
            "DEBUG:scrapy.core.scraper:Scraped from <200 https://www.scrapethissite.com/pages/simple/>\n",
            "{'name': 'Aruba', 'capital': 'Oranjestad', 'population': '71566', 'area': '193.0'}\n",
            "2025-03-20 02:40:38 [scrapy.core.scraper] DEBUG: Scraped from <200 https://www.scrapethissite.com/pages/simple/>\n",
            "{'name': 'Aruba', 'capital': 'Oranjestad', 'population': '71566', 'area': '193.0'}\n",
            "DEBUG:scrapy.core.scraper:Scraped from <200 https://www.scrapethissite.com/pages/simple/>\n",
            "{'name': 'Åland', 'capital': 'Mariehamn', 'population': '26711', 'area': '1580.0'}\n",
            "2025-03-20 02:40:38 [scrapy.core.scraper] DEBUG: Scraped from <200 https://www.scrapethissite.com/pages/simple/>\n",
            "{'name': 'Åland', 'capital': 'Mariehamn', 'population': '26711', 'area': '1580.0'}\n",
            "DEBUG:scrapy.core.scraper:Scraped from <200 https://www.scrapethissite.com/pages/simple/>\n",
            "{'name': 'Azerbaijan', 'capital': 'Baku', 'population': '8303512', 'area': '86600.0'}\n",
            "2025-03-20 02:40:38 [scrapy.core.scraper] DEBUG: Scraped from <200 https://www.scrapethissite.com/pages/simple/>\n",
            "{'name': 'Azerbaijan', 'capital': 'Baku', 'population': '8303512', 'area': '86600.0'}\n",
            "DEBUG:scrapy.core.scraper:Scraped from <200 https://www.scrapethissite.com/pages/simple/>\n",
            "{'name': 'Bosnia and Herzegovina', 'capital': 'Sarajevo', 'population': '4590000', 'area': '51129.0'}\n",
            "2025-03-20 02:40:38 [scrapy.core.scraper] DEBUG: Scraped from <200 https://www.scrapethissite.com/pages/simple/>\n",
            "{'name': 'Bosnia and Herzegovina', 'capital': 'Sarajevo', 'population': '4590000', 'area': '51129.0'}\n",
            "DEBUG:scrapy.core.scraper:Scraped from <200 https://www.scrapethissite.com/pages/simple/>\n",
            "{'name': 'Barbados', 'capital': 'Bridgetown', 'population': '285653', 'area': '431.0'}\n",
            "2025-03-20 02:40:38 [scrapy.core.scraper] DEBUG: Scraped from <200 https://www.scrapethissite.com/pages/simple/>\n",
            "{'name': 'Barbados', 'capital': 'Bridgetown', 'population': '285653', 'area': '431.0'}\n",
            "DEBUG:scrapy.core.scraper:Scraped from <200 https://www.scrapethissite.com/pages/simple/>\n",
            "{'name': 'Bangladesh', 'capital': 'Dhaka', 'population': '156118464', 'area': '144000.0'}\n",
            "2025-03-20 02:40:38 [scrapy.core.scraper] DEBUG: Scraped from <200 https://www.scrapethissite.com/pages/simple/>\n",
            "{'name': 'Bangladesh', 'capital': 'Dhaka', 'population': '156118464', 'area': '144000.0'}\n",
            "DEBUG:scrapy.core.scraper:Scraped from <200 https://www.scrapethissite.com/pages/simple/>\n",
            "{'name': 'Belgium', 'capital': 'Brussels', 'population': '10403000', 'area': '30510.0'}\n",
            "2025-03-20 02:40:38 [scrapy.core.scraper] DEBUG: Scraped from <200 https://www.scrapethissite.com/pages/simple/>\n",
            "{'name': 'Belgium', 'capital': 'Brussels', 'population': '10403000', 'area': '30510.0'}\n",
            "DEBUG:scrapy.core.scraper:Scraped from <200 https://www.scrapethissite.com/pages/simple/>\n",
            "{'name': 'Burkina Faso', 'capital': 'Ouagadougou', 'population': '16241811', 'area': '274200.0'}\n",
            "2025-03-20 02:40:38 [scrapy.core.scraper] DEBUG: Scraped from <200 https://www.scrapethissite.com/pages/simple/>\n",
            "{'name': 'Burkina Faso', 'capital': 'Ouagadougou', 'population': '16241811', 'area': '274200.0'}\n",
            "DEBUG:scrapy.core.scraper:Scraped from <200 https://www.scrapethissite.com/pages/simple/>\n",
            "{'name': 'Bulgaria', 'capital': 'Sofia', 'population': '7148785', 'area': '110910.0'}\n",
            "2025-03-20 02:40:38 [scrapy.core.scraper] DEBUG: Scraped from <200 https://www.scrapethissite.com/pages/simple/>\n",
            "{'name': 'Bulgaria', 'capital': 'Sofia', 'population': '7148785', 'area': '110910.0'}\n",
            "DEBUG:scrapy.core.scraper:Scraped from <200 https://www.scrapethissite.com/pages/simple/>\n",
            "{'name': 'Bahrain', 'capital': 'Manama', 'population': '738004', 'area': '665.0'}\n",
            "2025-03-20 02:40:38 [scrapy.core.scraper] DEBUG: Scraped from <200 https://www.scrapethissite.com/pages/simple/>\n",
            "{'name': 'Bahrain', 'capital': 'Manama', 'population': '738004', 'area': '665.0'}\n",
            "DEBUG:scrapy.core.scraper:Scraped from <200 https://www.scrapethissite.com/pages/simple/>\n",
            "{'name': 'Burundi', 'capital': 'Bujumbura', 'population': '9863117', 'area': '27830.0'}\n",
            "2025-03-20 02:40:38 [scrapy.core.scraper] DEBUG: Scraped from <200 https://www.scrapethissite.com/pages/simple/>\n",
            "{'name': 'Burundi', 'capital': 'Bujumbura', 'population': '9863117', 'area': '27830.0'}\n",
            "DEBUG:scrapy.core.scraper:Scraped from <200 https://www.scrapethissite.com/pages/simple/>\n",
            "{'name': 'Benin', 'capital': 'Porto-Novo', 'population': '9056010', 'area': '112620.0'}\n",
            "2025-03-20 02:40:38 [scrapy.core.scraper] DEBUG: Scraped from <200 https://www.scrapethissite.com/pages/simple/>\n",
            "{'name': 'Benin', 'capital': 'Porto-Novo', 'population': '9056010', 'area': '112620.0'}\n",
            "DEBUG:scrapy.core.scraper:Scraped from <200 https://www.scrapethissite.com/pages/simple/>\n",
            "{'name': 'Saint Barthélemy', 'capital': 'Gustavia', 'population': '8450', 'area': '21.0'}\n",
            "2025-03-20 02:40:38 [scrapy.core.scraper] DEBUG: Scraped from <200 https://www.scrapethissite.com/pages/simple/>\n",
            "{'name': 'Saint Barthélemy', 'capital': 'Gustavia', 'population': '8450', 'area': '21.0'}\n",
            "DEBUG:scrapy.core.scraper:Scraped from <200 https://www.scrapethissite.com/pages/simple/>\n",
            "{'name': 'Bermuda', 'capital': 'Hamilton', 'population': '65365', 'area': '53.0'}\n",
            "2025-03-20 02:40:38 [scrapy.core.scraper] DEBUG: Scraped from <200 https://www.scrapethissite.com/pages/simple/>\n",
            "{'name': 'Bermuda', 'capital': 'Hamilton', 'population': '65365', 'area': '53.0'}\n",
            "DEBUG:scrapy.core.scraper:Scraped from <200 https://www.scrapethissite.com/pages/simple/>\n",
            "{'name': 'Brunei', 'capital': 'Bandar Seri Begawan', 'population': '395027', 'area': '5770.0'}\n",
            "2025-03-20 02:40:38 [scrapy.core.scraper] DEBUG: Scraped from <200 https://www.scrapethissite.com/pages/simple/>\n",
            "{'name': 'Brunei', 'capital': 'Bandar Seri Begawan', 'population': '395027', 'area': '5770.0'}\n",
            "DEBUG:scrapy.core.scraper:Scraped from <200 https://www.scrapethissite.com/pages/simple/>\n",
            "{'name': 'Bolivia', 'capital': 'Sucre', 'population': '9947418', 'area': '1098580.0'}\n",
            "2025-03-20 02:40:38 [scrapy.core.scraper] DEBUG: Scraped from <200 https://www.scrapethissite.com/pages/simple/>\n",
            "{'name': 'Bolivia', 'capital': 'Sucre', 'population': '9947418', 'area': '1098580.0'}\n",
            "DEBUG:scrapy.core.scraper:Scraped from <200 https://www.scrapethissite.com/pages/simple/>\n",
            "{'name': 'Bonaire', 'capital': 'Kralendijk', 'population': '18012', 'area': '328.0'}\n",
            "2025-03-20 02:40:38 [scrapy.core.scraper] DEBUG: Scraped from <200 https://www.scrapethissite.com/pages/simple/>\n",
            "{'name': 'Bonaire', 'capital': 'Kralendijk', 'population': '18012', 'area': '328.0'}\n",
            "DEBUG:scrapy.core.scraper:Scraped from <200 https://www.scrapethissite.com/pages/simple/>\n",
            "{'name': 'Brazil', 'capital': 'Brasília', 'population': '201103330', 'area': '8511965.0'}\n",
            "2025-03-20 02:40:38 [scrapy.core.scraper] DEBUG: Scraped from <200 https://www.scrapethissite.com/pages/simple/>\n",
            "{'name': 'Brazil', 'capital': 'Brasília', 'population': '201103330', 'area': '8511965.0'}\n",
            "DEBUG:scrapy.core.scraper:Scraped from <200 https://www.scrapethissite.com/pages/simple/>\n",
            "{'name': 'Bahamas', 'capital': 'Nassau', 'population': '301790', 'area': '13940.0'}\n",
            "2025-03-20 02:40:38 [scrapy.core.scraper] DEBUG: Scraped from <200 https://www.scrapethissite.com/pages/simple/>\n",
            "{'name': 'Bahamas', 'capital': 'Nassau', 'population': '301790', 'area': '13940.0'}\n",
            "DEBUG:scrapy.core.scraper:Scraped from <200 https://www.scrapethissite.com/pages/simple/>\n",
            "{'name': 'Bhutan', 'capital': 'Thimphu', 'population': '699847', 'area': '47000.0'}\n",
            "2025-03-20 02:40:38 [scrapy.core.scraper] DEBUG: Scraped from <200 https://www.scrapethissite.com/pages/simple/>\n",
            "{'name': 'Bhutan', 'capital': 'Thimphu', 'population': '699847', 'area': '47000.0'}\n",
            "DEBUG:scrapy.core.scraper:Scraped from <200 https://www.scrapethissite.com/pages/simple/>\n",
            "{'name': 'Bouvet Island', 'capital': 'None', 'population': '0', 'area': '49.0'}\n",
            "2025-03-20 02:40:38 [scrapy.core.scraper] DEBUG: Scraped from <200 https://www.scrapethissite.com/pages/simple/>\n",
            "{'name': 'Bouvet Island', 'capital': 'None', 'population': '0', 'area': '49.0'}\n",
            "DEBUG:scrapy.core.scraper:Scraped from <200 https://www.scrapethissite.com/pages/simple/>\n",
            "{'name': 'Botswana', 'capital': 'Gaborone', 'population': '2029307', 'area': '600370.0'}\n",
            "2025-03-20 02:40:38 [scrapy.core.scraper] DEBUG: Scraped from <200 https://www.scrapethissite.com/pages/simple/>\n",
            "{'name': 'Botswana', 'capital': 'Gaborone', 'population': '2029307', 'area': '600370.0'}\n",
            "DEBUG:scrapy.core.scraper:Scraped from <200 https://www.scrapethissite.com/pages/simple/>\n",
            "{'name': 'Belarus', 'capital': 'Minsk', 'population': '9685000', 'area': '207600.0'}\n",
            "2025-03-20 02:40:38 [scrapy.core.scraper] DEBUG: Scraped from <200 https://www.scrapethissite.com/pages/simple/>\n",
            "{'name': 'Belarus', 'capital': 'Minsk', 'population': '9685000', 'area': '207600.0'}\n",
            "DEBUG:scrapy.core.scraper:Scraped from <200 https://www.scrapethissite.com/pages/simple/>\n",
            "{'name': 'Belize', 'capital': 'Belmopan', 'population': '314522', 'area': '22966.0'}\n",
            "2025-03-20 02:40:38 [scrapy.core.scraper] DEBUG: Scraped from <200 https://www.scrapethissite.com/pages/simple/>\n",
            "{'name': 'Belize', 'capital': 'Belmopan', 'population': '314522', 'area': '22966.0'}\n",
            "DEBUG:scrapy.core.scraper:Scraped from <200 https://www.scrapethissite.com/pages/simple/>\n",
            "{'name': 'Canada', 'capital': 'Ottawa', 'population': '33679000', 'area': '9984670.0'}\n",
            "2025-03-20 02:40:38 [scrapy.core.scraper] DEBUG: Scraped from <200 https://www.scrapethissite.com/pages/simple/>\n",
            "{'name': 'Canada', 'capital': 'Ottawa', 'population': '33679000', 'area': '9984670.0'}\n",
            "DEBUG:scrapy.core.scraper:Scraped from <200 https://www.scrapethissite.com/pages/simple/>\n",
            "{'name': 'Cocos [Keeling] Islands', 'capital': 'West Island', 'population': '628', 'area': '14.0'}\n",
            "2025-03-20 02:40:38 [scrapy.core.scraper] DEBUG: Scraped from <200 https://www.scrapethissite.com/pages/simple/>\n",
            "{'name': 'Cocos [Keeling] Islands', 'capital': 'West Island', 'population': '628', 'area': '14.0'}\n",
            "DEBUG:scrapy.core.scraper:Scraped from <200 https://www.scrapethissite.com/pages/simple/>\n",
            "{'name': 'Democratic Republic of the Congo', 'capital': 'Kinshasa', 'population': '70916439', 'area': '2345410.0'}\n",
            "2025-03-20 02:40:38 [scrapy.core.scraper] DEBUG: Scraped from <200 https://www.scrapethissite.com/pages/simple/>\n",
            "{'name': 'Democratic Republic of the Congo', 'capital': 'Kinshasa', 'population': '70916439', 'area': '2345410.0'}\n",
            "DEBUG:scrapy.core.scraper:Scraped from <200 https://www.scrapethissite.com/pages/simple/>\n",
            "{'name': 'Central African Republic', 'capital': 'Bangui', 'population': '4844927', 'area': '622984.0'}\n",
            "2025-03-20 02:40:38 [scrapy.core.scraper] DEBUG: Scraped from <200 https://www.scrapethissite.com/pages/simple/>\n",
            "{'name': 'Central African Republic', 'capital': 'Bangui', 'population': '4844927', 'area': '622984.0'}\n",
            "DEBUG:scrapy.core.scraper:Scraped from <200 https://www.scrapethissite.com/pages/simple/>\n",
            "{'name': 'Republic of the Congo', 'capital': 'Brazzaville', 'population': '3039126', 'area': '342000.0'}\n",
            "2025-03-20 02:40:38 [scrapy.core.scraper] DEBUG: Scraped from <200 https://www.scrapethissite.com/pages/simple/>\n",
            "{'name': 'Republic of the Congo', 'capital': 'Brazzaville', 'population': '3039126', 'area': '342000.0'}\n",
            "DEBUG:scrapy.core.scraper:Scraped from <200 https://www.scrapethissite.com/pages/simple/>\n",
            "{'name': 'Switzerland', 'capital': 'Bern', 'population': '7581000', 'area': '41290.0'}\n",
            "2025-03-20 02:40:38 [scrapy.core.scraper] DEBUG: Scraped from <200 https://www.scrapethissite.com/pages/simple/>\n",
            "{'name': 'Switzerland', 'capital': 'Bern', 'population': '7581000', 'area': '41290.0'}\n",
            "DEBUG:scrapy.core.scraper:Scraped from <200 https://www.scrapethissite.com/pages/simple/>\n",
            "{'name': 'Ivory Coast', 'capital': 'Yamoussoukro', 'population': '21058798', 'area': '322460.0'}\n",
            "2025-03-20 02:40:38 [scrapy.core.scraper] DEBUG: Scraped from <200 https://www.scrapethissite.com/pages/simple/>\n",
            "{'name': 'Ivory Coast', 'capital': 'Yamoussoukro', 'population': '21058798', 'area': '322460.0'}\n",
            "DEBUG:scrapy.core.scraper:Scraped from <200 https://www.scrapethissite.com/pages/simple/>\n",
            "{'name': 'Cook Islands', 'capital': 'Avarua', 'population': '21388', 'area': '240.0'}\n",
            "2025-03-20 02:40:38 [scrapy.core.scraper] DEBUG: Scraped from <200 https://www.scrapethissite.com/pages/simple/>\n",
            "{'name': 'Cook Islands', 'capital': 'Avarua', 'population': '21388', 'area': '240.0'}\n",
            "DEBUG:scrapy.core.scraper:Scraped from <200 https://www.scrapethissite.com/pages/simple/>\n",
            "{'name': 'Chile', 'capital': 'Santiago', 'population': '16746491', 'area': '756950.0'}\n",
            "2025-03-20 02:40:38 [scrapy.core.scraper] DEBUG: Scraped from <200 https://www.scrapethissite.com/pages/simple/>\n",
            "{'name': 'Chile', 'capital': 'Santiago', 'population': '16746491', 'area': '756950.0'}\n",
            "DEBUG:scrapy.core.scraper:Scraped from <200 https://www.scrapethissite.com/pages/simple/>\n",
            "{'name': 'Cameroon', 'capital': 'Yaoundé', 'population': '19294149', 'area': '475440.0'}\n",
            "2025-03-20 02:40:38 [scrapy.core.scraper] DEBUG: Scraped from <200 https://www.scrapethissite.com/pages/simple/>\n",
            "{'name': 'Cameroon', 'capital': 'Yaoundé', 'population': '19294149', 'area': '475440.0'}\n",
            "DEBUG:scrapy.core.scraper:Scraped from <200 https://www.scrapethissite.com/pages/simple/>\n",
            "{'name': 'China', 'capital': 'Beijing', 'population': '1330044000', 'area': '9596960.0'}\n",
            "2025-03-20 02:40:38 [scrapy.core.scraper] DEBUG: Scraped from <200 https://www.scrapethissite.com/pages/simple/>\n",
            "{'name': 'China', 'capital': 'Beijing', 'population': '1330044000', 'area': '9596960.0'}\n",
            "DEBUG:scrapy.core.scraper:Scraped from <200 https://www.scrapethissite.com/pages/simple/>\n",
            "{'name': 'Colombia', 'capital': 'Bogotá', 'population': '47790000', 'area': '1138910.0'}\n",
            "2025-03-20 02:40:38 [scrapy.core.scraper] DEBUG: Scraped from <200 https://www.scrapethissite.com/pages/simple/>\n",
            "{'name': 'Colombia', 'capital': 'Bogotá', 'population': '47790000', 'area': '1138910.0'}\n",
            "DEBUG:scrapy.core.scraper:Scraped from <200 https://www.scrapethissite.com/pages/simple/>\n",
            "{'name': 'Costa Rica', 'capital': 'San José', 'population': '4516220', 'area': '51100.0'}\n",
            "2025-03-20 02:40:38 [scrapy.core.scraper] DEBUG: Scraped from <200 https://www.scrapethissite.com/pages/simple/>\n",
            "{'name': 'Costa Rica', 'capital': 'San José', 'population': '4516220', 'area': '51100.0'}\n",
            "DEBUG:scrapy.core.scraper:Scraped from <200 https://www.scrapethissite.com/pages/simple/>\n",
            "{'name': 'Cuba', 'capital': 'Havana', 'population': '11423000', 'area': '110860.0'}\n",
            "2025-03-20 02:40:38 [scrapy.core.scraper] DEBUG: Scraped from <200 https://www.scrapethissite.com/pages/simple/>\n",
            "{'name': 'Cuba', 'capital': 'Havana', 'population': '11423000', 'area': '110860.0'}\n",
            "DEBUG:scrapy.core.scraper:Scraped from <200 https://www.scrapethissite.com/pages/simple/>\n",
            "{'name': 'Cape Verde', 'capital': 'Praia', 'population': '508659', 'area': '4033.0'}\n",
            "2025-03-20 02:40:38 [scrapy.core.scraper] DEBUG: Scraped from <200 https://www.scrapethissite.com/pages/simple/>\n",
            "{'name': 'Cape Verde', 'capital': 'Praia', 'population': '508659', 'area': '4033.0'}\n",
            "DEBUG:scrapy.core.scraper:Scraped from <200 https://www.scrapethissite.com/pages/simple/>\n",
            "{'name': 'Curacao', 'capital': 'Willemstad', 'population': '141766', 'area': '444.0'}\n",
            "2025-03-20 02:40:38 [scrapy.core.scraper] DEBUG: Scraped from <200 https://www.scrapethissite.com/pages/simple/>\n",
            "{'name': 'Curacao', 'capital': 'Willemstad', 'population': '141766', 'area': '444.0'}\n",
            "DEBUG:scrapy.core.scraper:Scraped from <200 https://www.scrapethissite.com/pages/simple/>\n",
            "{'name': 'Christmas Island', 'capital': 'Flying Fish Cove', 'population': '1500', 'area': '135.0'}\n",
            "2025-03-20 02:40:38 [scrapy.core.scraper] DEBUG: Scraped from <200 https://www.scrapethissite.com/pages/simple/>\n",
            "{'name': 'Christmas Island', 'capital': 'Flying Fish Cove', 'population': '1500', 'area': '135.0'}\n",
            "DEBUG:scrapy.core.scraper:Scraped from <200 https://www.scrapethissite.com/pages/simple/>\n",
            "{'name': 'Cyprus', 'capital': 'Nicosia', 'population': '1102677', 'area': '9250.0'}\n",
            "2025-03-20 02:40:38 [scrapy.core.scraper] DEBUG: Scraped from <200 https://www.scrapethissite.com/pages/simple/>\n",
            "{'name': 'Cyprus', 'capital': 'Nicosia', 'population': '1102677', 'area': '9250.0'}\n",
            "DEBUG:scrapy.core.scraper:Scraped from <200 https://www.scrapethissite.com/pages/simple/>\n",
            "{'name': 'Czech Republic', 'capital': 'Prague', 'population': '10476000', 'area': '78866.0'}\n",
            "2025-03-20 02:40:38 [scrapy.core.scraper] DEBUG: Scraped from <200 https://www.scrapethissite.com/pages/simple/>\n",
            "{'name': 'Czech Republic', 'capital': 'Prague', 'population': '10476000', 'area': '78866.0'}\n",
            "DEBUG:scrapy.core.scraper:Scraped from <200 https://www.scrapethissite.com/pages/simple/>\n",
            "{'name': 'Germany', 'capital': 'Berlin', 'population': '81802257', 'area': '357021.0'}\n",
            "2025-03-20 02:40:38 [scrapy.core.scraper] DEBUG: Scraped from <200 https://www.scrapethissite.com/pages/simple/>\n",
            "{'name': 'Germany', 'capital': 'Berlin', 'population': '81802257', 'area': '357021.0'}\n",
            "DEBUG:scrapy.core.scraper:Scraped from <200 https://www.scrapethissite.com/pages/simple/>\n",
            "{'name': 'Djibouti', 'capital': 'Djibouti', 'population': '740528', 'area': '23000.0'}\n",
            "2025-03-20 02:40:38 [scrapy.core.scraper] DEBUG: Scraped from <200 https://www.scrapethissite.com/pages/simple/>\n",
            "{'name': 'Djibouti', 'capital': 'Djibouti', 'population': '740528', 'area': '23000.0'}\n",
            "DEBUG:scrapy.core.scraper:Scraped from <200 https://www.scrapethissite.com/pages/simple/>\n",
            "{'name': 'Denmark', 'capital': 'Copenhagen', 'population': '5484000', 'area': '43094.0'}\n",
            "2025-03-20 02:40:38 [scrapy.core.scraper] DEBUG: Scraped from <200 https://www.scrapethissite.com/pages/simple/>\n",
            "{'name': 'Denmark', 'capital': 'Copenhagen', 'population': '5484000', 'area': '43094.0'}\n",
            "DEBUG:scrapy.core.scraper:Scraped from <200 https://www.scrapethissite.com/pages/simple/>\n",
            "{'name': 'Dominica', 'capital': 'Roseau', 'population': '72813', 'area': '754.0'}\n",
            "2025-03-20 02:40:38 [scrapy.core.scraper] DEBUG: Scraped from <200 https://www.scrapethissite.com/pages/simple/>\n",
            "{'name': 'Dominica', 'capital': 'Roseau', 'population': '72813', 'area': '754.0'}\n",
            "DEBUG:scrapy.core.scraper:Scraped from <200 https://www.scrapethissite.com/pages/simple/>\n",
            "{'name': 'Dominican Republic', 'capital': 'Santo Domingo', 'population': '9823821', 'area': '48730.0'}\n",
            "2025-03-20 02:40:38 [scrapy.core.scraper] DEBUG: Scraped from <200 https://www.scrapethissite.com/pages/simple/>\n",
            "{'name': 'Dominican Republic', 'capital': 'Santo Domingo', 'population': '9823821', 'area': '48730.0'}\n",
            "DEBUG:scrapy.core.scraper:Scraped from <200 https://www.scrapethissite.com/pages/simple/>\n",
            "{'name': 'Algeria', 'capital': 'Algiers', 'population': '34586184', 'area': '2381740.0'}\n",
            "2025-03-20 02:40:38 [scrapy.core.scraper] DEBUG: Scraped from <200 https://www.scrapethissite.com/pages/simple/>\n",
            "{'name': 'Algeria', 'capital': 'Algiers', 'population': '34586184', 'area': '2381740.0'}\n",
            "DEBUG:scrapy.core.scraper:Scraped from <200 https://www.scrapethissite.com/pages/simple/>\n",
            "{'name': 'Ecuador', 'capital': 'Quito', 'population': '14790608', 'area': '283560.0'}\n",
            "2025-03-20 02:40:38 [scrapy.core.scraper] DEBUG: Scraped from <200 https://www.scrapethissite.com/pages/simple/>\n",
            "{'name': 'Ecuador', 'capital': 'Quito', 'population': '14790608', 'area': '283560.0'}\n",
            "DEBUG:scrapy.core.scraper:Scraped from <200 https://www.scrapethissite.com/pages/simple/>\n",
            "{'name': 'Estonia', 'capital': 'Tallinn', 'population': '1291170', 'area': '45226.0'}\n",
            "2025-03-20 02:40:38 [scrapy.core.scraper] DEBUG: Scraped from <200 https://www.scrapethissite.com/pages/simple/>\n",
            "{'name': 'Estonia', 'capital': 'Tallinn', 'population': '1291170', 'area': '45226.0'}\n",
            "DEBUG:scrapy.core.scraper:Scraped from <200 https://www.scrapethissite.com/pages/simple/>\n",
            "{'name': 'Egypt', 'capital': 'Cairo', 'population': '80471869', 'area': '1001450.0'}\n",
            "2025-03-20 02:40:38 [scrapy.core.scraper] DEBUG: Scraped from <200 https://www.scrapethissite.com/pages/simple/>\n",
            "{'name': 'Egypt', 'capital': 'Cairo', 'population': '80471869', 'area': '1001450.0'}\n",
            "DEBUG:scrapy.core.scraper:Scraped from <200 https://www.scrapethissite.com/pages/simple/>\n",
            "{'name': 'Western Sahara', 'capital': 'Laâyoune / El Aaiún', 'population': '273008', 'area': '266000.0'}\n",
            "2025-03-20 02:40:38 [scrapy.core.scraper] DEBUG: Scraped from <200 https://www.scrapethissite.com/pages/simple/>\n",
            "{'name': 'Western Sahara', 'capital': 'Laâyoune / El Aaiún', 'population': '273008', 'area': '266000.0'}\n",
            "DEBUG:scrapy.core.scraper:Scraped from <200 https://www.scrapethissite.com/pages/simple/>\n",
            "{'name': 'Eritrea', 'capital': 'Asmara', 'population': '5792984', 'area': '121320.0'}\n",
            "2025-03-20 02:40:38 [scrapy.core.scraper] DEBUG: Scraped from <200 https://www.scrapethissite.com/pages/simple/>\n",
            "{'name': 'Eritrea', 'capital': 'Asmara', 'population': '5792984', 'area': '121320.0'}\n",
            "DEBUG:scrapy.core.scraper:Scraped from <200 https://www.scrapethissite.com/pages/simple/>\n",
            "{'name': 'Spain', 'capital': 'Madrid', 'population': '46505963', 'area': '504782.0'}\n",
            "2025-03-20 02:40:38 [scrapy.core.scraper] DEBUG: Scraped from <200 https://www.scrapethissite.com/pages/simple/>\n",
            "{'name': 'Spain', 'capital': 'Madrid', 'population': '46505963', 'area': '504782.0'}\n",
            "DEBUG:scrapy.core.scraper:Scraped from <200 https://www.scrapethissite.com/pages/simple/>\n",
            "{'name': 'Ethiopia', 'capital': 'Addis Ababa', 'population': '88013491', 'area': '1127127.0'}\n",
            "2025-03-20 02:40:38 [scrapy.core.scraper] DEBUG: Scraped from <200 https://www.scrapethissite.com/pages/simple/>\n",
            "{'name': 'Ethiopia', 'capital': 'Addis Ababa', 'population': '88013491', 'area': '1127127.0'}\n",
            "DEBUG:scrapy.core.scraper:Scraped from <200 https://www.scrapethissite.com/pages/simple/>\n",
            "{'name': 'Finland', 'capital': 'Helsinki', 'population': '5244000', 'area': '337030.0'}\n",
            "2025-03-20 02:40:38 [scrapy.core.scraper] DEBUG: Scraped from <200 https://www.scrapethissite.com/pages/simple/>\n",
            "{'name': 'Finland', 'capital': 'Helsinki', 'population': '5244000', 'area': '337030.0'}\n",
            "DEBUG:scrapy.core.scraper:Scraped from <200 https://www.scrapethissite.com/pages/simple/>\n",
            "{'name': 'Fiji', 'capital': 'Suva', 'population': '875983', 'area': '18270.0'}\n",
            "2025-03-20 02:40:38 [scrapy.core.scraper] DEBUG: Scraped from <200 https://www.scrapethissite.com/pages/simple/>\n",
            "{'name': 'Fiji', 'capital': 'Suva', 'population': '875983', 'area': '18270.0'}\n",
            "DEBUG:scrapy.core.scraper:Scraped from <200 https://www.scrapethissite.com/pages/simple/>\n",
            "{'name': 'Falkland Islands', 'capital': 'Stanley', 'population': '2638', 'area': '12173.0'}\n",
            "2025-03-20 02:40:38 [scrapy.core.scraper] DEBUG: Scraped from <200 https://www.scrapethissite.com/pages/simple/>\n",
            "{'name': 'Falkland Islands', 'capital': 'Stanley', 'population': '2638', 'area': '12173.0'}\n",
            "DEBUG:scrapy.core.scraper:Scraped from <200 https://www.scrapethissite.com/pages/simple/>\n",
            "{'name': 'Micronesia', 'capital': 'Palikir', 'population': '107708', 'area': '702.0'}\n",
            "2025-03-20 02:40:38 [scrapy.core.scraper] DEBUG: Scraped from <200 https://www.scrapethissite.com/pages/simple/>\n",
            "{'name': 'Micronesia', 'capital': 'Palikir', 'population': '107708', 'area': '702.0'}\n",
            "DEBUG:scrapy.core.scraper:Scraped from <200 https://www.scrapethissite.com/pages/simple/>\n",
            "{'name': 'Faroe Islands', 'capital': 'Tórshavn', 'population': '48228', 'area': '1399.0'}\n",
            "2025-03-20 02:40:38 [scrapy.core.scraper] DEBUG: Scraped from <200 https://www.scrapethissite.com/pages/simple/>\n",
            "{'name': 'Faroe Islands', 'capital': 'Tórshavn', 'population': '48228', 'area': '1399.0'}\n",
            "DEBUG:scrapy.core.scraper:Scraped from <200 https://www.scrapethissite.com/pages/simple/>\n",
            "{'name': 'France', 'capital': 'Paris', 'population': '64768389', 'area': '547030.0'}\n",
            "2025-03-20 02:40:38 [scrapy.core.scraper] DEBUG: Scraped from <200 https://www.scrapethissite.com/pages/simple/>\n",
            "{'name': 'France', 'capital': 'Paris', 'population': '64768389', 'area': '547030.0'}\n",
            "DEBUG:scrapy.core.scraper:Scraped from <200 https://www.scrapethissite.com/pages/simple/>\n",
            "{'name': 'Gabon', 'capital': 'Libreville', 'population': '1545255', 'area': '267667.0'}\n",
            "2025-03-20 02:40:38 [scrapy.core.scraper] DEBUG: Scraped from <200 https://www.scrapethissite.com/pages/simple/>\n",
            "{'name': 'Gabon', 'capital': 'Libreville', 'population': '1545255', 'area': '267667.0'}\n",
            "DEBUG:scrapy.core.scraper:Scraped from <200 https://www.scrapethissite.com/pages/simple/>\n",
            "{'name': 'United Kingdom', 'capital': 'London', 'population': '62348447', 'area': '244820.0'}\n",
            "2025-03-20 02:40:38 [scrapy.core.scraper] DEBUG: Scraped from <200 https://www.scrapethissite.com/pages/simple/>\n",
            "{'name': 'United Kingdom', 'capital': 'London', 'population': '62348447', 'area': '244820.0'}\n",
            "DEBUG:scrapy.core.scraper:Scraped from <200 https://www.scrapethissite.com/pages/simple/>\n",
            "{'name': 'Grenada', 'capital': \"St. George's\", 'population': '107818', 'area': '344.0'}\n",
            "2025-03-20 02:40:38 [scrapy.core.scraper] DEBUG: Scraped from <200 https://www.scrapethissite.com/pages/simple/>\n",
            "{'name': 'Grenada', 'capital': \"St. George's\", 'population': '107818', 'area': '344.0'}\n",
            "DEBUG:scrapy.core.scraper:Scraped from <200 https://www.scrapethissite.com/pages/simple/>\n",
            "{'name': 'Georgia', 'capital': 'Tbilisi', 'population': '4630000', 'area': '69700.0'}\n",
            "2025-03-20 02:40:38 [scrapy.core.scraper] DEBUG: Scraped from <200 https://www.scrapethissite.com/pages/simple/>\n",
            "{'name': 'Georgia', 'capital': 'Tbilisi', 'population': '4630000', 'area': '69700.0'}\n",
            "DEBUG:scrapy.core.scraper:Scraped from <200 https://www.scrapethissite.com/pages/simple/>\n",
            "{'name': 'French Guiana', 'capital': 'Cayenne', 'population': '195506', 'area': '91000.0'}\n",
            "2025-03-20 02:40:38 [scrapy.core.scraper] DEBUG: Scraped from <200 https://www.scrapethissite.com/pages/simple/>\n",
            "{'name': 'French Guiana', 'capital': 'Cayenne', 'population': '195506', 'area': '91000.0'}\n",
            "DEBUG:scrapy.core.scraper:Scraped from <200 https://www.scrapethissite.com/pages/simple/>\n",
            "{'name': 'Guernsey', 'capital': 'St Peter Port', 'population': '65228', 'area': '78.0'}\n",
            "2025-03-20 02:40:38 [scrapy.core.scraper] DEBUG: Scraped from <200 https://www.scrapethissite.com/pages/simple/>\n",
            "{'name': 'Guernsey', 'capital': 'St Peter Port', 'population': '65228', 'area': '78.0'}\n",
            "DEBUG:scrapy.core.scraper:Scraped from <200 https://www.scrapethissite.com/pages/simple/>\n",
            "{'name': 'Ghana', 'capital': 'Accra', 'population': '24339838', 'area': '239460.0'}\n",
            "2025-03-20 02:40:38 [scrapy.core.scraper] DEBUG: Scraped from <200 https://www.scrapethissite.com/pages/simple/>\n",
            "{'name': 'Ghana', 'capital': 'Accra', 'population': '24339838', 'area': '239460.0'}\n",
            "DEBUG:scrapy.core.scraper:Scraped from <200 https://www.scrapethissite.com/pages/simple/>\n",
            "{'name': 'Gibraltar', 'capital': 'Gibraltar', 'population': '27884', 'area': '6.5'}\n",
            "2025-03-20 02:40:38 [scrapy.core.scraper] DEBUG: Scraped from <200 https://www.scrapethissite.com/pages/simple/>\n",
            "{'name': 'Gibraltar', 'capital': 'Gibraltar', 'population': '27884', 'area': '6.5'}\n",
            "DEBUG:scrapy.core.scraper:Scraped from <200 https://www.scrapethissite.com/pages/simple/>\n",
            "{'name': 'Greenland', 'capital': 'Nuuk', 'population': '56375', 'area': '2166086.0'}\n",
            "2025-03-20 02:40:38 [scrapy.core.scraper] DEBUG: Scraped from <200 https://www.scrapethissite.com/pages/simple/>\n",
            "{'name': 'Greenland', 'capital': 'Nuuk', 'population': '56375', 'area': '2166086.0'}\n",
            "DEBUG:scrapy.core.scraper:Scraped from <200 https://www.scrapethissite.com/pages/simple/>\n",
            "{'name': 'Gambia', 'capital': 'Bathurst', 'population': '1593256', 'area': '11300.0'}\n",
            "2025-03-20 02:40:38 [scrapy.core.scraper] DEBUG: Scraped from <200 https://www.scrapethissite.com/pages/simple/>\n",
            "{'name': 'Gambia', 'capital': 'Bathurst', 'population': '1593256', 'area': '11300.0'}\n",
            "DEBUG:scrapy.core.scraper:Scraped from <200 https://www.scrapethissite.com/pages/simple/>\n",
            "{'name': 'Guinea', 'capital': 'Conakry', 'population': '10324025', 'area': '245857.0'}\n",
            "2025-03-20 02:40:38 [scrapy.core.scraper] DEBUG: Scraped from <200 https://www.scrapethissite.com/pages/simple/>\n",
            "{'name': 'Guinea', 'capital': 'Conakry', 'population': '10324025', 'area': '245857.0'}\n",
            "DEBUG:scrapy.core.scraper:Scraped from <200 https://www.scrapethissite.com/pages/simple/>\n",
            "{'name': 'Guadeloupe', 'capital': 'Basse-Terre', 'population': '443000', 'area': '1780.0'}\n",
            "2025-03-20 02:40:38 [scrapy.core.scraper] DEBUG: Scraped from <200 https://www.scrapethissite.com/pages/simple/>\n",
            "{'name': 'Guadeloupe', 'capital': 'Basse-Terre', 'population': '443000', 'area': '1780.0'}\n",
            "DEBUG:scrapy.core.scraper:Scraped from <200 https://www.scrapethissite.com/pages/simple/>\n",
            "{'name': 'Equatorial Guinea', 'capital': 'Malabo', 'population': '1014999', 'area': '28051.0'}\n",
            "2025-03-20 02:40:38 [scrapy.core.scraper] DEBUG: Scraped from <200 https://www.scrapethissite.com/pages/simple/>\n",
            "{'name': 'Equatorial Guinea', 'capital': 'Malabo', 'population': '1014999', 'area': '28051.0'}\n",
            "DEBUG:scrapy.core.scraper:Scraped from <200 https://www.scrapethissite.com/pages/simple/>\n",
            "{'name': 'Greece', 'capital': 'Athens', 'population': '11000000', 'area': '131940.0'}\n",
            "2025-03-20 02:40:38 [scrapy.core.scraper] DEBUG: Scraped from <200 https://www.scrapethissite.com/pages/simple/>\n",
            "{'name': 'Greece', 'capital': 'Athens', 'population': '11000000', 'area': '131940.0'}\n",
            "DEBUG:scrapy.core.scraper:Scraped from <200 https://www.scrapethissite.com/pages/simple/>\n",
            "{'name': 'South Georgia and the South Sandwich Islands', 'capital': 'Grytviken', 'population': '30', 'area': '3903.0'}\n",
            "2025-03-20 02:40:38 [scrapy.core.scraper] DEBUG: Scraped from <200 https://www.scrapethissite.com/pages/simple/>\n",
            "{'name': 'South Georgia and the South Sandwich Islands', 'capital': 'Grytviken', 'population': '30', 'area': '3903.0'}\n",
            "DEBUG:scrapy.core.scraper:Scraped from <200 https://www.scrapethissite.com/pages/simple/>\n",
            "{'name': 'Guatemala', 'capital': 'Guatemala City', 'population': '13550440', 'area': '108890.0'}\n",
            "2025-03-20 02:40:38 [scrapy.core.scraper] DEBUG: Scraped from <200 https://www.scrapethissite.com/pages/simple/>\n",
            "{'name': 'Guatemala', 'capital': 'Guatemala City', 'population': '13550440', 'area': '108890.0'}\n",
            "DEBUG:scrapy.core.scraper:Scraped from <200 https://www.scrapethissite.com/pages/simple/>\n",
            "{'name': 'Guam', 'capital': 'Hagåtña', 'population': '159358', 'area': '549.0'}\n",
            "2025-03-20 02:40:38 [scrapy.core.scraper] DEBUG: Scraped from <200 https://www.scrapethissite.com/pages/simple/>\n",
            "{'name': 'Guam', 'capital': 'Hagåtña', 'population': '159358', 'area': '549.0'}\n",
            "DEBUG:scrapy.core.scraper:Scraped from <200 https://www.scrapethissite.com/pages/simple/>\n",
            "{'name': 'Guinea-Bissau', 'capital': 'Bissau', 'population': '1565126', 'area': '36120.0'}\n",
            "2025-03-20 02:40:38 [scrapy.core.scraper] DEBUG: Scraped from <200 https://www.scrapethissite.com/pages/simple/>\n",
            "{'name': 'Guinea-Bissau', 'capital': 'Bissau', 'population': '1565126', 'area': '36120.0'}\n",
            "DEBUG:scrapy.core.scraper:Scraped from <200 https://www.scrapethissite.com/pages/simple/>\n",
            "{'name': 'Guyana', 'capital': 'Georgetown', 'population': '748486', 'area': '214970.0'}\n",
            "2025-03-20 02:40:38 [scrapy.core.scraper] DEBUG: Scraped from <200 https://www.scrapethissite.com/pages/simple/>\n",
            "{'name': 'Guyana', 'capital': 'Georgetown', 'population': '748486', 'area': '214970.0'}\n",
            "DEBUG:scrapy.core.scraper:Scraped from <200 https://www.scrapethissite.com/pages/simple/>\n",
            "{'name': 'Hong Kong', 'capital': 'Hong Kong', 'population': '6898686', 'area': '1092.0'}\n",
            "2025-03-20 02:40:38 [scrapy.core.scraper] DEBUG: Scraped from <200 https://www.scrapethissite.com/pages/simple/>\n",
            "{'name': 'Hong Kong', 'capital': 'Hong Kong', 'population': '6898686', 'area': '1092.0'}\n",
            "DEBUG:scrapy.core.scraper:Scraped from <200 https://www.scrapethissite.com/pages/simple/>\n",
            "{'name': 'Heard Island and McDonald Islands', 'capital': 'None', 'population': '0', 'area': '412.0'}\n",
            "2025-03-20 02:40:38 [scrapy.core.scraper] DEBUG: Scraped from <200 https://www.scrapethissite.com/pages/simple/>\n",
            "{'name': 'Heard Island and McDonald Islands', 'capital': 'None', 'population': '0', 'area': '412.0'}\n",
            "DEBUG:scrapy.core.scraper:Scraped from <200 https://www.scrapethissite.com/pages/simple/>\n",
            "{'name': 'Honduras', 'capital': 'Tegucigalpa', 'population': '7989415', 'area': '112090.0'}\n",
            "2025-03-20 02:40:38 [scrapy.core.scraper] DEBUG: Scraped from <200 https://www.scrapethissite.com/pages/simple/>\n",
            "{'name': 'Honduras', 'capital': 'Tegucigalpa', 'population': '7989415', 'area': '112090.0'}\n",
            "DEBUG:scrapy.core.scraper:Scraped from <200 https://www.scrapethissite.com/pages/simple/>\n",
            "{'name': 'Croatia', 'capital': 'Zagreb', 'population': '4491000', 'area': '56542.0'}\n",
            "2025-03-20 02:40:38 [scrapy.core.scraper] DEBUG: Scraped from <200 https://www.scrapethissite.com/pages/simple/>\n",
            "{'name': 'Croatia', 'capital': 'Zagreb', 'population': '4491000', 'area': '56542.0'}\n",
            "DEBUG:scrapy.core.scraper:Scraped from <200 https://www.scrapethissite.com/pages/simple/>\n",
            "{'name': 'Haiti', 'capital': 'Port-au-Prince', 'population': '9648924', 'area': '27750.0'}\n",
            "2025-03-20 02:40:38 [scrapy.core.scraper] DEBUG: Scraped from <200 https://www.scrapethissite.com/pages/simple/>\n",
            "{'name': 'Haiti', 'capital': 'Port-au-Prince', 'population': '9648924', 'area': '27750.0'}\n",
            "DEBUG:scrapy.core.scraper:Scraped from <200 https://www.scrapethissite.com/pages/simple/>\n",
            "{'name': 'Hungary', 'capital': 'Budapest', 'population': '9982000', 'area': '93030.0'}\n",
            "2025-03-20 02:40:38 [scrapy.core.scraper] DEBUG: Scraped from <200 https://www.scrapethissite.com/pages/simple/>\n",
            "{'name': 'Hungary', 'capital': 'Budapest', 'population': '9982000', 'area': '93030.0'}\n",
            "DEBUG:scrapy.core.scraper:Scraped from <200 https://www.scrapethissite.com/pages/simple/>\n",
            "{'name': 'Indonesia', 'capital': 'Jakarta', 'population': '242968342', 'area': '1919440.0'}\n",
            "2025-03-20 02:40:38 [scrapy.core.scraper] DEBUG: Scraped from <200 https://www.scrapethissite.com/pages/simple/>\n",
            "{'name': 'Indonesia', 'capital': 'Jakarta', 'population': '242968342', 'area': '1919440.0'}\n",
            "DEBUG:scrapy.core.scraper:Scraped from <200 https://www.scrapethissite.com/pages/simple/>\n",
            "{'name': 'Ireland', 'capital': 'Dublin', 'population': '4622917', 'area': '70280.0'}\n",
            "2025-03-20 02:40:38 [scrapy.core.scraper] DEBUG: Scraped from <200 https://www.scrapethissite.com/pages/simple/>\n",
            "{'name': 'Ireland', 'capital': 'Dublin', 'population': '4622917', 'area': '70280.0'}\n",
            "DEBUG:scrapy.core.scraper:Scraped from <200 https://www.scrapethissite.com/pages/simple/>\n",
            "{'name': 'Israel', 'capital': 'None', 'population': '7353985', 'area': '20770.0'}\n",
            "2025-03-20 02:40:38 [scrapy.core.scraper] DEBUG: Scraped from <200 https://www.scrapethissite.com/pages/simple/>\n",
            "{'name': 'Israel', 'capital': 'None', 'population': '7353985', 'area': '20770.0'}\n",
            "DEBUG:scrapy.core.scraper:Scraped from <200 https://www.scrapethissite.com/pages/simple/>\n",
            "{'name': 'Isle of Man', 'capital': 'Douglas', 'population': '75049', 'area': '572.0'}\n",
            "2025-03-20 02:40:38 [scrapy.core.scraper] DEBUG: Scraped from <200 https://www.scrapethissite.com/pages/simple/>\n",
            "{'name': 'Isle of Man', 'capital': 'Douglas', 'population': '75049', 'area': '572.0'}\n",
            "DEBUG:scrapy.core.scraper:Scraped from <200 https://www.scrapethissite.com/pages/simple/>\n",
            "{'name': 'India', 'capital': 'New Delhi', 'population': '1173108018', 'area': '3287590.0'}\n",
            "2025-03-20 02:40:38 [scrapy.core.scraper] DEBUG: Scraped from <200 https://www.scrapethissite.com/pages/simple/>\n",
            "{'name': 'India', 'capital': 'New Delhi', 'population': '1173108018', 'area': '3287590.0'}\n",
            "DEBUG:scrapy.core.scraper:Scraped from <200 https://www.scrapethissite.com/pages/simple/>\n",
            "{'name': 'British Indian Ocean Territory', 'capital': 'None', 'population': '4000', 'area': '60.0'}\n",
            "2025-03-20 02:40:38 [scrapy.core.scraper] DEBUG: Scraped from <200 https://www.scrapethissite.com/pages/simple/>\n",
            "{'name': 'British Indian Ocean Territory', 'capital': 'None', 'population': '4000', 'area': '60.0'}\n",
            "DEBUG:scrapy.core.scraper:Scraped from <200 https://www.scrapethissite.com/pages/simple/>\n",
            "{'name': 'Iraq', 'capital': 'Baghdad', 'population': '29671605', 'area': '437072.0'}\n",
            "2025-03-20 02:40:38 [scrapy.core.scraper] DEBUG: Scraped from <200 https://www.scrapethissite.com/pages/simple/>\n",
            "{'name': 'Iraq', 'capital': 'Baghdad', 'population': '29671605', 'area': '437072.0'}\n",
            "DEBUG:scrapy.core.scraper:Scraped from <200 https://www.scrapethissite.com/pages/simple/>\n",
            "{'name': 'Iran', 'capital': 'Tehran', 'population': '76923300', 'area': '1648000.0'}\n",
            "2025-03-20 02:40:38 [scrapy.core.scraper] DEBUG: Scraped from <200 https://www.scrapethissite.com/pages/simple/>\n",
            "{'name': 'Iran', 'capital': 'Tehran', 'population': '76923300', 'area': '1648000.0'}\n",
            "DEBUG:scrapy.core.scraper:Scraped from <200 https://www.scrapethissite.com/pages/simple/>\n",
            "{'name': 'Iceland', 'capital': 'Reykjavik', 'population': '308910', 'area': '103000.0'}\n",
            "2025-03-20 02:40:38 [scrapy.core.scraper] DEBUG: Scraped from <200 https://www.scrapethissite.com/pages/simple/>\n",
            "{'name': 'Iceland', 'capital': 'Reykjavik', 'population': '308910', 'area': '103000.0'}\n",
            "DEBUG:scrapy.core.scraper:Scraped from <200 https://www.scrapethissite.com/pages/simple/>\n",
            "{'name': 'Italy', 'capital': 'Rome', 'population': '60340328', 'area': '301230.0'}\n",
            "2025-03-20 02:40:38 [scrapy.core.scraper] DEBUG: Scraped from <200 https://www.scrapethissite.com/pages/simple/>\n",
            "{'name': 'Italy', 'capital': 'Rome', 'population': '60340328', 'area': '301230.0'}\n",
            "DEBUG:scrapy.core.scraper:Scraped from <200 https://www.scrapethissite.com/pages/simple/>\n",
            "{'name': 'Jersey', 'capital': 'Saint Helier', 'population': '90812', 'area': '116.0'}\n",
            "2025-03-20 02:40:38 [scrapy.core.scraper] DEBUG: Scraped from <200 https://www.scrapethissite.com/pages/simple/>\n",
            "{'name': 'Jersey', 'capital': 'Saint Helier', 'population': '90812', 'area': '116.0'}\n",
            "DEBUG:scrapy.core.scraper:Scraped from <200 https://www.scrapethissite.com/pages/simple/>\n",
            "{'name': 'Jamaica', 'capital': 'Kingston', 'population': '2847232', 'area': '10991.0'}\n",
            "2025-03-20 02:40:38 [scrapy.core.scraper] DEBUG: Scraped from <200 https://www.scrapethissite.com/pages/simple/>\n",
            "{'name': 'Jamaica', 'capital': 'Kingston', 'population': '2847232', 'area': '10991.0'}\n",
            "DEBUG:scrapy.core.scraper:Scraped from <200 https://www.scrapethissite.com/pages/simple/>\n",
            "{'name': 'Jordan', 'capital': 'Amman', 'population': '6407085', 'area': '92300.0'}\n",
            "2025-03-20 02:40:38 [scrapy.core.scraper] DEBUG: Scraped from <200 https://www.scrapethissite.com/pages/simple/>\n",
            "{'name': 'Jordan', 'capital': 'Amman', 'population': '6407085', 'area': '92300.0'}\n",
            "DEBUG:scrapy.core.scraper:Scraped from <200 https://www.scrapethissite.com/pages/simple/>\n",
            "{'name': 'Japan', 'capital': 'Tokyo', 'population': '127288000', 'area': '377835.0'}\n",
            "2025-03-20 02:40:38 [scrapy.core.scraper] DEBUG: Scraped from <200 https://www.scrapethissite.com/pages/simple/>\n",
            "{'name': 'Japan', 'capital': 'Tokyo', 'population': '127288000', 'area': '377835.0'}\n",
            "DEBUG:scrapy.core.scraper:Scraped from <200 https://www.scrapethissite.com/pages/simple/>\n",
            "{'name': 'Kenya', 'capital': 'Nairobi', 'population': '40046566', 'area': '582650.0'}\n",
            "2025-03-20 02:40:38 [scrapy.core.scraper] DEBUG: Scraped from <200 https://www.scrapethissite.com/pages/simple/>\n",
            "{'name': 'Kenya', 'capital': 'Nairobi', 'population': '40046566', 'area': '582650.0'}\n",
            "DEBUG:scrapy.core.scraper:Scraped from <200 https://www.scrapethissite.com/pages/simple/>\n",
            "{'name': 'Kyrgyzstan', 'capital': 'Bishkek', 'population': '5776500', 'area': '198500.0'}\n",
            "2025-03-20 02:40:38 [scrapy.core.scraper] DEBUG: Scraped from <200 https://www.scrapethissite.com/pages/simple/>\n",
            "{'name': 'Kyrgyzstan', 'capital': 'Bishkek', 'population': '5776500', 'area': '198500.0'}\n",
            "DEBUG:scrapy.core.scraper:Scraped from <200 https://www.scrapethissite.com/pages/simple/>\n",
            "{'name': 'Cambodia', 'capital': 'Phnom Penh', 'population': '14453680', 'area': '181040.0'}\n",
            "2025-03-20 02:40:38 [scrapy.core.scraper] DEBUG: Scraped from <200 https://www.scrapethissite.com/pages/simple/>\n",
            "{'name': 'Cambodia', 'capital': 'Phnom Penh', 'population': '14453680', 'area': '181040.0'}\n",
            "DEBUG:scrapy.core.scraper:Scraped from <200 https://www.scrapethissite.com/pages/simple/>\n",
            "{'name': 'Kiribati', 'capital': 'Tarawa', 'population': '92533', 'area': '811.0'}\n",
            "2025-03-20 02:40:38 [scrapy.core.scraper] DEBUG: Scraped from <200 https://www.scrapethissite.com/pages/simple/>\n",
            "{'name': 'Kiribati', 'capital': 'Tarawa', 'population': '92533', 'area': '811.0'}\n",
            "DEBUG:scrapy.core.scraper:Scraped from <200 https://www.scrapethissite.com/pages/simple/>\n",
            "{'name': 'Comoros', 'capital': 'Moroni', 'population': '773407', 'area': '2170.0'}\n",
            "2025-03-20 02:40:38 [scrapy.core.scraper] DEBUG: Scraped from <200 https://www.scrapethissite.com/pages/simple/>\n",
            "{'name': 'Comoros', 'capital': 'Moroni', 'population': '773407', 'area': '2170.0'}\n",
            "DEBUG:scrapy.core.scraper:Scraped from <200 https://www.scrapethissite.com/pages/simple/>\n",
            "{'name': 'Saint Kitts and Nevis', 'capital': 'Basseterre', 'population': '51134', 'area': '261.0'}\n",
            "2025-03-20 02:40:38 [scrapy.core.scraper] DEBUG: Scraped from <200 https://www.scrapethissite.com/pages/simple/>\n",
            "{'name': 'Saint Kitts and Nevis', 'capital': 'Basseterre', 'population': '51134', 'area': '261.0'}\n",
            "DEBUG:scrapy.core.scraper:Scraped from <200 https://www.scrapethissite.com/pages/simple/>\n",
            "{'name': 'North Korea', 'capital': 'Pyongyang', 'population': '22912177', 'area': '120540.0'}\n",
            "2025-03-20 02:40:38 [scrapy.core.scraper] DEBUG: Scraped from <200 https://www.scrapethissite.com/pages/simple/>\n",
            "{'name': 'North Korea', 'capital': 'Pyongyang', 'population': '22912177', 'area': '120540.0'}\n",
            "DEBUG:scrapy.core.scraper:Scraped from <200 https://www.scrapethissite.com/pages/simple/>\n",
            "{'name': 'South Korea', 'capital': 'Seoul', 'population': '48422644', 'area': '98480.0'}\n",
            "2025-03-20 02:40:39 [scrapy.core.scraper] DEBUG: Scraped from <200 https://www.scrapethissite.com/pages/simple/>\n",
            "{'name': 'South Korea', 'capital': 'Seoul', 'population': '48422644', 'area': '98480.0'}\n",
            "DEBUG:scrapy.core.scraper:Scraped from <200 https://www.scrapethissite.com/pages/simple/>\n",
            "{'name': 'Kuwait', 'capital': 'Kuwait City', 'population': '2789132', 'area': '17820.0'}\n",
            "2025-03-20 02:40:39 [scrapy.core.scraper] DEBUG: Scraped from <200 https://www.scrapethissite.com/pages/simple/>\n",
            "{'name': 'Kuwait', 'capital': 'Kuwait City', 'population': '2789132', 'area': '17820.0'}\n",
            "DEBUG:scrapy.core.scraper:Scraped from <200 https://www.scrapethissite.com/pages/simple/>\n",
            "{'name': 'Cayman Islands', 'capital': 'George Town', 'population': '44270', 'area': '262.0'}\n",
            "2025-03-20 02:40:39 [scrapy.core.scraper] DEBUG: Scraped from <200 https://www.scrapethissite.com/pages/simple/>\n",
            "{'name': 'Cayman Islands', 'capital': 'George Town', 'population': '44270', 'area': '262.0'}\n",
            "DEBUG:scrapy.core.scraper:Scraped from <200 https://www.scrapethissite.com/pages/simple/>\n",
            "{'name': 'Kazakhstan', 'capital': 'Astana', 'population': '15340000', 'area': '2717300.0'}\n",
            "2025-03-20 02:40:39 [scrapy.core.scraper] DEBUG: Scraped from <200 https://www.scrapethissite.com/pages/simple/>\n",
            "{'name': 'Kazakhstan', 'capital': 'Astana', 'population': '15340000', 'area': '2717300.0'}\n",
            "DEBUG:scrapy.core.scraper:Scraped from <200 https://www.scrapethissite.com/pages/simple/>\n",
            "{'name': 'Laos', 'capital': 'Vientiane', 'population': '6368162', 'area': '236800.0'}\n",
            "2025-03-20 02:40:39 [scrapy.core.scraper] DEBUG: Scraped from <200 https://www.scrapethissite.com/pages/simple/>\n",
            "{'name': 'Laos', 'capital': 'Vientiane', 'population': '6368162', 'area': '236800.0'}\n",
            "DEBUG:scrapy.core.scraper:Scraped from <200 https://www.scrapethissite.com/pages/simple/>\n",
            "{'name': 'Lebanon', 'capital': 'Beirut', 'population': '4125247', 'area': '10400.0'}\n",
            "2025-03-20 02:40:39 [scrapy.core.scraper] DEBUG: Scraped from <200 https://www.scrapethissite.com/pages/simple/>\n",
            "{'name': 'Lebanon', 'capital': 'Beirut', 'population': '4125247', 'area': '10400.0'}\n",
            "DEBUG:scrapy.core.scraper:Scraped from <200 https://www.scrapethissite.com/pages/simple/>\n",
            "{'name': 'Saint Lucia', 'capital': 'Castries', 'population': '160922', 'area': '616.0'}\n",
            "2025-03-20 02:40:39 [scrapy.core.scraper] DEBUG: Scraped from <200 https://www.scrapethissite.com/pages/simple/>\n",
            "{'name': 'Saint Lucia', 'capital': 'Castries', 'population': '160922', 'area': '616.0'}\n",
            "DEBUG:scrapy.core.scraper:Scraped from <200 https://www.scrapethissite.com/pages/simple/>\n",
            "{'name': 'Liechtenstein', 'capital': 'Vaduz', 'population': '35000', 'area': '160.0'}\n",
            "2025-03-20 02:40:39 [scrapy.core.scraper] DEBUG: Scraped from <200 https://www.scrapethissite.com/pages/simple/>\n",
            "{'name': 'Liechtenstein', 'capital': 'Vaduz', 'population': '35000', 'area': '160.0'}\n",
            "DEBUG:scrapy.core.scraper:Scraped from <200 https://www.scrapethissite.com/pages/simple/>\n",
            "{'name': 'Sri Lanka', 'capital': 'Colombo', 'population': '21513990', 'area': '65610.0'}\n",
            "2025-03-20 02:40:39 [scrapy.core.scraper] DEBUG: Scraped from <200 https://www.scrapethissite.com/pages/simple/>\n",
            "{'name': 'Sri Lanka', 'capital': 'Colombo', 'population': '21513990', 'area': '65610.0'}\n",
            "DEBUG:scrapy.core.scraper:Scraped from <200 https://www.scrapethissite.com/pages/simple/>\n",
            "{'name': 'Liberia', 'capital': 'Monrovia', 'population': '3685076', 'area': '111370.0'}\n",
            "2025-03-20 02:40:39 [scrapy.core.scraper] DEBUG: Scraped from <200 https://www.scrapethissite.com/pages/simple/>\n",
            "{'name': 'Liberia', 'capital': 'Monrovia', 'population': '3685076', 'area': '111370.0'}\n",
            "DEBUG:scrapy.core.scraper:Scraped from <200 https://www.scrapethissite.com/pages/simple/>\n",
            "{'name': 'Lesotho', 'capital': 'Maseru', 'population': '1919552', 'area': '30355.0'}\n",
            "2025-03-20 02:40:39 [scrapy.core.scraper] DEBUG: Scraped from <200 https://www.scrapethissite.com/pages/simple/>\n",
            "{'name': 'Lesotho', 'capital': 'Maseru', 'population': '1919552', 'area': '30355.0'}\n",
            "DEBUG:scrapy.core.scraper:Scraped from <200 https://www.scrapethissite.com/pages/simple/>\n",
            "{'name': 'Lithuania', 'capital': 'Vilnius', 'population': '2944459', 'area': '65200.0'}\n",
            "2025-03-20 02:40:39 [scrapy.core.scraper] DEBUG: Scraped from <200 https://www.scrapethissite.com/pages/simple/>\n",
            "{'name': 'Lithuania', 'capital': 'Vilnius', 'population': '2944459', 'area': '65200.0'}\n",
            "DEBUG:scrapy.core.scraper:Scraped from <200 https://www.scrapethissite.com/pages/simple/>\n",
            "{'name': 'Luxembourg', 'capital': 'Luxembourg', 'population': '497538', 'area': '2586.0'}\n",
            "2025-03-20 02:40:39 [scrapy.core.scraper] DEBUG: Scraped from <200 https://www.scrapethissite.com/pages/simple/>\n",
            "{'name': 'Luxembourg', 'capital': 'Luxembourg', 'population': '497538', 'area': '2586.0'}\n",
            "DEBUG:scrapy.core.scraper:Scraped from <200 https://www.scrapethissite.com/pages/simple/>\n",
            "{'name': 'Latvia', 'capital': 'Riga', 'population': '2217969', 'area': '64589.0'}\n",
            "2025-03-20 02:40:39 [scrapy.core.scraper] DEBUG: Scraped from <200 https://www.scrapethissite.com/pages/simple/>\n",
            "{'name': 'Latvia', 'capital': 'Riga', 'population': '2217969', 'area': '64589.0'}\n",
            "DEBUG:scrapy.core.scraper:Scraped from <200 https://www.scrapethissite.com/pages/simple/>\n",
            "{'name': 'Libya', 'capital': 'Tripoli', 'population': '6461454', 'area': '1759540.0'}\n",
            "2025-03-20 02:40:39 [scrapy.core.scraper] DEBUG: Scraped from <200 https://www.scrapethissite.com/pages/simple/>\n",
            "{'name': 'Libya', 'capital': 'Tripoli', 'population': '6461454', 'area': '1759540.0'}\n",
            "DEBUG:scrapy.core.scraper:Scraped from <200 https://www.scrapethissite.com/pages/simple/>\n",
            "{'name': 'Morocco', 'capital': 'Rabat', 'population': '31627428', 'area': '446550.0'}\n",
            "2025-03-20 02:40:39 [scrapy.core.scraper] DEBUG: Scraped from <200 https://www.scrapethissite.com/pages/simple/>\n",
            "{'name': 'Morocco', 'capital': 'Rabat', 'population': '31627428', 'area': '446550.0'}\n",
            "DEBUG:scrapy.core.scraper:Scraped from <200 https://www.scrapethissite.com/pages/simple/>\n",
            "{'name': 'Monaco', 'capital': 'Monaco', 'population': '32965', 'area': '1.95'}\n",
            "2025-03-20 02:40:39 [scrapy.core.scraper] DEBUG: Scraped from <200 https://www.scrapethissite.com/pages/simple/>\n",
            "{'name': 'Monaco', 'capital': 'Monaco', 'population': '32965', 'area': '1.95'}\n",
            "DEBUG:scrapy.core.scraper:Scraped from <200 https://www.scrapethissite.com/pages/simple/>\n",
            "{'name': 'Moldova', 'capital': 'Chişinău', 'population': '4324000', 'area': '33843.0'}\n",
            "2025-03-20 02:40:39 [scrapy.core.scraper] DEBUG: Scraped from <200 https://www.scrapethissite.com/pages/simple/>\n",
            "{'name': 'Moldova', 'capital': 'Chişinău', 'population': '4324000', 'area': '33843.0'}\n",
            "DEBUG:scrapy.core.scraper:Scraped from <200 https://www.scrapethissite.com/pages/simple/>\n",
            "{'name': 'Montenegro', 'capital': 'Podgorica', 'population': '666730', 'area': '14026.0'}\n",
            "2025-03-20 02:40:39 [scrapy.core.scraper] DEBUG: Scraped from <200 https://www.scrapethissite.com/pages/simple/>\n",
            "{'name': 'Montenegro', 'capital': 'Podgorica', 'population': '666730', 'area': '14026.0'}\n",
            "DEBUG:scrapy.core.scraper:Scraped from <200 https://www.scrapethissite.com/pages/simple/>\n",
            "{'name': 'Saint Martin', 'capital': 'Marigot', 'population': '35925', 'area': '53.0'}\n",
            "2025-03-20 02:40:39 [scrapy.core.scraper] DEBUG: Scraped from <200 https://www.scrapethissite.com/pages/simple/>\n",
            "{'name': 'Saint Martin', 'capital': 'Marigot', 'population': '35925', 'area': '53.0'}\n",
            "DEBUG:scrapy.core.scraper:Scraped from <200 https://www.scrapethissite.com/pages/simple/>\n",
            "{'name': 'Madagascar', 'capital': 'Antananarivo', 'population': '21281844', 'area': '587040.0'}\n",
            "2025-03-20 02:40:39 [scrapy.core.scraper] DEBUG: Scraped from <200 https://www.scrapethissite.com/pages/simple/>\n",
            "{'name': 'Madagascar', 'capital': 'Antananarivo', 'population': '21281844', 'area': '587040.0'}\n",
            "DEBUG:scrapy.core.scraper:Scraped from <200 https://www.scrapethissite.com/pages/simple/>\n",
            "{'name': 'Marshall Islands', 'capital': 'Majuro', 'population': '65859', 'area': '181.3'}\n",
            "2025-03-20 02:40:39 [scrapy.core.scraper] DEBUG: Scraped from <200 https://www.scrapethissite.com/pages/simple/>\n",
            "{'name': 'Marshall Islands', 'capital': 'Majuro', 'population': '65859', 'area': '181.3'}\n",
            "DEBUG:scrapy.core.scraper:Scraped from <200 https://www.scrapethissite.com/pages/simple/>\n",
            "{'name': 'Macedonia', 'capital': 'Skopje', 'population': '2062294', 'area': '25333.0'}\n",
            "2025-03-20 02:40:39 [scrapy.core.scraper] DEBUG: Scraped from <200 https://www.scrapethissite.com/pages/simple/>\n",
            "{'name': 'Macedonia', 'capital': 'Skopje', 'population': '2062294', 'area': '25333.0'}\n",
            "DEBUG:scrapy.core.scraper:Scraped from <200 https://www.scrapethissite.com/pages/simple/>\n",
            "{'name': 'Mali', 'capital': 'Bamako', 'population': '13796354', 'area': '1240000.0'}\n",
            "2025-03-20 02:40:39 [scrapy.core.scraper] DEBUG: Scraped from <200 https://www.scrapethissite.com/pages/simple/>\n",
            "{'name': 'Mali', 'capital': 'Bamako', 'population': '13796354', 'area': '1240000.0'}\n",
            "DEBUG:scrapy.core.scraper:Scraped from <200 https://www.scrapethissite.com/pages/simple/>\n",
            "{'name': 'Myanmar [Burma]', 'capital': 'Naypyitaw', 'population': '53414374', 'area': '678500.0'}\n",
            "2025-03-20 02:40:39 [scrapy.core.scraper] DEBUG: Scraped from <200 https://www.scrapethissite.com/pages/simple/>\n",
            "{'name': 'Myanmar [Burma]', 'capital': 'Naypyitaw', 'population': '53414374', 'area': '678500.0'}\n",
            "DEBUG:scrapy.core.scraper:Scraped from <200 https://www.scrapethissite.com/pages/simple/>\n",
            "{'name': 'Mongolia', 'capital': 'Ulan Bator', 'population': '3086918', 'area': '1565000.0'}\n",
            "2025-03-20 02:40:39 [scrapy.core.scraper] DEBUG: Scraped from <200 https://www.scrapethissite.com/pages/simple/>\n",
            "{'name': 'Mongolia', 'capital': 'Ulan Bator', 'population': '3086918', 'area': '1565000.0'}\n",
            "DEBUG:scrapy.core.scraper:Scraped from <200 https://www.scrapethissite.com/pages/simple/>\n",
            "{'name': 'Macao', 'capital': 'Macao', 'population': '449198', 'area': '254.0'}\n",
            "2025-03-20 02:40:39 [scrapy.core.scraper] DEBUG: Scraped from <200 https://www.scrapethissite.com/pages/simple/>\n",
            "{'name': 'Macao', 'capital': 'Macao', 'population': '449198', 'area': '254.0'}\n",
            "DEBUG:scrapy.core.scraper:Scraped from <200 https://www.scrapethissite.com/pages/simple/>\n",
            "{'name': 'Northern Mariana Islands', 'capital': 'Saipan', 'population': '53883', 'area': '477.0'}\n",
            "2025-03-20 02:40:39 [scrapy.core.scraper] DEBUG: Scraped from <200 https://www.scrapethissite.com/pages/simple/>\n",
            "{'name': 'Northern Mariana Islands', 'capital': 'Saipan', 'population': '53883', 'area': '477.0'}\n",
            "DEBUG:scrapy.core.scraper:Scraped from <200 https://www.scrapethissite.com/pages/simple/>\n",
            "{'name': 'Martinique', 'capital': 'Fort-de-France', 'population': '432900', 'area': '1100.0'}\n",
            "2025-03-20 02:40:39 [scrapy.core.scraper] DEBUG: Scraped from <200 https://www.scrapethissite.com/pages/simple/>\n",
            "{'name': 'Martinique', 'capital': 'Fort-de-France', 'population': '432900', 'area': '1100.0'}\n",
            "DEBUG:scrapy.core.scraper:Scraped from <200 https://www.scrapethissite.com/pages/simple/>\n",
            "{'name': 'Mauritania', 'capital': 'Nouakchott', 'population': '3205060', 'area': '1030700.0'}\n",
            "2025-03-20 02:40:39 [scrapy.core.scraper] DEBUG: Scraped from <200 https://www.scrapethissite.com/pages/simple/>\n",
            "{'name': 'Mauritania', 'capital': 'Nouakchott', 'population': '3205060', 'area': '1030700.0'}\n",
            "DEBUG:scrapy.core.scraper:Scraped from <200 https://www.scrapethissite.com/pages/simple/>\n",
            "{'name': 'Montserrat', 'capital': 'Plymouth', 'population': '9341', 'area': '102.0'}\n",
            "2025-03-20 02:40:39 [scrapy.core.scraper] DEBUG: Scraped from <200 https://www.scrapethissite.com/pages/simple/>\n",
            "{'name': 'Montserrat', 'capital': 'Plymouth', 'population': '9341', 'area': '102.0'}\n",
            "DEBUG:scrapy.core.scraper:Scraped from <200 https://www.scrapethissite.com/pages/simple/>\n",
            "{'name': 'Malta', 'capital': 'Valletta', 'population': '403000', 'area': '316.0'}\n",
            "2025-03-20 02:40:39 [scrapy.core.scraper] DEBUG: Scraped from <200 https://www.scrapethissite.com/pages/simple/>\n",
            "{'name': 'Malta', 'capital': 'Valletta', 'population': '403000', 'area': '316.0'}\n",
            "DEBUG:scrapy.core.scraper:Scraped from <200 https://www.scrapethissite.com/pages/simple/>\n",
            "{'name': 'Mauritius', 'capital': 'Port Louis', 'population': '1294104', 'area': '2040.0'}\n",
            "2025-03-20 02:40:39 [scrapy.core.scraper] DEBUG: Scraped from <200 https://www.scrapethissite.com/pages/simple/>\n",
            "{'name': 'Mauritius', 'capital': 'Port Louis', 'population': '1294104', 'area': '2040.0'}\n",
            "DEBUG:scrapy.core.scraper:Scraped from <200 https://www.scrapethissite.com/pages/simple/>\n",
            "{'name': 'Maldives', 'capital': 'Malé', 'population': '395650', 'area': '300.0'}\n",
            "2025-03-20 02:40:39 [scrapy.core.scraper] DEBUG: Scraped from <200 https://www.scrapethissite.com/pages/simple/>\n",
            "{'name': 'Maldives', 'capital': 'Malé', 'population': '395650', 'area': '300.0'}\n",
            "DEBUG:scrapy.core.scraper:Scraped from <200 https://www.scrapethissite.com/pages/simple/>\n",
            "{'name': 'Malawi', 'capital': 'Lilongwe', 'population': '15447500', 'area': '118480.0'}\n",
            "2025-03-20 02:40:39 [scrapy.core.scraper] DEBUG: Scraped from <200 https://www.scrapethissite.com/pages/simple/>\n",
            "{'name': 'Malawi', 'capital': 'Lilongwe', 'population': '15447500', 'area': '118480.0'}\n",
            "DEBUG:scrapy.core.scraper:Scraped from <200 https://www.scrapethissite.com/pages/simple/>\n",
            "{'name': 'Mexico', 'capital': 'Mexico City', 'population': '112468855', 'area': '1972550.0'}\n",
            "2025-03-20 02:40:39 [scrapy.core.scraper] DEBUG: Scraped from <200 https://www.scrapethissite.com/pages/simple/>\n",
            "{'name': 'Mexico', 'capital': 'Mexico City', 'population': '112468855', 'area': '1972550.0'}\n",
            "DEBUG:scrapy.core.scraper:Scraped from <200 https://www.scrapethissite.com/pages/simple/>\n",
            "{'name': 'Malaysia', 'capital': 'Kuala Lumpur', 'population': '28274729', 'area': '329750.0'}\n",
            "2025-03-20 02:40:39 [scrapy.core.scraper] DEBUG: Scraped from <200 https://www.scrapethissite.com/pages/simple/>\n",
            "{'name': 'Malaysia', 'capital': 'Kuala Lumpur', 'population': '28274729', 'area': '329750.0'}\n",
            "DEBUG:scrapy.core.scraper:Scraped from <200 https://www.scrapethissite.com/pages/simple/>\n",
            "{'name': 'Mozambique', 'capital': 'Maputo', 'population': '22061451', 'area': '801590.0'}\n",
            "2025-03-20 02:40:39 [scrapy.core.scraper] DEBUG: Scraped from <200 https://www.scrapethissite.com/pages/simple/>\n",
            "{'name': 'Mozambique', 'capital': 'Maputo', 'population': '22061451', 'area': '801590.0'}\n",
            "DEBUG:scrapy.core.scraper:Scraped from <200 https://www.scrapethissite.com/pages/simple/>\n",
            "{'name': 'Namibia', 'capital': 'Windhoek', 'population': '2128471', 'area': '825418.0'}\n",
            "2025-03-20 02:40:39 [scrapy.core.scraper] DEBUG: Scraped from <200 https://www.scrapethissite.com/pages/simple/>\n",
            "{'name': 'Namibia', 'capital': 'Windhoek', 'population': '2128471', 'area': '825418.0'}\n",
            "DEBUG:scrapy.core.scraper:Scraped from <200 https://www.scrapethissite.com/pages/simple/>\n",
            "{'name': 'New Caledonia', 'capital': 'Noumea', 'population': '216494', 'area': '19060.0'}\n",
            "2025-03-20 02:40:39 [scrapy.core.scraper] DEBUG: Scraped from <200 https://www.scrapethissite.com/pages/simple/>\n",
            "{'name': 'New Caledonia', 'capital': 'Noumea', 'population': '216494', 'area': '19060.0'}\n",
            "DEBUG:scrapy.core.scraper:Scraped from <200 https://www.scrapethissite.com/pages/simple/>\n",
            "{'name': 'Niger', 'capital': 'Niamey', 'population': '15878271', 'area': '1267000.0'}\n",
            "2025-03-20 02:40:39 [scrapy.core.scraper] DEBUG: Scraped from <200 https://www.scrapethissite.com/pages/simple/>\n",
            "{'name': 'Niger', 'capital': 'Niamey', 'population': '15878271', 'area': '1267000.0'}\n",
            "DEBUG:scrapy.core.scraper:Scraped from <200 https://www.scrapethissite.com/pages/simple/>\n",
            "{'name': 'Norfolk Island', 'capital': 'Kingston', 'population': '1828', 'area': '34.6'}\n",
            "2025-03-20 02:40:39 [scrapy.core.scraper] DEBUG: Scraped from <200 https://www.scrapethissite.com/pages/simple/>\n",
            "{'name': 'Norfolk Island', 'capital': 'Kingston', 'population': '1828', 'area': '34.6'}\n",
            "DEBUG:scrapy.core.scraper:Scraped from <200 https://www.scrapethissite.com/pages/simple/>\n",
            "{'name': 'Nigeria', 'capital': 'Abuja', 'population': '154000000', 'area': '923768.0'}\n",
            "2025-03-20 02:40:39 [scrapy.core.scraper] DEBUG: Scraped from <200 https://www.scrapethissite.com/pages/simple/>\n",
            "{'name': 'Nigeria', 'capital': 'Abuja', 'population': '154000000', 'area': '923768.0'}\n",
            "DEBUG:scrapy.core.scraper:Scraped from <200 https://www.scrapethissite.com/pages/simple/>\n",
            "{'name': 'Nicaragua', 'capital': 'Managua', 'population': '5995928', 'area': '129494.0'}\n",
            "2025-03-20 02:40:39 [scrapy.core.scraper] DEBUG: Scraped from <200 https://www.scrapethissite.com/pages/simple/>\n",
            "{'name': 'Nicaragua', 'capital': 'Managua', 'population': '5995928', 'area': '129494.0'}\n",
            "DEBUG:scrapy.core.scraper:Scraped from <200 https://www.scrapethissite.com/pages/simple/>\n",
            "{'name': 'Netherlands', 'capital': 'Amsterdam', 'population': '16645000', 'area': '41526.0'}\n",
            "2025-03-20 02:40:39 [scrapy.core.scraper] DEBUG: Scraped from <200 https://www.scrapethissite.com/pages/simple/>\n",
            "{'name': 'Netherlands', 'capital': 'Amsterdam', 'population': '16645000', 'area': '41526.0'}\n",
            "DEBUG:scrapy.core.scraper:Scraped from <200 https://www.scrapethissite.com/pages/simple/>\n",
            "{'name': 'Norway', 'capital': 'Oslo', 'population': '5009150', 'area': '324220.0'}\n",
            "2025-03-20 02:40:39 [scrapy.core.scraper] DEBUG: Scraped from <200 https://www.scrapethissite.com/pages/simple/>\n",
            "{'name': 'Norway', 'capital': 'Oslo', 'population': '5009150', 'area': '324220.0'}\n",
            "DEBUG:scrapy.core.scraper:Scraped from <200 https://www.scrapethissite.com/pages/simple/>\n",
            "{'name': 'Nepal', 'capital': 'Kathmandu', 'population': '28951852', 'area': '140800.0'}\n",
            "2025-03-20 02:40:39 [scrapy.core.scraper] DEBUG: Scraped from <200 https://www.scrapethissite.com/pages/simple/>\n",
            "{'name': 'Nepal', 'capital': 'Kathmandu', 'population': '28951852', 'area': '140800.0'}\n",
            "DEBUG:scrapy.core.scraper:Scraped from <200 https://www.scrapethissite.com/pages/simple/>\n",
            "{'name': 'Nauru', 'capital': 'Yaren', 'population': '10065', 'area': '21.0'}\n",
            "2025-03-20 02:40:39 [scrapy.core.scraper] DEBUG: Scraped from <200 https://www.scrapethissite.com/pages/simple/>\n",
            "{'name': 'Nauru', 'capital': 'Yaren', 'population': '10065', 'area': '21.0'}\n",
            "DEBUG:scrapy.core.scraper:Scraped from <200 https://www.scrapethissite.com/pages/simple/>\n",
            "{'name': 'Niue', 'capital': 'Alofi', 'population': '2166', 'area': '260.0'}\n",
            "2025-03-20 02:40:39 [scrapy.core.scraper] DEBUG: Scraped from <200 https://www.scrapethissite.com/pages/simple/>\n",
            "{'name': 'Niue', 'capital': 'Alofi', 'population': '2166', 'area': '260.0'}\n",
            "DEBUG:scrapy.core.scraper:Scraped from <200 https://www.scrapethissite.com/pages/simple/>\n",
            "{'name': 'New Zealand', 'capital': 'Wellington', 'population': '4252277', 'area': '268680.0'}\n",
            "2025-03-20 02:40:39 [scrapy.core.scraper] DEBUG: Scraped from <200 https://www.scrapethissite.com/pages/simple/>\n",
            "{'name': 'New Zealand', 'capital': 'Wellington', 'population': '4252277', 'area': '268680.0'}\n",
            "DEBUG:scrapy.core.scraper:Scraped from <200 https://www.scrapethissite.com/pages/simple/>\n",
            "{'name': 'Oman', 'capital': 'Muscat', 'population': '2967717', 'area': '212460.0'}\n",
            "2025-03-20 02:40:39 [scrapy.core.scraper] DEBUG: Scraped from <200 https://www.scrapethissite.com/pages/simple/>\n",
            "{'name': 'Oman', 'capital': 'Muscat', 'population': '2967717', 'area': '212460.0'}\n",
            "DEBUG:scrapy.core.scraper:Scraped from <200 https://www.scrapethissite.com/pages/simple/>\n",
            "{'name': 'Panama', 'capital': 'Panama City', 'population': '3410676', 'area': '78200.0'}\n",
            "2025-03-20 02:40:39 [scrapy.core.scraper] DEBUG: Scraped from <200 https://www.scrapethissite.com/pages/simple/>\n",
            "{'name': 'Panama', 'capital': 'Panama City', 'population': '3410676', 'area': '78200.0'}\n",
            "DEBUG:scrapy.core.scraper:Scraped from <200 https://www.scrapethissite.com/pages/simple/>\n",
            "{'name': 'Peru', 'capital': 'Lima', 'population': '29907003', 'area': '1285220.0'}\n",
            "2025-03-20 02:40:39 [scrapy.core.scraper] DEBUG: Scraped from <200 https://www.scrapethissite.com/pages/simple/>\n",
            "{'name': 'Peru', 'capital': 'Lima', 'population': '29907003', 'area': '1285220.0'}\n",
            "DEBUG:scrapy.core.scraper:Scraped from <200 https://www.scrapethissite.com/pages/simple/>\n",
            "{'name': 'French Polynesia', 'capital': 'Papeete', 'population': '270485', 'area': '4167.0'}\n",
            "2025-03-20 02:40:39 [scrapy.core.scraper] DEBUG: Scraped from <200 https://www.scrapethissite.com/pages/simple/>\n",
            "{'name': 'French Polynesia', 'capital': 'Papeete', 'population': '270485', 'area': '4167.0'}\n",
            "DEBUG:scrapy.core.scraper:Scraped from <200 https://www.scrapethissite.com/pages/simple/>\n",
            "{'name': 'Papua New Guinea', 'capital': 'Port Moresby', 'population': '6064515', 'area': '462840.0'}\n",
            "2025-03-20 02:40:39 [scrapy.core.scraper] DEBUG: Scraped from <200 https://www.scrapethissite.com/pages/simple/>\n",
            "{'name': 'Papua New Guinea', 'capital': 'Port Moresby', 'population': '6064515', 'area': '462840.0'}\n",
            "DEBUG:scrapy.core.scraper:Scraped from <200 https://www.scrapethissite.com/pages/simple/>\n",
            "{'name': 'Philippines', 'capital': 'Manila', 'population': '99900177', 'area': '300000.0'}\n",
            "2025-03-20 02:40:39 [scrapy.core.scraper] DEBUG: Scraped from <200 https://www.scrapethissite.com/pages/simple/>\n",
            "{'name': 'Philippines', 'capital': 'Manila', 'population': '99900177', 'area': '300000.0'}\n",
            "DEBUG:scrapy.core.scraper:Scraped from <200 https://www.scrapethissite.com/pages/simple/>\n",
            "{'name': 'Pakistan', 'capital': 'Islamabad', 'population': '184404791', 'area': '803940.0'}\n",
            "2025-03-20 02:40:39 [scrapy.core.scraper] DEBUG: Scraped from <200 https://www.scrapethissite.com/pages/simple/>\n",
            "{'name': 'Pakistan', 'capital': 'Islamabad', 'population': '184404791', 'area': '803940.0'}\n",
            "DEBUG:scrapy.core.scraper:Scraped from <200 https://www.scrapethissite.com/pages/simple/>\n",
            "{'name': 'Poland', 'capital': 'Warsaw', 'population': '38500000', 'area': '312685.0'}\n",
            "2025-03-20 02:40:39 [scrapy.core.scraper] DEBUG: Scraped from <200 https://www.scrapethissite.com/pages/simple/>\n",
            "{'name': 'Poland', 'capital': 'Warsaw', 'population': '38500000', 'area': '312685.0'}\n",
            "DEBUG:scrapy.core.scraper:Scraped from <200 https://www.scrapethissite.com/pages/simple/>\n",
            "{'name': 'Saint Pierre and Miquelon', 'capital': 'Saint-Pierre', 'population': '7012', 'area': '242.0'}\n",
            "2025-03-20 02:40:39 [scrapy.core.scraper] DEBUG: Scraped from <200 https://www.scrapethissite.com/pages/simple/>\n",
            "{'name': 'Saint Pierre and Miquelon', 'capital': 'Saint-Pierre', 'population': '7012', 'area': '242.0'}\n",
            "DEBUG:scrapy.core.scraper:Scraped from <200 https://www.scrapethissite.com/pages/simple/>\n",
            "{'name': 'Pitcairn Islands', 'capital': 'Adamstown', 'population': '46', 'area': '47.0'}\n",
            "2025-03-20 02:40:39 [scrapy.core.scraper] DEBUG: Scraped from <200 https://www.scrapethissite.com/pages/simple/>\n",
            "{'name': 'Pitcairn Islands', 'capital': 'Adamstown', 'population': '46', 'area': '47.0'}\n",
            "DEBUG:scrapy.core.scraper:Scraped from <200 https://www.scrapethissite.com/pages/simple/>\n",
            "{'name': 'Puerto Rico', 'capital': 'San Juan', 'population': '3916632', 'area': '9104.0'}\n",
            "2025-03-20 02:40:39 [scrapy.core.scraper] DEBUG: Scraped from <200 https://www.scrapethissite.com/pages/simple/>\n",
            "{'name': 'Puerto Rico', 'capital': 'San Juan', 'population': '3916632', 'area': '9104.0'}\n",
            "DEBUG:scrapy.core.scraper:Scraped from <200 https://www.scrapethissite.com/pages/simple/>\n",
            "{'name': 'Palestine', 'capital': 'None', 'population': '3800000', 'area': '5970.0'}\n",
            "2025-03-20 02:40:39 [scrapy.core.scraper] DEBUG: Scraped from <200 https://www.scrapethissite.com/pages/simple/>\n",
            "{'name': 'Palestine', 'capital': 'None', 'population': '3800000', 'area': '5970.0'}\n",
            "DEBUG:scrapy.core.scraper:Scraped from <200 https://www.scrapethissite.com/pages/simple/>\n",
            "{'name': 'Portugal', 'capital': 'Lisbon', 'population': '10676000', 'area': '92391.0'}\n",
            "2025-03-20 02:40:39 [scrapy.core.scraper] DEBUG: Scraped from <200 https://www.scrapethissite.com/pages/simple/>\n",
            "{'name': 'Portugal', 'capital': 'Lisbon', 'population': '10676000', 'area': '92391.0'}\n",
            "DEBUG:scrapy.core.scraper:Scraped from <200 https://www.scrapethissite.com/pages/simple/>\n",
            "{'name': 'Palau', 'capital': 'Melekeok', 'population': '19907', 'area': '458.0'}\n",
            "2025-03-20 02:40:39 [scrapy.core.scraper] DEBUG: Scraped from <200 https://www.scrapethissite.com/pages/simple/>\n",
            "{'name': 'Palau', 'capital': 'Melekeok', 'population': '19907', 'area': '458.0'}\n",
            "DEBUG:scrapy.core.scraper:Scraped from <200 https://www.scrapethissite.com/pages/simple/>\n",
            "{'name': 'Paraguay', 'capital': 'Asunción', 'population': '6375830', 'area': '406750.0'}\n",
            "2025-03-20 02:40:39 [scrapy.core.scraper] DEBUG: Scraped from <200 https://www.scrapethissite.com/pages/simple/>\n",
            "{'name': 'Paraguay', 'capital': 'Asunción', 'population': '6375830', 'area': '406750.0'}\n",
            "DEBUG:scrapy.core.scraper:Scraped from <200 https://www.scrapethissite.com/pages/simple/>\n",
            "{'name': 'Qatar', 'capital': 'Doha', 'population': '840926', 'area': '11437.0'}\n",
            "2025-03-20 02:40:39 [scrapy.core.scraper] DEBUG: Scraped from <200 https://www.scrapethissite.com/pages/simple/>\n",
            "{'name': 'Qatar', 'capital': 'Doha', 'population': '840926', 'area': '11437.0'}\n",
            "DEBUG:scrapy.core.scraper:Scraped from <200 https://www.scrapethissite.com/pages/simple/>\n",
            "{'name': 'Réunion', 'capital': 'Saint-Denis', 'population': '776948', 'area': '2517.0'}\n",
            "2025-03-20 02:40:39 [scrapy.core.scraper] DEBUG: Scraped from <200 https://www.scrapethissite.com/pages/simple/>\n",
            "{'name': 'Réunion', 'capital': 'Saint-Denis', 'population': '776948', 'area': '2517.0'}\n",
            "DEBUG:scrapy.core.scraper:Scraped from <200 https://www.scrapethissite.com/pages/simple/>\n",
            "{'name': 'Romania', 'capital': 'Bucharest', 'population': '21959278', 'area': '237500.0'}\n",
            "2025-03-20 02:40:39 [scrapy.core.scraper] DEBUG: Scraped from <200 https://www.scrapethissite.com/pages/simple/>\n",
            "{'name': 'Romania', 'capital': 'Bucharest', 'population': '21959278', 'area': '237500.0'}\n",
            "DEBUG:scrapy.core.scraper:Scraped from <200 https://www.scrapethissite.com/pages/simple/>\n",
            "{'name': 'Serbia', 'capital': 'Belgrade', 'population': '7344847', 'area': '88361.0'}\n",
            "2025-03-20 02:40:39 [scrapy.core.scraper] DEBUG: Scraped from <200 https://www.scrapethissite.com/pages/simple/>\n",
            "{'name': 'Serbia', 'capital': 'Belgrade', 'population': '7344847', 'area': '88361.0'}\n",
            "DEBUG:scrapy.core.scraper:Scraped from <200 https://www.scrapethissite.com/pages/simple/>\n",
            "{'name': 'Russia', 'capital': 'Moscow', 'population': '140702000', 'area': '1.71E7'}\n",
            "2025-03-20 02:40:39 [scrapy.core.scraper] DEBUG: Scraped from <200 https://www.scrapethissite.com/pages/simple/>\n",
            "{'name': 'Russia', 'capital': 'Moscow', 'population': '140702000', 'area': '1.71E7'}\n",
            "DEBUG:scrapy.core.scraper:Scraped from <200 https://www.scrapethissite.com/pages/simple/>\n",
            "{'name': 'Rwanda', 'capital': 'Kigali', 'population': '11055976', 'area': '26338.0'}\n",
            "2025-03-20 02:40:39 [scrapy.core.scraper] DEBUG: Scraped from <200 https://www.scrapethissite.com/pages/simple/>\n",
            "{'name': 'Rwanda', 'capital': 'Kigali', 'population': '11055976', 'area': '26338.0'}\n",
            "DEBUG:scrapy.core.scraper:Scraped from <200 https://www.scrapethissite.com/pages/simple/>\n",
            "{'name': 'Saudi Arabia', 'capital': 'Riyadh', 'population': '25731776', 'area': '1960582.0'}\n",
            "2025-03-20 02:40:39 [scrapy.core.scraper] DEBUG: Scraped from <200 https://www.scrapethissite.com/pages/simple/>\n",
            "{'name': 'Saudi Arabia', 'capital': 'Riyadh', 'population': '25731776', 'area': '1960582.0'}\n",
            "DEBUG:scrapy.core.scraper:Scraped from <200 https://www.scrapethissite.com/pages/simple/>\n",
            "{'name': 'Solomon Islands', 'capital': 'Honiara', 'population': '559198', 'area': '28450.0'}\n",
            "2025-03-20 02:40:39 [scrapy.core.scraper] DEBUG: Scraped from <200 https://www.scrapethissite.com/pages/simple/>\n",
            "{'name': 'Solomon Islands', 'capital': 'Honiara', 'population': '559198', 'area': '28450.0'}\n",
            "DEBUG:scrapy.core.scraper:Scraped from <200 https://www.scrapethissite.com/pages/simple/>\n",
            "{'name': 'Seychelles', 'capital': 'Victoria', 'population': '88340', 'area': '455.0'}\n",
            "2025-03-20 02:40:39 [scrapy.core.scraper] DEBUG: Scraped from <200 https://www.scrapethissite.com/pages/simple/>\n",
            "{'name': 'Seychelles', 'capital': 'Victoria', 'population': '88340', 'area': '455.0'}\n",
            "DEBUG:scrapy.core.scraper:Scraped from <200 https://www.scrapethissite.com/pages/simple/>\n",
            "{'name': 'Sudan', 'capital': 'Khartoum', 'population': '35000000', 'area': '1861484.0'}\n",
            "2025-03-20 02:40:39 [scrapy.core.scraper] DEBUG: Scraped from <200 https://www.scrapethissite.com/pages/simple/>\n",
            "{'name': 'Sudan', 'capital': 'Khartoum', 'population': '35000000', 'area': '1861484.0'}\n",
            "DEBUG:scrapy.core.scraper:Scraped from <200 https://www.scrapethissite.com/pages/simple/>\n",
            "{'name': 'Sweden', 'capital': 'Stockholm', 'population': '9828655', 'area': '449964.0'}\n",
            "2025-03-20 02:40:39 [scrapy.core.scraper] DEBUG: Scraped from <200 https://www.scrapethissite.com/pages/simple/>\n",
            "{'name': 'Sweden', 'capital': 'Stockholm', 'population': '9828655', 'area': '449964.0'}\n",
            "DEBUG:scrapy.core.scraper:Scraped from <200 https://www.scrapethissite.com/pages/simple/>\n",
            "{'name': 'Singapore', 'capital': 'Singapore', 'population': '4701069', 'area': '692.7'}\n",
            "2025-03-20 02:40:39 [scrapy.core.scraper] DEBUG: Scraped from <200 https://www.scrapethissite.com/pages/simple/>\n",
            "{'name': 'Singapore', 'capital': 'Singapore', 'population': '4701069', 'area': '692.7'}\n",
            "DEBUG:scrapy.core.scraper:Scraped from <200 https://www.scrapethissite.com/pages/simple/>\n",
            "{'name': 'Saint Helena', 'capital': 'Jamestown', 'population': '7460', 'area': '410.0'}\n",
            "2025-03-20 02:40:39 [scrapy.core.scraper] DEBUG: Scraped from <200 https://www.scrapethissite.com/pages/simple/>\n",
            "{'name': 'Saint Helena', 'capital': 'Jamestown', 'population': '7460', 'area': '410.0'}\n",
            "DEBUG:scrapy.core.scraper:Scraped from <200 https://www.scrapethissite.com/pages/simple/>\n",
            "{'name': 'Slovenia', 'capital': 'Ljubljana', 'population': '2007000', 'area': '20273.0'}\n",
            "2025-03-20 02:40:39 [scrapy.core.scraper] DEBUG: Scraped from <200 https://www.scrapethissite.com/pages/simple/>\n",
            "{'name': 'Slovenia', 'capital': 'Ljubljana', 'population': '2007000', 'area': '20273.0'}\n",
            "DEBUG:scrapy.core.scraper:Scraped from <200 https://www.scrapethissite.com/pages/simple/>\n",
            "{'name': 'Svalbard and Jan Mayen', 'capital': 'Longyearbyen', 'population': '2550', 'area': '62049.0'}\n",
            "2025-03-20 02:40:39 [scrapy.core.scraper] DEBUG: Scraped from <200 https://www.scrapethissite.com/pages/simple/>\n",
            "{'name': 'Svalbard and Jan Mayen', 'capital': 'Longyearbyen', 'population': '2550', 'area': '62049.0'}\n",
            "DEBUG:scrapy.core.scraper:Scraped from <200 https://www.scrapethissite.com/pages/simple/>\n",
            "{'name': 'Slovakia', 'capital': 'Bratislava', 'population': '5455000', 'area': '48845.0'}\n",
            "2025-03-20 02:40:39 [scrapy.core.scraper] DEBUG: Scraped from <200 https://www.scrapethissite.com/pages/simple/>\n",
            "{'name': 'Slovakia', 'capital': 'Bratislava', 'population': '5455000', 'area': '48845.0'}\n",
            "DEBUG:scrapy.core.scraper:Scraped from <200 https://www.scrapethissite.com/pages/simple/>\n",
            "{'name': 'Sierra Leone', 'capital': 'Freetown', 'population': '5245695', 'area': '71740.0'}\n",
            "2025-03-20 02:40:39 [scrapy.core.scraper] DEBUG: Scraped from <200 https://www.scrapethissite.com/pages/simple/>\n",
            "{'name': 'Sierra Leone', 'capital': 'Freetown', 'population': '5245695', 'area': '71740.0'}\n",
            "DEBUG:scrapy.core.scraper:Scraped from <200 https://www.scrapethissite.com/pages/simple/>\n",
            "{'name': 'San Marino', 'capital': 'San Marino', 'population': '31477', 'area': '61.2'}\n",
            "2025-03-20 02:40:39 [scrapy.core.scraper] DEBUG: Scraped from <200 https://www.scrapethissite.com/pages/simple/>\n",
            "{'name': 'San Marino', 'capital': 'San Marino', 'population': '31477', 'area': '61.2'}\n",
            "DEBUG:scrapy.core.scraper:Scraped from <200 https://www.scrapethissite.com/pages/simple/>\n",
            "{'name': 'Senegal', 'capital': 'Dakar', 'population': '12323252', 'area': '196190.0'}\n",
            "2025-03-20 02:40:39 [scrapy.core.scraper] DEBUG: Scraped from <200 https://www.scrapethissite.com/pages/simple/>\n",
            "{'name': 'Senegal', 'capital': 'Dakar', 'population': '12323252', 'area': '196190.0'}\n",
            "DEBUG:scrapy.core.scraper:Scraped from <200 https://www.scrapethissite.com/pages/simple/>\n",
            "{'name': 'Somalia', 'capital': 'Mogadishu', 'population': '10112453', 'area': '637657.0'}\n",
            "2025-03-20 02:40:39 [scrapy.core.scraper] DEBUG: Scraped from <200 https://www.scrapethissite.com/pages/simple/>\n",
            "{'name': 'Somalia', 'capital': 'Mogadishu', 'population': '10112453', 'area': '637657.0'}\n",
            "DEBUG:scrapy.core.scraper:Scraped from <200 https://www.scrapethissite.com/pages/simple/>\n",
            "{'name': 'Suriname', 'capital': 'Paramaribo', 'population': '492829', 'area': '163270.0'}\n",
            "2025-03-20 02:40:39 [scrapy.core.scraper] DEBUG: Scraped from <200 https://www.scrapethissite.com/pages/simple/>\n",
            "{'name': 'Suriname', 'capital': 'Paramaribo', 'population': '492829', 'area': '163270.0'}\n",
            "DEBUG:scrapy.core.scraper:Scraped from <200 https://www.scrapethissite.com/pages/simple/>\n",
            "{'name': 'South Sudan', 'capital': 'Juba', 'population': '8260490', 'area': '644329.0'}\n",
            "2025-03-20 02:40:39 [scrapy.core.scraper] DEBUG: Scraped from <200 https://www.scrapethissite.com/pages/simple/>\n",
            "{'name': 'South Sudan', 'capital': 'Juba', 'population': '8260490', 'area': '644329.0'}\n",
            "DEBUG:scrapy.core.scraper:Scraped from <200 https://www.scrapethissite.com/pages/simple/>\n",
            "{'name': 'São Tomé and Príncipe', 'capital': 'São Tomé', 'population': '175808', 'area': '1001.0'}\n",
            "2025-03-20 02:40:39 [scrapy.core.scraper] DEBUG: Scraped from <200 https://www.scrapethissite.com/pages/simple/>\n",
            "{'name': 'São Tomé and Príncipe', 'capital': 'São Tomé', 'population': '175808', 'area': '1001.0'}\n",
            "DEBUG:scrapy.core.scraper:Scraped from <200 https://www.scrapethissite.com/pages/simple/>\n",
            "{'name': 'El Salvador', 'capital': 'San Salvador', 'population': '6052064', 'area': '21040.0'}\n",
            "2025-03-20 02:40:39 [scrapy.core.scraper] DEBUG: Scraped from <200 https://www.scrapethissite.com/pages/simple/>\n",
            "{'name': 'El Salvador', 'capital': 'San Salvador', 'population': '6052064', 'area': '21040.0'}\n",
            "DEBUG:scrapy.core.scraper:Scraped from <200 https://www.scrapethissite.com/pages/simple/>\n",
            "{'name': 'Sint Maarten', 'capital': 'Philipsburg', 'population': '37429', 'area': '21.0'}\n",
            "2025-03-20 02:40:39 [scrapy.core.scraper] DEBUG: Scraped from <200 https://www.scrapethissite.com/pages/simple/>\n",
            "{'name': 'Sint Maarten', 'capital': 'Philipsburg', 'population': '37429', 'area': '21.0'}\n",
            "DEBUG:scrapy.core.scraper:Scraped from <200 https://www.scrapethissite.com/pages/simple/>\n",
            "{'name': 'Syria', 'capital': 'Damascus', 'population': '22198110', 'area': '185180.0'}\n",
            "2025-03-20 02:40:39 [scrapy.core.scraper] DEBUG: Scraped from <200 https://www.scrapethissite.com/pages/simple/>\n",
            "{'name': 'Syria', 'capital': 'Damascus', 'population': '22198110', 'area': '185180.0'}\n",
            "DEBUG:scrapy.core.scraper:Scraped from <200 https://www.scrapethissite.com/pages/simple/>\n",
            "{'name': 'Swaziland', 'capital': 'Mbabane', 'population': '1354051', 'area': '17363.0'}\n",
            "2025-03-20 02:40:39 [scrapy.core.scraper] DEBUG: Scraped from <200 https://www.scrapethissite.com/pages/simple/>\n",
            "{'name': 'Swaziland', 'capital': 'Mbabane', 'population': '1354051', 'area': '17363.0'}\n",
            "DEBUG:scrapy.core.scraper:Scraped from <200 https://www.scrapethissite.com/pages/simple/>\n",
            "{'name': 'Turks and Caicos Islands', 'capital': 'Cockburn Town', 'population': '20556', 'area': '430.0'}\n",
            "2025-03-20 02:40:39 [scrapy.core.scraper] DEBUG: Scraped from <200 https://www.scrapethissite.com/pages/simple/>\n",
            "{'name': 'Turks and Caicos Islands', 'capital': 'Cockburn Town', 'population': '20556', 'area': '430.0'}\n",
            "DEBUG:scrapy.core.scraper:Scraped from <200 https://www.scrapethissite.com/pages/simple/>\n",
            "{'name': 'Chad', 'capital': \"N'Djamena\", 'population': '10543464', 'area': '1284000.0'}\n",
            "2025-03-20 02:40:39 [scrapy.core.scraper] DEBUG: Scraped from <200 https://www.scrapethissite.com/pages/simple/>\n",
            "{'name': 'Chad', 'capital': \"N'Djamena\", 'population': '10543464', 'area': '1284000.0'}\n",
            "DEBUG:scrapy.core.scraper:Scraped from <200 https://www.scrapethissite.com/pages/simple/>\n",
            "{'name': 'French Southern Territories', 'capital': 'Port-aux-Français', 'population': '140', 'area': '7829.0'}\n",
            "2025-03-20 02:40:39 [scrapy.core.scraper] DEBUG: Scraped from <200 https://www.scrapethissite.com/pages/simple/>\n",
            "{'name': 'French Southern Territories', 'capital': 'Port-aux-Français', 'population': '140', 'area': '7829.0'}\n",
            "DEBUG:scrapy.core.scraper:Scraped from <200 https://www.scrapethissite.com/pages/simple/>\n",
            "{'name': 'Togo', 'capital': 'Lomé', 'population': '6587239', 'area': '56785.0'}\n",
            "2025-03-20 02:40:39 [scrapy.core.scraper] DEBUG: Scraped from <200 https://www.scrapethissite.com/pages/simple/>\n",
            "{'name': 'Togo', 'capital': 'Lomé', 'population': '6587239', 'area': '56785.0'}\n",
            "DEBUG:scrapy.core.scraper:Scraped from <200 https://www.scrapethissite.com/pages/simple/>\n",
            "{'name': 'Thailand', 'capital': 'Bangkok', 'population': '67089500', 'area': '514000.0'}\n",
            "2025-03-20 02:40:39 [scrapy.core.scraper] DEBUG: Scraped from <200 https://www.scrapethissite.com/pages/simple/>\n",
            "{'name': 'Thailand', 'capital': 'Bangkok', 'population': '67089500', 'area': '514000.0'}\n",
            "DEBUG:scrapy.core.scraper:Scraped from <200 https://www.scrapethissite.com/pages/simple/>\n",
            "{'name': 'Tajikistan', 'capital': 'Dushanbe', 'population': '7487489', 'area': '143100.0'}\n",
            "2025-03-20 02:40:39 [scrapy.core.scraper] DEBUG: Scraped from <200 https://www.scrapethissite.com/pages/simple/>\n",
            "{'name': 'Tajikistan', 'capital': 'Dushanbe', 'population': '7487489', 'area': '143100.0'}\n",
            "DEBUG:scrapy.core.scraper:Scraped from <200 https://www.scrapethissite.com/pages/simple/>\n",
            "{'name': 'Tokelau', 'capital': 'None', 'population': '1466', 'area': '10.0'}\n",
            "2025-03-20 02:40:39 [scrapy.core.scraper] DEBUG: Scraped from <200 https://www.scrapethissite.com/pages/simple/>\n",
            "{'name': 'Tokelau', 'capital': 'None', 'population': '1466', 'area': '10.0'}\n",
            "DEBUG:scrapy.core.scraper:Scraped from <200 https://www.scrapethissite.com/pages/simple/>\n",
            "{'name': 'East Timor', 'capital': 'Dili', 'population': '1154625', 'area': '15007.0'}\n",
            "2025-03-20 02:40:39 [scrapy.core.scraper] DEBUG: Scraped from <200 https://www.scrapethissite.com/pages/simple/>\n",
            "{'name': 'East Timor', 'capital': 'Dili', 'population': '1154625', 'area': '15007.0'}\n",
            "DEBUG:scrapy.core.scraper:Scraped from <200 https://www.scrapethissite.com/pages/simple/>\n",
            "{'name': 'Turkmenistan', 'capital': 'Ashgabat', 'population': '4940916', 'area': '488100.0'}\n",
            "2025-03-20 02:40:39 [scrapy.core.scraper] DEBUG: Scraped from <200 https://www.scrapethissite.com/pages/simple/>\n",
            "{'name': 'Turkmenistan', 'capital': 'Ashgabat', 'population': '4940916', 'area': '488100.0'}\n",
            "DEBUG:scrapy.core.scraper:Scraped from <200 https://www.scrapethissite.com/pages/simple/>\n",
            "{'name': 'Tunisia', 'capital': 'Tunis', 'population': '10589025', 'area': '163610.0'}\n",
            "2025-03-20 02:40:39 [scrapy.core.scraper] DEBUG: Scraped from <200 https://www.scrapethissite.com/pages/simple/>\n",
            "{'name': 'Tunisia', 'capital': 'Tunis', 'population': '10589025', 'area': '163610.0'}\n",
            "DEBUG:scrapy.core.scraper:Scraped from <200 https://www.scrapethissite.com/pages/simple/>\n",
            "{'name': 'Tonga', 'capital': \"Nuku'alofa\", 'population': '122580', 'area': '748.0'}\n",
            "2025-03-20 02:40:39 [scrapy.core.scraper] DEBUG: Scraped from <200 https://www.scrapethissite.com/pages/simple/>\n",
            "{'name': 'Tonga', 'capital': \"Nuku'alofa\", 'population': '122580', 'area': '748.0'}\n",
            "DEBUG:scrapy.core.scraper:Scraped from <200 https://www.scrapethissite.com/pages/simple/>\n",
            "{'name': 'Turkey', 'capital': 'Ankara', 'population': '77804122', 'area': '780580.0'}\n",
            "2025-03-20 02:40:39 [scrapy.core.scraper] DEBUG: Scraped from <200 https://www.scrapethissite.com/pages/simple/>\n",
            "{'name': 'Turkey', 'capital': 'Ankara', 'population': '77804122', 'area': '780580.0'}\n",
            "DEBUG:scrapy.core.scraper:Scraped from <200 https://www.scrapethissite.com/pages/simple/>\n",
            "{'name': 'Trinidad and Tobago', 'capital': 'Port of Spain', 'population': '1228691', 'area': '5128.0'}\n",
            "2025-03-20 02:40:39 [scrapy.core.scraper] DEBUG: Scraped from <200 https://www.scrapethissite.com/pages/simple/>\n",
            "{'name': 'Trinidad and Tobago', 'capital': 'Port of Spain', 'population': '1228691', 'area': '5128.0'}\n",
            "DEBUG:scrapy.core.scraper:Scraped from <200 https://www.scrapethissite.com/pages/simple/>\n",
            "{'name': 'Tuvalu', 'capital': 'Funafuti', 'population': '10472', 'area': '26.0'}\n",
            "2025-03-20 02:40:39 [scrapy.core.scraper] DEBUG: Scraped from <200 https://www.scrapethissite.com/pages/simple/>\n",
            "{'name': 'Tuvalu', 'capital': 'Funafuti', 'population': '10472', 'area': '26.0'}\n",
            "DEBUG:scrapy.core.scraper:Scraped from <200 https://www.scrapethissite.com/pages/simple/>\n",
            "{'name': 'Taiwan', 'capital': 'Taipei', 'population': '22894384', 'area': '35980.0'}\n",
            "2025-03-20 02:40:39 [scrapy.core.scraper] DEBUG: Scraped from <200 https://www.scrapethissite.com/pages/simple/>\n",
            "{'name': 'Taiwan', 'capital': 'Taipei', 'population': '22894384', 'area': '35980.0'}\n",
            "DEBUG:scrapy.core.scraper:Scraped from <200 https://www.scrapethissite.com/pages/simple/>\n",
            "{'name': 'Tanzania', 'capital': 'Dodoma', 'population': '41892895', 'area': '945087.0'}\n",
            "2025-03-20 02:40:39 [scrapy.core.scraper] DEBUG: Scraped from <200 https://www.scrapethissite.com/pages/simple/>\n",
            "{'name': 'Tanzania', 'capital': 'Dodoma', 'population': '41892895', 'area': '945087.0'}\n",
            "DEBUG:scrapy.core.scraper:Scraped from <200 https://www.scrapethissite.com/pages/simple/>\n",
            "{'name': 'Ukraine', 'capital': 'Kiev', 'population': '45415596', 'area': '603700.0'}\n",
            "2025-03-20 02:40:39 [scrapy.core.scraper] DEBUG: Scraped from <200 https://www.scrapethissite.com/pages/simple/>\n",
            "{'name': 'Ukraine', 'capital': 'Kiev', 'population': '45415596', 'area': '603700.0'}\n",
            "DEBUG:scrapy.core.scraper:Scraped from <200 https://www.scrapethissite.com/pages/simple/>\n",
            "{'name': 'Uganda', 'capital': 'Kampala', 'population': '33398682', 'area': '236040.0'}\n",
            "2025-03-20 02:40:39 [scrapy.core.scraper] DEBUG: Scraped from <200 https://www.scrapethissite.com/pages/simple/>\n",
            "{'name': 'Uganda', 'capital': 'Kampala', 'population': '33398682', 'area': '236040.0'}\n",
            "DEBUG:scrapy.core.scraper:Scraped from <200 https://www.scrapethissite.com/pages/simple/>\n",
            "{'name': 'U.S. Minor Outlying Islands', 'capital': 'None', 'population': '0', 'area': '0.0'}\n",
            "2025-03-20 02:40:39 [scrapy.core.scraper] DEBUG: Scraped from <200 https://www.scrapethissite.com/pages/simple/>\n",
            "{'name': 'U.S. Minor Outlying Islands', 'capital': 'None', 'population': '0', 'area': '0.0'}\n",
            "DEBUG:scrapy.core.scraper:Scraped from <200 https://www.scrapethissite.com/pages/simple/>\n",
            "{'name': 'United States', 'capital': 'Washington', 'population': '310232863', 'area': '9629091.0'}\n",
            "2025-03-20 02:40:39 [scrapy.core.scraper] DEBUG: Scraped from <200 https://www.scrapethissite.com/pages/simple/>\n",
            "{'name': 'United States', 'capital': 'Washington', 'population': '310232863', 'area': '9629091.0'}\n",
            "DEBUG:scrapy.core.scraper:Scraped from <200 https://www.scrapethissite.com/pages/simple/>\n",
            "{'name': 'Uruguay', 'capital': 'Montevideo', 'population': '3477000', 'area': '176220.0'}\n",
            "2025-03-20 02:40:39 [scrapy.core.scraper] DEBUG: Scraped from <200 https://www.scrapethissite.com/pages/simple/>\n",
            "{'name': 'Uruguay', 'capital': 'Montevideo', 'population': '3477000', 'area': '176220.0'}\n",
            "DEBUG:scrapy.core.scraper:Scraped from <200 https://www.scrapethissite.com/pages/simple/>\n",
            "{'name': 'Uzbekistan', 'capital': 'Tashkent', 'population': '27865738', 'area': '447400.0'}\n",
            "2025-03-20 02:40:39 [scrapy.core.scraper] DEBUG: Scraped from <200 https://www.scrapethissite.com/pages/simple/>\n",
            "{'name': 'Uzbekistan', 'capital': 'Tashkent', 'population': '27865738', 'area': '447400.0'}\n",
            "DEBUG:scrapy.core.scraper:Scraped from <200 https://www.scrapethissite.com/pages/simple/>\n",
            "{'name': 'Vatican City', 'capital': 'Vatican City', 'population': '921', 'area': '0.44'}\n",
            "2025-03-20 02:40:39 [scrapy.core.scraper] DEBUG: Scraped from <200 https://www.scrapethissite.com/pages/simple/>\n",
            "{'name': 'Vatican City', 'capital': 'Vatican City', 'population': '921', 'area': '0.44'}\n",
            "DEBUG:scrapy.core.scraper:Scraped from <200 https://www.scrapethissite.com/pages/simple/>\n",
            "{'name': 'Saint Vincent and the Grenadines', 'capital': 'Kingstown', 'population': '104217', 'area': '389.0'}\n",
            "2025-03-20 02:40:39 [scrapy.core.scraper] DEBUG: Scraped from <200 https://www.scrapethissite.com/pages/simple/>\n",
            "{'name': 'Saint Vincent and the Grenadines', 'capital': 'Kingstown', 'population': '104217', 'area': '389.0'}\n",
            "DEBUG:scrapy.core.scraper:Scraped from <200 https://www.scrapethissite.com/pages/simple/>\n",
            "{'name': 'Venezuela', 'capital': 'Caracas', 'population': '27223228', 'area': '912050.0'}\n",
            "2025-03-20 02:40:39 [scrapy.core.scraper] DEBUG: Scraped from <200 https://www.scrapethissite.com/pages/simple/>\n",
            "{'name': 'Venezuela', 'capital': 'Caracas', 'population': '27223228', 'area': '912050.0'}\n",
            "DEBUG:scrapy.core.scraper:Scraped from <200 https://www.scrapethissite.com/pages/simple/>\n",
            "{'name': 'British Virgin Islands', 'capital': 'Road Town', 'population': '21730', 'area': '153.0'}\n",
            "2025-03-20 02:40:39 [scrapy.core.scraper] DEBUG: Scraped from <200 https://www.scrapethissite.com/pages/simple/>\n",
            "{'name': 'British Virgin Islands', 'capital': 'Road Town', 'population': '21730', 'area': '153.0'}\n",
            "DEBUG:scrapy.core.scraper:Scraped from <200 https://www.scrapethissite.com/pages/simple/>\n",
            "{'name': 'U.S. Virgin Islands', 'capital': 'Charlotte Amalie', 'population': '108708', 'area': '352.0'}\n",
            "2025-03-20 02:40:39 [scrapy.core.scraper] DEBUG: Scraped from <200 https://www.scrapethissite.com/pages/simple/>\n",
            "{'name': 'U.S. Virgin Islands', 'capital': 'Charlotte Amalie', 'population': '108708', 'area': '352.0'}\n",
            "DEBUG:scrapy.core.scraper:Scraped from <200 https://www.scrapethissite.com/pages/simple/>\n",
            "{'name': 'Vietnam', 'capital': 'Hanoi', 'population': '89571130', 'area': '329560.0'}\n",
            "2025-03-20 02:40:39 [scrapy.core.scraper] DEBUG: Scraped from <200 https://www.scrapethissite.com/pages/simple/>\n",
            "{'name': 'Vietnam', 'capital': 'Hanoi', 'population': '89571130', 'area': '329560.0'}\n",
            "DEBUG:scrapy.core.scraper:Scraped from <200 https://www.scrapethissite.com/pages/simple/>\n",
            "{'name': 'Vanuatu', 'capital': 'Port Vila', 'population': '221552', 'area': '12200.0'}\n",
            "2025-03-20 02:40:39 [scrapy.core.scraper] DEBUG: Scraped from <200 https://www.scrapethissite.com/pages/simple/>\n",
            "{'name': 'Vanuatu', 'capital': 'Port Vila', 'population': '221552', 'area': '12200.0'}\n",
            "DEBUG:scrapy.core.scraper:Scraped from <200 https://www.scrapethissite.com/pages/simple/>\n",
            "{'name': 'Wallis and Futuna', 'capital': 'Mata-Utu', 'population': '16025', 'area': '274.0'}\n",
            "2025-03-20 02:40:39 [scrapy.core.scraper] DEBUG: Scraped from <200 https://www.scrapethissite.com/pages/simple/>\n",
            "{'name': 'Wallis and Futuna', 'capital': 'Mata-Utu', 'population': '16025', 'area': '274.0'}\n",
            "DEBUG:scrapy.core.scraper:Scraped from <200 https://www.scrapethissite.com/pages/simple/>\n",
            "{'name': 'Samoa', 'capital': 'Apia', 'population': '192001', 'area': '2944.0'}\n",
            "2025-03-20 02:40:39 [scrapy.core.scraper] DEBUG: Scraped from <200 https://www.scrapethissite.com/pages/simple/>\n",
            "{'name': 'Samoa', 'capital': 'Apia', 'population': '192001', 'area': '2944.0'}\n",
            "DEBUG:scrapy.core.scraper:Scraped from <200 https://www.scrapethissite.com/pages/simple/>\n",
            "{'name': 'Kosovo', 'capital': 'Pristina', 'population': '1800000', 'area': '10908.0'}\n",
            "2025-03-20 02:40:39 [scrapy.core.scraper] DEBUG: Scraped from <200 https://www.scrapethissite.com/pages/simple/>\n",
            "{'name': 'Kosovo', 'capital': 'Pristina', 'population': '1800000', 'area': '10908.0'}\n",
            "DEBUG:scrapy.core.scraper:Scraped from <200 https://www.scrapethissite.com/pages/simple/>\n",
            "{'name': 'Yemen', 'capital': 'Sanaa', 'population': '23495361', 'area': '527970.0'}\n",
            "2025-03-20 02:40:39 [scrapy.core.scraper] DEBUG: Scraped from <200 https://www.scrapethissite.com/pages/simple/>\n",
            "{'name': 'Yemen', 'capital': 'Sanaa', 'population': '23495361', 'area': '527970.0'}\n",
            "DEBUG:scrapy.core.scraper:Scraped from <200 https://www.scrapethissite.com/pages/simple/>\n",
            "{'name': 'Mayotte', 'capital': 'Mamoudzou', 'population': '159042', 'area': '374.0'}\n",
            "2025-03-20 02:40:39 [scrapy.core.scraper] DEBUG: Scraped from <200 https://www.scrapethissite.com/pages/simple/>\n",
            "{'name': 'Mayotte', 'capital': 'Mamoudzou', 'population': '159042', 'area': '374.0'}\n",
            "DEBUG:scrapy.core.scraper:Scraped from <200 https://www.scrapethissite.com/pages/simple/>\n",
            "{'name': 'South Africa', 'capital': 'Pretoria', 'population': '49000000', 'area': '1219912.0'}\n",
            "2025-03-20 02:40:39 [scrapy.core.scraper] DEBUG: Scraped from <200 https://www.scrapethissite.com/pages/simple/>\n",
            "{'name': 'South Africa', 'capital': 'Pretoria', 'population': '49000000', 'area': '1219912.0'}\n",
            "DEBUG:scrapy.core.scraper:Scraped from <200 https://www.scrapethissite.com/pages/simple/>\n",
            "{'name': 'Zambia', 'capital': 'Lusaka', 'population': '13460305', 'area': '752614.0'}\n",
            "2025-03-20 02:40:39 [scrapy.core.scraper] DEBUG: Scraped from <200 https://www.scrapethissite.com/pages/simple/>\n",
            "{'name': 'Zambia', 'capital': 'Lusaka', 'population': '13460305', 'area': '752614.0'}\n",
            "DEBUG:scrapy.core.scraper:Scraped from <200 https://www.scrapethissite.com/pages/simple/>\n",
            "{'name': 'Zimbabwe', 'capital': 'Harare', 'population': '11651858', 'area': '390580.0'}\n",
            "2025-03-20 02:40:39 [scrapy.core.scraper] DEBUG: Scraped from <200 https://www.scrapethissite.com/pages/simple/>\n",
            "{'name': 'Zimbabwe', 'capital': 'Harare', 'population': '11651858', 'area': '390580.0'}\n",
            "INFO:scrapy.core.engine:Closing spider (finished)\n",
            "2025-03-20 02:40:39 [scrapy.core.engine] INFO: Closing spider (finished)\n",
            "INFO:scrapy.extensions.feedexport:Stored json feed (250 items) in: countries.json\n",
            "2025-03-20 02:40:39 [scrapy.extensions.feedexport] INFO: Stored json feed (250 items) in: countries.json\n",
            "INFO:scrapy.statscollectors:Dumping Scrapy stats:\n",
            "{'downloader/request_bytes': 242,\n",
            " 'downloader/request_count': 1,\n",
            " 'downloader/request_method_count/GET': 1,\n",
            " 'downloader/response_bytes': 12743,\n",
            " 'downloader/response_count': 1,\n",
            " 'downloader/response_status_count/200': 1,\n",
            " 'elapsed_time_seconds': 1.817302,\n",
            " 'feedexport/success_count/FileFeedStorage': 1,\n",
            " 'finish_reason': 'finished',\n",
            " 'finish_time': datetime.datetime(2025, 3, 20, 2, 40, 39, 755091, tzinfo=datetime.timezone.utc),\n",
            " 'httpcompression/response_bytes': 203361,\n",
            " 'httpcompression/response_count': 1,\n",
            " 'item_scraped_count': 250,\n",
            " 'items_per_minute': None,\n",
            " 'log_count/DEBUG': 252,\n",
            " 'log_count/INFO': 11,\n",
            " 'memusage/max': 147660800,\n",
            " 'memusage/startup': 147660800,\n",
            " 'response_received_count': 1,\n",
            " 'responses_per_minute': None,\n",
            " 'scheduler/dequeued': 1,\n",
            " 'scheduler/dequeued/memory': 1,\n",
            " 'scheduler/enqueued': 1,\n",
            " 'scheduler/enqueued/memory': 1,\n",
            " 'start_time': datetime.datetime(2025, 3, 20, 2, 40, 37, 937789, tzinfo=datetime.timezone.utc)}\n",
            "2025-03-20 02:40:39 [scrapy.statscollectors] INFO: Dumping Scrapy stats:\n",
            "{'downloader/request_bytes': 242,\n",
            " 'downloader/request_count': 1,\n",
            " 'downloader/request_method_count/GET': 1,\n",
            " 'downloader/response_bytes': 12743,\n",
            " 'downloader/response_count': 1,\n",
            " 'downloader/response_status_count/200': 1,\n",
            " 'elapsed_time_seconds': 1.817302,\n",
            " 'feedexport/success_count/FileFeedStorage': 1,\n",
            " 'finish_reason': 'finished',\n",
            " 'finish_time': datetime.datetime(2025, 3, 20, 2, 40, 39, 755091, tzinfo=datetime.timezone.utc),\n",
            " 'httpcompression/response_bytes': 203361,\n",
            " 'httpcompression/response_count': 1,\n",
            " 'item_scraped_count': 250,\n",
            " 'items_per_minute': None,\n",
            " 'log_count/DEBUG': 252,\n",
            " 'log_count/INFO': 11,\n",
            " 'memusage/max': 147660800,\n",
            " 'memusage/startup': 147660800,\n",
            " 'response_received_count': 1,\n",
            " 'responses_per_minute': None,\n",
            " 'scheduler/dequeued': 1,\n",
            " 'scheduler/dequeued/memory': 1,\n",
            " 'scheduler/enqueued': 1,\n",
            " 'scheduler/enqueued/memory': 1,\n",
            " 'start_time': datetime.datetime(2025, 3, 20, 2, 40, 37, 937789, tzinfo=datetime.timezone.utc)}\n",
            "INFO:scrapy.core.engine:Spider closed (finished)\n",
            "2025-03-20 02:40:39 [scrapy.core.engine] INFO: Spider closed (finished)\n"
          ]
        }
      ]
    },
    {
      "cell_type": "code",
      "source": [
        "import json\n",
        "\n",
        "data = []\n",
        "with open(\"countries.json\", \"r\") as file:\n",
        "    for line in file:\n",
        "        try:\n",
        "            data.append(json.loads(line))  # Load tiap baris JSON\n",
        "        except json.JSONDecodeError as e:\n",
        "            print(f\"Error parsing JSON: {e}\")\n",
        "\n",
        "# Cek 5 data pertama\n",
        "print(\"\\n5 Data Negara yang Berhasil Diambil:\")\n",
        "for country in data[:5]:\n",
        "    print(country)\n"
      ],
      "metadata": {
        "id": "scvD6RFH4zbW"
      },
      "execution_count": null,
      "outputs": []
    },
    {
      "cell_type": "markdown",
      "source": [
        "4. Buat data scraping menggunakan API:\n",
        "\n",
        "- Pilih salah satu penyedia data: Twitter/Instagram/Facebook/Google/atau lainnya\n",
        "- Sign Up untuk mendapatkan akses autentikasi API (jika diperlukan)\n",
        "- Baca dan pelajari dokumentasi API\n",
        "- Ambil data dari penyedia data (cukup satu jenis data saja - 1 API method)"
      ],
      "metadata": {
        "id": "p1Smp0tyurwd"
      }
    },
    {
      "cell_type": "code",
      "source": [
        "import requests\n",
        "import time\n",
        "\n",
        "API_KEY = \"fb84a884\"\n",
        "\n",
        "# buat parameternya\n",
        "directors_movies = {\n",
        "    \"Christopher Nolan\": [\"Inception\", \"Interstellar\", \"The Dark Knight\", \"Memento\", \"Dunkirk\"],\n",
        "    \"Quentin Tarantino\": [\"Pulp Fiction\", \"Django Unchained\", \"Kill Bill: Vol. 1\", \"Inglourious Basterds\", \"Once Upon a Time in Hollywood\"],\n",
        "    \"Martin Scorsese\": [\"Goodfellas\", \"The Wolf of Wall Street\", \"Taxi Driver\", \"The Irishman\", \"Casino\"],\n",
        "    \"Steven Spielberg\": [\"Jurassic Park\", \"Schindler's List\", \"E.T.\", \"Jaws\", \"Indiana Jones\"],\n",
        "    \"Ridley Scott\": [\"Gladiator\", \"Blade Runner\", \"The Martian\", \"Alien\", \"Black Hawk Down\"],\n",
        "    \"James Cameron\": [\"Titanic\", \"Avatar\", \"Terminator 2\", \"Aliens\", \"The Abyss\"],\n",
        "    \"David Fincher\": [\"Fight Club\", \"Se7en\", \"Gone Girl\", \"The Social Network\", \"Zodiac\"],\n",
        "    \"Stanley Kubrick\": [\"The Shining\", \"A Clockwork Orange\", \"2001: A Space Odyssey\", \"Full Metal Jacket\", \"Dr. Strangelove\"],\n",
        "    \"Peter Jackson\": [\"The Lord of the Rings: The Fellowship of the Ring\", \"The Hobbit\", \"King Kong\", \"The Lovely Bones\", \"The Frighteners\"],\n",
        "    \"Denis Villeneuve\": [\"Dune\", \"Arrival\", \"Blade Runner 2049\", \"Prisoners\", \"Sicario\"],\n",
        "\n",
        "    \"Joko Anwar\": [\"Pengabdi Setan\", \"Gundala\", \"A Copy of My Mind\", \"Modus Anomali\", \"Janji Joni\"],\n",
        "    \"Hanung Bramantyo\": [\"Ayat-Ayat Cinta\", \"Perempuan Berkalung Sorban\", \"Kartini\", \"Sang Pencerah\", \"Rudy Habibie\"],\n",
        "    \"Ernest Prakasa\": [\"Cek Toko Sebelah\", \"Imperfect\", \"Ngenest\", \"Susah Sinyal\", \"Milly & Mamet\"],\n",
        "    \"Rizal Mantovani\": [\"Jelangkung\", \"Wewe\", \"Kuntilanak\", \"5 cm\", \"Air Terjun Pengantin\"],\n",
        "    \"Upi Avianto\": [\"My Stupid Boss\", \"Realita Cinta dan Rock n Roll\", \"Radit dan Jani\", \"Serigala Terakhir\", \"Belenggu\"],\n",
        "    \"Mouly Surya\": [\"Marlina si Pembunuh dalam Empat Babak\", \"Fiksi.\", \"What They Don't Talk About When They Talk About Love\"],\n",
        "    \"Angga Dwimas Sasongko\": [\"Filosofi Kopi\", \"Surat dari Praha\", \"Nanti Kita Cerita tentang Hari Ini\", \"Cahaya dari Timur\"],\n",
        "    \"Garin Nugroho\": [\"Kucumbu Tubuh Indahku\", \"Opera Jawa\", \"Daun di Atas Bantal\", \"Soegija\", \"Laskar Pelangi 2\"],\n",
        "    \"Riri Riza\": [\"Ada Apa dengan Cinta?\", \"Laskar Pelangi\", \"Athirah\", \"Sokola Rimba\", \"Gie\"],\n",
        "    \"Teddy Soeriaatmadja\": [\"Lovely Man\", \"Something in the Way\", \"About a Woman\", \"Banyu Biru\"],\n",
        "}\n",
        "\n",
        "# buat nyimpen hasilnya\n",
        "movies_data = []"
      ],
      "metadata": {
        "id": "zepupuUnFmqR"
      },
      "execution_count": 9,
      "outputs": []
    },
    {
      "cell_type": "code",
      "source": [
        "for director, movies in directors_movies.items():\n",
        "    print(f\"Mencuri data Absolute Cinema dari: {director}\")\n",
        "    for title in movies:\n",
        "        url = f\"https://www.omdbapi.com/?t={title}&apikey={API_KEY}\"\n",
        "        response = requests.get(url)\n",
        "        data = response.json()\n",
        "\n",
        "        if data.get(\"Response\") == \"True\":\n",
        "            movies_data.append({\n",
        "                \"Title\": data.get(\"Title\"),\n",
        "                \"Year\": data.get(\"Year\"),\n",
        "                \"Director\": director,\n",
        "                \"Genre\": data.get(\"Genre\"),\n",
        "                \"IMDB Rating\": data.get(\"imdbRating\"),\n",
        "                \"Plot\": data.get(\"Plot\"),\n",
        "            })\n",
        "            print(f\"{title} berhasil diambil.\")\n",
        "        else:\n",
        "            print(f\"Film '{title}' gak ada, gan.\")\n",
        "\n",
        "        time.sleep(1)  # Hindari rate limit API\n",
        "\n",
        "# Simpan hasilnya ke file JSON\n",
        "import json\n",
        "with open(\"movies_data.json\", \"w\", encoding=\"utf-8\") as f:\n",
        "    json.dump(movies_data, f, indent=4)\n",
        "\n",
        "print(\"\\nData berhasil dicuri! Cek di 'movies_data.json'\")\n"
      ],
      "metadata": {
        "colab": {
          "base_uri": "https://localhost:8080/"
        },
        "id": "KJIyaiQcIQn2",
        "outputId": "7761dffd-1a0f-4fb2-f90d-d48a2a3c9852"
      },
      "execution_count": 10,
      "outputs": [
        {
          "output_type": "stream",
          "name": "stderr",
          "text": [
            "DEBUG:urllib3.connectionpool:Starting new HTTPS connection (1): www.omdbapi.com:443\n",
            "2025-03-20 01:24:11 [urllib3.connectionpool] DEBUG: Starting new HTTPS connection (1): www.omdbapi.com:443\n",
            "DEBUG:urllib3.connectionpool:https://www.omdbapi.com:443 \"GET /?t=Inception&apikey=fb84a884 HTTP/1.1\" 200 None\n",
            "2025-03-20 01:24:11 [urllib3.connectionpool] DEBUG: https://www.omdbapi.com:443 \"GET /?t=Inception&apikey=fb84a884 HTTP/1.1\" 200 None\n"
          ]
        },
        {
          "output_type": "stream",
          "name": "stdout",
          "text": [
            "📌 Mengambil data film dari: Christopher Nolan\n",
            "✅ Inception berhasil diambil.\n"
          ]
        },
        {
          "output_type": "stream",
          "name": "stderr",
          "text": [
            "DEBUG:urllib3.connectionpool:Starting new HTTPS connection (1): www.omdbapi.com:443\n",
            "2025-03-20 01:24:12 [urllib3.connectionpool] DEBUG: Starting new HTTPS connection (1): www.omdbapi.com:443\n",
            "DEBUG:urllib3.connectionpool:https://www.omdbapi.com:443 \"GET /?t=Interstellar&apikey=fb84a884 HTTP/1.1\" 401 47\n",
            "2025-03-20 01:24:13 [urllib3.connectionpool] DEBUG: https://www.omdbapi.com:443 \"GET /?t=Interstellar&apikey=fb84a884 HTTP/1.1\" 401 47\n"
          ]
        },
        {
          "output_type": "stream",
          "name": "stdout",
          "text": [
            "⚠️ Film 'Interstellar' tidak ditemukan!\n"
          ]
        },
        {
          "output_type": "stream",
          "name": "stderr",
          "text": [
            "DEBUG:urllib3.connectionpool:Starting new HTTPS connection (1): www.omdbapi.com:443\n",
            "2025-03-20 01:24:14 [urllib3.connectionpool] DEBUG: Starting new HTTPS connection (1): www.omdbapi.com:443\n",
            "DEBUG:urllib3.connectionpool:https://www.omdbapi.com:443 \"GET /?t=The%20Dark%20Knight&apikey=fb84a884 HTTP/1.1\" 200 None\n",
            "2025-03-20 01:24:14 [urllib3.connectionpool] DEBUG: https://www.omdbapi.com:443 \"GET /?t=The%20Dark%20Knight&apikey=fb84a884 HTTP/1.1\" 200 None\n"
          ]
        },
        {
          "output_type": "stream",
          "name": "stdout",
          "text": [
            "✅ The Dark Knight berhasil diambil.\n"
          ]
        },
        {
          "output_type": "stream",
          "name": "stderr",
          "text": [
            "DEBUG:urllib3.connectionpool:Starting new HTTPS connection (1): www.omdbapi.com:443\n",
            "2025-03-20 01:24:15 [urllib3.connectionpool] DEBUG: Starting new HTTPS connection (1): www.omdbapi.com:443\n",
            "DEBUG:urllib3.connectionpool:https://www.omdbapi.com:443 \"GET /?t=Memento&apikey=fb84a884 HTTP/1.1\" 401 47\n",
            "2025-03-20 01:24:15 [urllib3.connectionpool] DEBUG: https://www.omdbapi.com:443 \"GET /?t=Memento&apikey=fb84a884 HTTP/1.1\" 401 47\n"
          ]
        },
        {
          "output_type": "stream",
          "name": "stdout",
          "text": [
            "⚠️ Film 'Memento' tidak ditemukan!\n"
          ]
        },
        {
          "output_type": "stream",
          "name": "stderr",
          "text": [
            "DEBUG:urllib3.connectionpool:Starting new HTTPS connection (1): www.omdbapi.com:443\n",
            "2025-03-20 01:24:16 [urllib3.connectionpool] DEBUG: Starting new HTTPS connection (1): www.omdbapi.com:443\n",
            "DEBUG:urllib3.connectionpool:https://www.omdbapi.com:443 \"GET /?t=Dunkirk&apikey=fb84a884 HTTP/1.1\" 200 None\n",
            "2025-03-20 01:24:16 [urllib3.connectionpool] DEBUG: https://www.omdbapi.com:443 \"GET /?t=Dunkirk&apikey=fb84a884 HTTP/1.1\" 200 None\n"
          ]
        },
        {
          "output_type": "stream",
          "name": "stdout",
          "text": [
            "✅ Dunkirk berhasil diambil.\n"
          ]
        },
        {
          "output_type": "stream",
          "name": "stderr",
          "text": [
            "DEBUG:urllib3.connectionpool:Starting new HTTPS connection (1): www.omdbapi.com:443\n",
            "2025-03-20 01:24:17 [urllib3.connectionpool] DEBUG: Starting new HTTPS connection (1): www.omdbapi.com:443\n",
            "DEBUG:urllib3.connectionpool:https://www.omdbapi.com:443 \"GET /?t=Pulp%20Fiction&apikey=fb84a884 HTTP/1.1\" 200 None\n",
            "2025-03-20 01:24:17 [urllib3.connectionpool] DEBUG: https://www.omdbapi.com:443 \"GET /?t=Pulp%20Fiction&apikey=fb84a884 HTTP/1.1\" 200 None\n"
          ]
        },
        {
          "output_type": "stream",
          "name": "stdout",
          "text": [
            "📌 Mengambil data film dari: Quentin Tarantino\n",
            "✅ Pulp Fiction berhasil diambil.\n"
          ]
        },
        {
          "output_type": "stream",
          "name": "stderr",
          "text": [
            "DEBUG:urllib3.connectionpool:Starting new HTTPS connection (1): www.omdbapi.com:443\n",
            "2025-03-20 01:24:18 [urllib3.connectionpool] DEBUG: Starting new HTTPS connection (1): www.omdbapi.com:443\n",
            "DEBUG:urllib3.connectionpool:https://www.omdbapi.com:443 \"GET /?t=Django%20Unchained&apikey=fb84a884 HTTP/1.1\" 200 None\n",
            "2025-03-20 01:24:18 [urllib3.connectionpool] DEBUG: https://www.omdbapi.com:443 \"GET /?t=Django%20Unchained&apikey=fb84a884 HTTP/1.1\" 200 None\n"
          ]
        },
        {
          "output_type": "stream",
          "name": "stdout",
          "text": [
            "✅ Django Unchained berhasil diambil.\n"
          ]
        },
        {
          "output_type": "stream",
          "name": "stderr",
          "text": [
            "DEBUG:urllib3.connectionpool:Starting new HTTPS connection (1): www.omdbapi.com:443\n",
            "2025-03-20 01:24:19 [urllib3.connectionpool] DEBUG: Starting new HTTPS connection (1): www.omdbapi.com:443\n",
            "DEBUG:urllib3.connectionpool:https://www.omdbapi.com:443 \"GET /?t=Kill%20Bill:%20Vol.%201&apikey=fb84a884 HTTP/1.1\" 200 None\n",
            "2025-03-20 01:24:19 [urllib3.connectionpool] DEBUG: https://www.omdbapi.com:443 \"GET /?t=Kill%20Bill:%20Vol.%201&apikey=fb84a884 HTTP/1.1\" 200 None\n"
          ]
        },
        {
          "output_type": "stream",
          "name": "stdout",
          "text": [
            "✅ Kill Bill: Vol. 1 berhasil diambil.\n"
          ]
        },
        {
          "output_type": "stream",
          "name": "stderr",
          "text": [
            "DEBUG:urllib3.connectionpool:Starting new HTTPS connection (1): www.omdbapi.com:443\n",
            "2025-03-20 01:24:20 [urllib3.connectionpool] DEBUG: Starting new HTTPS connection (1): www.omdbapi.com:443\n",
            "DEBUG:urllib3.connectionpool:https://www.omdbapi.com:443 \"GET /?t=Inglourious%20Basterds&apikey=fb84a884 HTTP/1.1\" 200 None\n",
            "2025-03-20 01:24:20 [urllib3.connectionpool] DEBUG: https://www.omdbapi.com:443 \"GET /?t=Inglourious%20Basterds&apikey=fb84a884 HTTP/1.1\" 200 None\n"
          ]
        },
        {
          "output_type": "stream",
          "name": "stdout",
          "text": [
            "✅ Inglourious Basterds berhasil diambil.\n"
          ]
        },
        {
          "output_type": "stream",
          "name": "stderr",
          "text": [
            "DEBUG:urllib3.connectionpool:Starting new HTTPS connection (1): www.omdbapi.com:443\n",
            "2025-03-20 01:24:21 [urllib3.connectionpool] DEBUG: Starting new HTTPS connection (1): www.omdbapi.com:443\n",
            "DEBUG:urllib3.connectionpool:https://www.omdbapi.com:443 \"GET /?t=Once%20Upon%20a%20Time%20in%20Hollywood&apikey=fb84a884 HTTP/1.1\" 200 None\n",
            "2025-03-20 01:24:22 [urllib3.connectionpool] DEBUG: https://www.omdbapi.com:443 \"GET /?t=Once%20Upon%20a%20Time%20in%20Hollywood&apikey=fb84a884 HTTP/1.1\" 200 None\n"
          ]
        },
        {
          "output_type": "stream",
          "name": "stdout",
          "text": [
            "✅ Once Upon a Time in Hollywood berhasil diambil.\n"
          ]
        },
        {
          "output_type": "stream",
          "name": "stderr",
          "text": [
            "DEBUG:urllib3.connectionpool:Starting new HTTPS connection (1): www.omdbapi.com:443\n",
            "2025-03-20 01:24:23 [urllib3.connectionpool] DEBUG: Starting new HTTPS connection (1): www.omdbapi.com:443\n"
          ]
        },
        {
          "output_type": "stream",
          "name": "stdout",
          "text": [
            "📌 Mengambil data film dari: Martin Scorsese\n"
          ]
        },
        {
          "output_type": "stream",
          "name": "stderr",
          "text": [
            "DEBUG:urllib3.connectionpool:https://www.omdbapi.com:443 \"GET /?t=Goodfellas&apikey=fb84a884 HTTP/1.1\" 200 None\n",
            "2025-03-20 01:24:23 [urllib3.connectionpool] DEBUG: https://www.omdbapi.com:443 \"GET /?t=Goodfellas&apikey=fb84a884 HTTP/1.1\" 200 None\n"
          ]
        },
        {
          "output_type": "stream",
          "name": "stdout",
          "text": [
            "✅ Goodfellas berhasil diambil.\n"
          ]
        },
        {
          "output_type": "stream",
          "name": "stderr",
          "text": [
            "DEBUG:urllib3.connectionpool:Starting new HTTPS connection (1): www.omdbapi.com:443\n",
            "2025-03-20 01:24:24 [urllib3.connectionpool] DEBUG: Starting new HTTPS connection (1): www.omdbapi.com:443\n",
            "DEBUG:urllib3.connectionpool:https://www.omdbapi.com:443 \"GET /?t=The%20Wolf%20of%20Wall%20Street&apikey=fb84a884 HTTP/1.1\" 200 None\n",
            "2025-03-20 01:24:24 [urllib3.connectionpool] DEBUG: https://www.omdbapi.com:443 \"GET /?t=The%20Wolf%20of%20Wall%20Street&apikey=fb84a884 HTTP/1.1\" 200 None\n"
          ]
        },
        {
          "output_type": "stream",
          "name": "stdout",
          "text": [
            "✅ The Wolf of Wall Street berhasil diambil.\n"
          ]
        },
        {
          "output_type": "stream",
          "name": "stderr",
          "text": [
            "DEBUG:urllib3.connectionpool:Starting new HTTPS connection (1): www.omdbapi.com:443\n",
            "2025-03-20 01:24:25 [urllib3.connectionpool] DEBUG: Starting new HTTPS connection (1): www.omdbapi.com:443\n",
            "DEBUG:urllib3.connectionpool:https://www.omdbapi.com:443 \"GET /?t=Taxi%20Driver&apikey=fb84a884 HTTP/1.1\" 200 None\n",
            "2025-03-20 01:24:25 [urllib3.connectionpool] DEBUG: https://www.omdbapi.com:443 \"GET /?t=Taxi%20Driver&apikey=fb84a884 HTTP/1.1\" 200 None\n"
          ]
        },
        {
          "output_type": "stream",
          "name": "stdout",
          "text": [
            "✅ Taxi Driver berhasil diambil.\n"
          ]
        },
        {
          "output_type": "stream",
          "name": "stderr",
          "text": [
            "DEBUG:urllib3.connectionpool:Starting new HTTPS connection (1): www.omdbapi.com:443\n",
            "2025-03-20 01:24:26 [urllib3.connectionpool] DEBUG: Starting new HTTPS connection (1): www.omdbapi.com:443\n",
            "DEBUG:urllib3.connectionpool:https://www.omdbapi.com:443 \"GET /?t=The%20Irishman&apikey=fb84a884 HTTP/1.1\" 200 None\n",
            "2025-03-20 01:24:26 [urllib3.connectionpool] DEBUG: https://www.omdbapi.com:443 \"GET /?t=The%20Irishman&apikey=fb84a884 HTTP/1.1\" 200 None\n"
          ]
        },
        {
          "output_type": "stream",
          "name": "stdout",
          "text": [
            "✅ The Irishman berhasil diambil.\n"
          ]
        },
        {
          "output_type": "stream",
          "name": "stderr",
          "text": [
            "DEBUG:urllib3.connectionpool:Starting new HTTPS connection (1): www.omdbapi.com:443\n",
            "2025-03-20 01:24:27 [urllib3.connectionpool] DEBUG: Starting new HTTPS connection (1): www.omdbapi.com:443\n",
            "DEBUG:urllib3.connectionpool:https://www.omdbapi.com:443 \"GET /?t=Casino&apikey=fb84a884 HTTP/1.1\" 200 None\n",
            "2025-03-20 01:24:27 [urllib3.connectionpool] DEBUG: https://www.omdbapi.com:443 \"GET /?t=Casino&apikey=fb84a884 HTTP/1.1\" 200 None\n"
          ]
        },
        {
          "output_type": "stream",
          "name": "stdout",
          "text": [
            "✅ Casino berhasil diambil.\n"
          ]
        },
        {
          "output_type": "stream",
          "name": "stderr",
          "text": [
            "DEBUG:urllib3.connectionpool:Starting new HTTPS connection (1): www.omdbapi.com:443\n",
            "2025-03-20 01:24:28 [urllib3.connectionpool] DEBUG: Starting new HTTPS connection (1): www.omdbapi.com:443\n",
            "DEBUG:urllib3.connectionpool:https://www.omdbapi.com:443 \"GET /?t=Jurassic%20Park&apikey=fb84a884 HTTP/1.1\" 200 None\n",
            "2025-03-20 01:24:28 [urllib3.connectionpool] DEBUG: https://www.omdbapi.com:443 \"GET /?t=Jurassic%20Park&apikey=fb84a884 HTTP/1.1\" 200 None\n"
          ]
        },
        {
          "output_type": "stream",
          "name": "stdout",
          "text": [
            "📌 Mengambil data film dari: Steven Spielberg\n",
            "✅ Jurassic Park berhasil diambil.\n"
          ]
        },
        {
          "output_type": "stream",
          "name": "stderr",
          "text": [
            "DEBUG:urllib3.connectionpool:Starting new HTTPS connection (1): www.omdbapi.com:443\n",
            "2025-03-20 01:24:29 [urllib3.connectionpool] DEBUG: Starting new HTTPS connection (1): www.omdbapi.com:443\n",
            "DEBUG:urllib3.connectionpool:https://www.omdbapi.com:443 \"GET /?t=Schindler's%20List&apikey=fb84a884 HTTP/1.1\" 200 None\n",
            "2025-03-20 01:24:30 [urllib3.connectionpool] DEBUG: https://www.omdbapi.com:443 \"GET /?t=Schindler's%20List&apikey=fb84a884 HTTP/1.1\" 200 None\n"
          ]
        },
        {
          "output_type": "stream",
          "name": "stdout",
          "text": [
            "✅ Schindler's List berhasil diambil.\n"
          ]
        },
        {
          "output_type": "stream",
          "name": "stderr",
          "text": [
            "DEBUG:urllib3.connectionpool:Starting new HTTPS connection (1): www.omdbapi.com:443\n",
            "2025-03-20 01:24:31 [urllib3.connectionpool] DEBUG: Starting new HTTPS connection (1): www.omdbapi.com:443\n",
            "DEBUG:urllib3.connectionpool:https://www.omdbapi.com:443 \"GET /?t=E.T.&apikey=fb84a884 HTTP/1.1\" 200 None\n",
            "2025-03-20 01:24:31 [urllib3.connectionpool] DEBUG: https://www.omdbapi.com:443 \"GET /?t=E.T.&apikey=fb84a884 HTTP/1.1\" 200 None\n"
          ]
        },
        {
          "output_type": "stream",
          "name": "stdout",
          "text": [
            "✅ E.T. berhasil diambil.\n"
          ]
        },
        {
          "output_type": "stream",
          "name": "stderr",
          "text": [
            "DEBUG:urllib3.connectionpool:Starting new HTTPS connection (1): www.omdbapi.com:443\n",
            "2025-03-20 01:24:32 [urllib3.connectionpool] DEBUG: Starting new HTTPS connection (1): www.omdbapi.com:443\n",
            "DEBUG:urllib3.connectionpool:https://www.omdbapi.com:443 \"GET /?t=Jaws&apikey=fb84a884 HTTP/1.1\" 200 None\n",
            "2025-03-20 01:24:32 [urllib3.connectionpool] DEBUG: https://www.omdbapi.com:443 \"GET /?t=Jaws&apikey=fb84a884 HTTP/1.1\" 200 None\n"
          ]
        },
        {
          "output_type": "stream",
          "name": "stdout",
          "text": [
            "✅ Jaws berhasil diambil.\n"
          ]
        },
        {
          "output_type": "stream",
          "name": "stderr",
          "text": [
            "DEBUG:urllib3.connectionpool:Starting new HTTPS connection (1): www.omdbapi.com:443\n",
            "2025-03-20 01:24:33 [urllib3.connectionpool] DEBUG: Starting new HTTPS connection (1): www.omdbapi.com:443\n",
            "DEBUG:urllib3.connectionpool:https://www.omdbapi.com:443 \"GET /?t=Indiana%20Jones&apikey=fb84a884 HTTP/1.1\" 200 None\n",
            "2025-03-20 01:24:33 [urllib3.connectionpool] DEBUG: https://www.omdbapi.com:443 \"GET /?t=Indiana%20Jones&apikey=fb84a884 HTTP/1.1\" 200 None\n"
          ]
        },
        {
          "output_type": "stream",
          "name": "stdout",
          "text": [
            "✅ Indiana Jones berhasil diambil.\n"
          ]
        },
        {
          "output_type": "stream",
          "name": "stderr",
          "text": [
            "DEBUG:urllib3.connectionpool:Starting new HTTPS connection (1): www.omdbapi.com:443\n",
            "2025-03-20 01:24:34 [urllib3.connectionpool] DEBUG: Starting new HTTPS connection (1): www.omdbapi.com:443\n",
            "DEBUG:urllib3.connectionpool:https://www.omdbapi.com:443 \"GET /?t=Gladiator&apikey=fb84a884 HTTP/1.1\" 200 None\n",
            "2025-03-20 01:24:34 [urllib3.connectionpool] DEBUG: https://www.omdbapi.com:443 \"GET /?t=Gladiator&apikey=fb84a884 HTTP/1.1\" 200 None\n"
          ]
        },
        {
          "output_type": "stream",
          "name": "stdout",
          "text": [
            "📌 Mengambil data film dari: Ridley Scott\n",
            "✅ Gladiator berhasil diambil.\n"
          ]
        },
        {
          "output_type": "stream",
          "name": "stderr",
          "text": [
            "DEBUG:urllib3.connectionpool:Starting new HTTPS connection (1): www.omdbapi.com:443\n",
            "2025-03-20 01:24:35 [urllib3.connectionpool] DEBUG: Starting new HTTPS connection (1): www.omdbapi.com:443\n",
            "DEBUG:urllib3.connectionpool:https://www.omdbapi.com:443 \"GET /?t=Blade%20Runner&apikey=fb84a884 HTTP/1.1\" 200 None\n",
            "2025-03-20 01:24:35 [urllib3.connectionpool] DEBUG: https://www.omdbapi.com:443 \"GET /?t=Blade%20Runner&apikey=fb84a884 HTTP/1.1\" 200 None\n"
          ]
        },
        {
          "output_type": "stream",
          "name": "stdout",
          "text": [
            "✅ Blade Runner berhasil diambil.\n"
          ]
        },
        {
          "output_type": "stream",
          "name": "stderr",
          "text": [
            "DEBUG:urllib3.connectionpool:Starting new HTTPS connection (1): www.omdbapi.com:443\n",
            "2025-03-20 01:24:36 [urllib3.connectionpool] DEBUG: Starting new HTTPS connection (1): www.omdbapi.com:443\n",
            "DEBUG:urllib3.connectionpool:https://www.omdbapi.com:443 \"GET /?t=The%20Martian&apikey=fb84a884 HTTP/1.1\" 200 None\n",
            "2025-03-20 01:24:37 [urllib3.connectionpool] DEBUG: https://www.omdbapi.com:443 \"GET /?t=The%20Martian&apikey=fb84a884 HTTP/1.1\" 200 None\n"
          ]
        },
        {
          "output_type": "stream",
          "name": "stdout",
          "text": [
            "✅ The Martian berhasil diambil.\n"
          ]
        },
        {
          "output_type": "stream",
          "name": "stderr",
          "text": [
            "DEBUG:urllib3.connectionpool:Starting new HTTPS connection (1): www.omdbapi.com:443\n",
            "2025-03-20 01:24:38 [urllib3.connectionpool] DEBUG: Starting new HTTPS connection (1): www.omdbapi.com:443\n",
            "DEBUG:urllib3.connectionpool:https://www.omdbapi.com:443 \"GET /?t=Alien&apikey=fb84a884 HTTP/1.1\" 200 None\n",
            "2025-03-20 01:24:38 [urllib3.connectionpool] DEBUG: https://www.omdbapi.com:443 \"GET /?t=Alien&apikey=fb84a884 HTTP/1.1\" 200 None\n"
          ]
        },
        {
          "output_type": "stream",
          "name": "stdout",
          "text": [
            "✅ Alien berhasil diambil.\n"
          ]
        },
        {
          "output_type": "stream",
          "name": "stderr",
          "text": [
            "DEBUG:urllib3.connectionpool:Starting new HTTPS connection (1): www.omdbapi.com:443\n",
            "2025-03-20 01:24:39 [urllib3.connectionpool] DEBUG: Starting new HTTPS connection (1): www.omdbapi.com:443\n",
            "DEBUG:urllib3.connectionpool:https://www.omdbapi.com:443 \"GET /?t=Black%20Hawk%20Down&apikey=fb84a884 HTTP/1.1\" 200 None\n",
            "2025-03-20 01:24:39 [urllib3.connectionpool] DEBUG: https://www.omdbapi.com:443 \"GET /?t=Black%20Hawk%20Down&apikey=fb84a884 HTTP/1.1\" 200 None\n"
          ]
        },
        {
          "output_type": "stream",
          "name": "stdout",
          "text": [
            "✅ Black Hawk Down berhasil diambil.\n"
          ]
        },
        {
          "output_type": "stream",
          "name": "stderr",
          "text": [
            "DEBUG:urllib3.connectionpool:Starting new HTTPS connection (1): www.omdbapi.com:443\n",
            "2025-03-20 01:24:40 [urllib3.connectionpool] DEBUG: Starting new HTTPS connection (1): www.omdbapi.com:443\n",
            "DEBUG:urllib3.connectionpool:https://www.omdbapi.com:443 \"GET /?t=Titanic&apikey=fb84a884 HTTP/1.1\" 200 None\n",
            "2025-03-20 01:24:40 [urllib3.connectionpool] DEBUG: https://www.omdbapi.com:443 \"GET /?t=Titanic&apikey=fb84a884 HTTP/1.1\" 200 None\n"
          ]
        },
        {
          "output_type": "stream",
          "name": "stdout",
          "text": [
            "📌 Mengambil data film dari: James Cameron\n",
            "✅ Titanic berhasil diambil.\n"
          ]
        },
        {
          "output_type": "stream",
          "name": "stderr",
          "text": [
            "DEBUG:urllib3.connectionpool:Starting new HTTPS connection (1): www.omdbapi.com:443\n",
            "2025-03-20 01:24:41 [urllib3.connectionpool] DEBUG: Starting new HTTPS connection (1): www.omdbapi.com:443\n",
            "DEBUG:urllib3.connectionpool:https://www.omdbapi.com:443 \"GET /?t=Avatar&apikey=fb84a884 HTTP/1.1\" 200 None\n",
            "2025-03-20 01:24:41 [urllib3.connectionpool] DEBUG: https://www.omdbapi.com:443 \"GET /?t=Avatar&apikey=fb84a884 HTTP/1.1\" 200 None\n"
          ]
        },
        {
          "output_type": "stream",
          "name": "stdout",
          "text": [
            "✅ Avatar berhasil diambil.\n"
          ]
        },
        {
          "output_type": "stream",
          "name": "stderr",
          "text": [
            "DEBUG:urllib3.connectionpool:Starting new HTTPS connection (1): www.omdbapi.com:443\n",
            "2025-03-20 01:24:42 [urllib3.connectionpool] DEBUG: Starting new HTTPS connection (1): www.omdbapi.com:443\n",
            "DEBUG:urllib3.connectionpool:https://www.omdbapi.com:443 \"GET /?t=Terminator%202&apikey=fb84a884 HTTP/1.1\" 200 None\n",
            "2025-03-20 01:24:42 [urllib3.connectionpool] DEBUG: https://www.omdbapi.com:443 \"GET /?t=Terminator%202&apikey=fb84a884 HTTP/1.1\" 200 None\n"
          ]
        },
        {
          "output_type": "stream",
          "name": "stdout",
          "text": [
            "✅ Terminator 2 berhasil diambil.\n"
          ]
        },
        {
          "output_type": "stream",
          "name": "stderr",
          "text": [
            "DEBUG:urllib3.connectionpool:Starting new HTTPS connection (1): www.omdbapi.com:443\n",
            "2025-03-20 01:24:43 [urllib3.connectionpool] DEBUG: Starting new HTTPS connection (1): www.omdbapi.com:443\n",
            "DEBUG:urllib3.connectionpool:https://www.omdbapi.com:443 \"GET /?t=Aliens&apikey=fb84a884 HTTP/1.1\" 200 None\n",
            "2025-03-20 01:24:44 [urllib3.connectionpool] DEBUG: https://www.omdbapi.com:443 \"GET /?t=Aliens&apikey=fb84a884 HTTP/1.1\" 200 None\n"
          ]
        },
        {
          "output_type": "stream",
          "name": "stdout",
          "text": [
            "✅ Aliens berhasil diambil.\n"
          ]
        },
        {
          "output_type": "stream",
          "name": "stderr",
          "text": [
            "DEBUG:urllib3.connectionpool:Starting new HTTPS connection (1): www.omdbapi.com:443\n",
            "2025-03-20 01:24:45 [urllib3.connectionpool] DEBUG: Starting new HTTPS connection (1): www.omdbapi.com:443\n",
            "DEBUG:urllib3.connectionpool:https://www.omdbapi.com:443 \"GET /?t=The%20Abyss&apikey=fb84a884 HTTP/1.1\" 200 None\n",
            "2025-03-20 01:24:45 [urllib3.connectionpool] DEBUG: https://www.omdbapi.com:443 \"GET /?t=The%20Abyss&apikey=fb84a884 HTTP/1.1\" 200 None\n"
          ]
        },
        {
          "output_type": "stream",
          "name": "stdout",
          "text": [
            "✅ The Abyss berhasil diambil.\n"
          ]
        },
        {
          "output_type": "stream",
          "name": "stderr",
          "text": [
            "DEBUG:urllib3.connectionpool:Starting new HTTPS connection (1): www.omdbapi.com:443\n",
            "2025-03-20 01:24:46 [urllib3.connectionpool] DEBUG: Starting new HTTPS connection (1): www.omdbapi.com:443\n",
            "DEBUG:urllib3.connectionpool:https://www.omdbapi.com:443 \"GET /?t=Fight%20Club&apikey=fb84a884 HTTP/1.1\" 200 None\n",
            "2025-03-20 01:24:46 [urllib3.connectionpool] DEBUG: https://www.omdbapi.com:443 \"GET /?t=Fight%20Club&apikey=fb84a884 HTTP/1.1\" 200 None\n"
          ]
        },
        {
          "output_type": "stream",
          "name": "stdout",
          "text": [
            "📌 Mengambil data film dari: David Fincher\n",
            "✅ Fight Club berhasil diambil.\n"
          ]
        },
        {
          "output_type": "stream",
          "name": "stderr",
          "text": [
            "DEBUG:urllib3.connectionpool:Starting new HTTPS connection (1): www.omdbapi.com:443\n",
            "2025-03-20 01:24:47 [urllib3.connectionpool] DEBUG: Starting new HTTPS connection (1): www.omdbapi.com:443\n",
            "DEBUG:urllib3.connectionpool:https://www.omdbapi.com:443 \"GET /?t=Se7en&apikey=fb84a884 HTTP/1.1\" 200 None\n",
            "2025-03-20 01:24:47 [urllib3.connectionpool] DEBUG: https://www.omdbapi.com:443 \"GET /?t=Se7en&apikey=fb84a884 HTTP/1.1\" 200 None\n"
          ]
        },
        {
          "output_type": "stream",
          "name": "stdout",
          "text": [
            "✅ Se7en berhasil diambil.\n"
          ]
        },
        {
          "output_type": "stream",
          "name": "stderr",
          "text": [
            "DEBUG:urllib3.connectionpool:Starting new HTTPS connection (1): www.omdbapi.com:443\n",
            "2025-03-20 01:24:48 [urllib3.connectionpool] DEBUG: Starting new HTTPS connection (1): www.omdbapi.com:443\n",
            "DEBUG:urllib3.connectionpool:https://www.omdbapi.com:443 \"GET /?t=Gone%20Girl&apikey=fb84a884 HTTP/1.1\" 200 None\n",
            "2025-03-20 01:24:48 [urllib3.connectionpool] DEBUG: https://www.omdbapi.com:443 \"GET /?t=Gone%20Girl&apikey=fb84a884 HTTP/1.1\" 200 None\n"
          ]
        },
        {
          "output_type": "stream",
          "name": "stdout",
          "text": [
            "✅ Gone Girl berhasil diambil.\n"
          ]
        },
        {
          "output_type": "stream",
          "name": "stderr",
          "text": [
            "DEBUG:urllib3.connectionpool:Starting new HTTPS connection (1): www.omdbapi.com:443\n",
            "2025-03-20 01:24:49 [urllib3.connectionpool] DEBUG: Starting new HTTPS connection (1): www.omdbapi.com:443\n",
            "DEBUG:urllib3.connectionpool:https://www.omdbapi.com:443 \"GET /?t=The%20Social%20Network&apikey=fb84a884 HTTP/1.1\" 200 None\n",
            "2025-03-20 01:24:49 [urllib3.connectionpool] DEBUG: https://www.omdbapi.com:443 \"GET /?t=The%20Social%20Network&apikey=fb84a884 HTTP/1.1\" 200 None\n"
          ]
        },
        {
          "output_type": "stream",
          "name": "stdout",
          "text": [
            "✅ The Social Network berhasil diambil.\n"
          ]
        },
        {
          "output_type": "stream",
          "name": "stderr",
          "text": [
            "DEBUG:urllib3.connectionpool:Starting new HTTPS connection (1): www.omdbapi.com:443\n",
            "2025-03-20 01:24:50 [urllib3.connectionpool] DEBUG: Starting new HTTPS connection (1): www.omdbapi.com:443\n",
            "DEBUG:urllib3.connectionpool:https://www.omdbapi.com:443 \"GET /?t=Zodiac&apikey=fb84a884 HTTP/1.1\" 200 None\n",
            "2025-03-20 01:24:50 [urllib3.connectionpool] DEBUG: https://www.omdbapi.com:443 \"GET /?t=Zodiac&apikey=fb84a884 HTTP/1.1\" 200 None\n"
          ]
        },
        {
          "output_type": "stream",
          "name": "stdout",
          "text": [
            "✅ Zodiac berhasil diambil.\n"
          ]
        },
        {
          "output_type": "stream",
          "name": "stderr",
          "text": [
            "DEBUG:urllib3.connectionpool:Starting new HTTPS connection (1): www.omdbapi.com:443\n",
            "2025-03-20 01:24:51 [urllib3.connectionpool] DEBUG: Starting new HTTPS connection (1): www.omdbapi.com:443\n",
            "DEBUG:urllib3.connectionpool:https://www.omdbapi.com:443 \"GET /?t=The%20Shining&apikey=fb84a884 HTTP/1.1\" 200 None\n",
            "2025-03-20 01:24:52 [urllib3.connectionpool] DEBUG: https://www.omdbapi.com:443 \"GET /?t=The%20Shining&apikey=fb84a884 HTTP/1.1\" 200 None\n"
          ]
        },
        {
          "output_type": "stream",
          "name": "stdout",
          "text": [
            "📌 Mengambil data film dari: Stanley Kubrick\n",
            "✅ The Shining berhasil diambil.\n"
          ]
        },
        {
          "output_type": "stream",
          "name": "stderr",
          "text": [
            "DEBUG:urllib3.connectionpool:Starting new HTTPS connection (1): www.omdbapi.com:443\n",
            "2025-03-20 01:24:53 [urllib3.connectionpool] DEBUG: Starting new HTTPS connection (1): www.omdbapi.com:443\n",
            "DEBUG:urllib3.connectionpool:https://www.omdbapi.com:443 \"GET /?t=A%20Clockwork%20Orange&apikey=fb84a884 HTTP/1.1\" 200 None\n",
            "2025-03-20 01:24:53 [urllib3.connectionpool] DEBUG: https://www.omdbapi.com:443 \"GET /?t=A%20Clockwork%20Orange&apikey=fb84a884 HTTP/1.1\" 200 None\n"
          ]
        },
        {
          "output_type": "stream",
          "name": "stdout",
          "text": [
            "✅ A Clockwork Orange berhasil diambil.\n"
          ]
        },
        {
          "output_type": "stream",
          "name": "stderr",
          "text": [
            "DEBUG:urllib3.connectionpool:Starting new HTTPS connection (1): www.omdbapi.com:443\n",
            "2025-03-20 01:24:54 [urllib3.connectionpool] DEBUG: Starting new HTTPS connection (1): www.omdbapi.com:443\n",
            "DEBUG:urllib3.connectionpool:https://www.omdbapi.com:443 \"GET /?t=2001:%20A%20Space%20Odyssey&apikey=fb84a884 HTTP/1.1\" 200 None\n",
            "2025-03-20 01:24:54 [urllib3.connectionpool] DEBUG: https://www.omdbapi.com:443 \"GET /?t=2001:%20A%20Space%20Odyssey&apikey=fb84a884 HTTP/1.1\" 200 None\n"
          ]
        },
        {
          "output_type": "stream",
          "name": "stdout",
          "text": [
            "✅ 2001: A Space Odyssey berhasil diambil.\n"
          ]
        },
        {
          "output_type": "stream",
          "name": "stderr",
          "text": [
            "DEBUG:urllib3.connectionpool:Starting new HTTPS connection (1): www.omdbapi.com:443\n",
            "2025-03-20 01:24:55 [urllib3.connectionpool] DEBUG: Starting new HTTPS connection (1): www.omdbapi.com:443\n",
            "DEBUG:urllib3.connectionpool:https://www.omdbapi.com:443 \"GET /?t=Full%20Metal%20Jacket&apikey=fb84a884 HTTP/1.1\" 200 None\n",
            "2025-03-20 01:24:55 [urllib3.connectionpool] DEBUG: https://www.omdbapi.com:443 \"GET /?t=Full%20Metal%20Jacket&apikey=fb84a884 HTTP/1.1\" 200 None\n"
          ]
        },
        {
          "output_type": "stream",
          "name": "stdout",
          "text": [
            "✅ Full Metal Jacket berhasil diambil.\n"
          ]
        },
        {
          "output_type": "stream",
          "name": "stderr",
          "text": [
            "DEBUG:urllib3.connectionpool:Starting new HTTPS connection (1): www.omdbapi.com:443\n",
            "2025-03-20 01:24:56 [urllib3.connectionpool] DEBUG: Starting new HTTPS connection (1): www.omdbapi.com:443\n",
            "DEBUG:urllib3.connectionpool:https://www.omdbapi.com:443 \"GET /?t=Dr.%20Strangelove&apikey=fb84a884 HTTP/1.1\" 200 None\n",
            "2025-03-20 01:24:56 [urllib3.connectionpool] DEBUG: https://www.omdbapi.com:443 \"GET /?t=Dr.%20Strangelove&apikey=fb84a884 HTTP/1.1\" 200 None\n"
          ]
        },
        {
          "output_type": "stream",
          "name": "stdout",
          "text": [
            "✅ Dr. Strangelove berhasil diambil.\n"
          ]
        },
        {
          "output_type": "stream",
          "name": "stderr",
          "text": [
            "DEBUG:urllib3.connectionpool:Starting new HTTPS connection (1): www.omdbapi.com:443\n",
            "2025-03-20 01:24:57 [urllib3.connectionpool] DEBUG: Starting new HTTPS connection (1): www.omdbapi.com:443\n"
          ]
        },
        {
          "output_type": "stream",
          "name": "stdout",
          "text": [
            "📌 Mengambil data film dari: Peter Jackson\n"
          ]
        },
        {
          "output_type": "stream",
          "name": "stderr",
          "text": [
            "DEBUG:urllib3.connectionpool:https://www.omdbapi.com:443 \"GET /?t=The%20Lord%20of%20the%20Rings:%20The%20Fellowship%20of%20the%20Ring&apikey=fb84a884 HTTP/1.1\" 200 None\n",
            "2025-03-20 01:24:57 [urllib3.connectionpool] DEBUG: https://www.omdbapi.com:443 \"GET /?t=The%20Lord%20of%20the%20Rings:%20The%20Fellowship%20of%20the%20Ring&apikey=fb84a884 HTTP/1.1\" 200 None\n"
          ]
        },
        {
          "output_type": "stream",
          "name": "stdout",
          "text": [
            "✅ The Lord of the Rings: The Fellowship of the Ring berhasil diambil.\n"
          ]
        },
        {
          "output_type": "stream",
          "name": "stderr",
          "text": [
            "DEBUG:urllib3.connectionpool:Starting new HTTPS connection (1): www.omdbapi.com:443\n",
            "2025-03-20 01:24:58 [urllib3.connectionpool] DEBUG: Starting new HTTPS connection (1): www.omdbapi.com:443\n",
            "DEBUG:urllib3.connectionpool:https://www.omdbapi.com:443 \"GET /?t=The%20Hobbit&apikey=fb84a884 HTTP/1.1\" 200 None\n",
            "2025-03-20 01:24:59 [urllib3.connectionpool] DEBUG: https://www.omdbapi.com:443 \"GET /?t=The%20Hobbit&apikey=fb84a884 HTTP/1.1\" 200 None\n"
          ]
        },
        {
          "output_type": "stream",
          "name": "stdout",
          "text": [
            "✅ The Hobbit berhasil diambil.\n"
          ]
        },
        {
          "output_type": "stream",
          "name": "stderr",
          "text": [
            "DEBUG:urllib3.connectionpool:Starting new HTTPS connection (1): www.omdbapi.com:443\n",
            "2025-03-20 01:25:00 [urllib3.connectionpool] DEBUG: Starting new HTTPS connection (1): www.omdbapi.com:443\n",
            "DEBUG:urllib3.connectionpool:https://www.omdbapi.com:443 \"GET /?t=King%20Kong&apikey=fb84a884 HTTP/1.1\" 200 None\n",
            "2025-03-20 01:25:00 [urllib3.connectionpool] DEBUG: https://www.omdbapi.com:443 \"GET /?t=King%20Kong&apikey=fb84a884 HTTP/1.1\" 200 None\n"
          ]
        },
        {
          "output_type": "stream",
          "name": "stdout",
          "text": [
            "✅ King Kong berhasil diambil.\n"
          ]
        },
        {
          "output_type": "stream",
          "name": "stderr",
          "text": [
            "DEBUG:urllib3.connectionpool:Starting new HTTPS connection (1): www.omdbapi.com:443\n",
            "2025-03-20 01:25:01 [urllib3.connectionpool] DEBUG: Starting new HTTPS connection (1): www.omdbapi.com:443\n",
            "DEBUG:urllib3.connectionpool:https://www.omdbapi.com:443 \"GET /?t=The%20Lovely%20Bones&apikey=fb84a884 HTTP/1.1\" 200 None\n",
            "2025-03-20 01:25:01 [urllib3.connectionpool] DEBUG: https://www.omdbapi.com:443 \"GET /?t=The%20Lovely%20Bones&apikey=fb84a884 HTTP/1.1\" 200 None\n"
          ]
        },
        {
          "output_type": "stream",
          "name": "stdout",
          "text": [
            "✅ The Lovely Bones berhasil diambil.\n"
          ]
        },
        {
          "output_type": "stream",
          "name": "stderr",
          "text": [
            "DEBUG:urllib3.connectionpool:Starting new HTTPS connection (1): www.omdbapi.com:443\n",
            "2025-03-20 01:25:02 [urllib3.connectionpool] DEBUG: Starting new HTTPS connection (1): www.omdbapi.com:443\n",
            "DEBUG:urllib3.connectionpool:https://www.omdbapi.com:443 \"GET /?t=The%20Frighteners&apikey=fb84a884 HTTP/1.1\" 200 None\n",
            "2025-03-20 01:25:02 [urllib3.connectionpool] DEBUG: https://www.omdbapi.com:443 \"GET /?t=The%20Frighteners&apikey=fb84a884 HTTP/1.1\" 200 None\n"
          ]
        },
        {
          "output_type": "stream",
          "name": "stdout",
          "text": [
            "✅ The Frighteners berhasil diambil.\n"
          ]
        },
        {
          "output_type": "stream",
          "name": "stderr",
          "text": [
            "DEBUG:urllib3.connectionpool:Starting new HTTPS connection (1): www.omdbapi.com:443\n",
            "2025-03-20 01:25:03 [urllib3.connectionpool] DEBUG: Starting new HTTPS connection (1): www.omdbapi.com:443\n",
            "DEBUG:urllib3.connectionpool:https://www.omdbapi.com:443 \"GET /?t=Dune&apikey=fb84a884 HTTP/1.1\" 200 None\n",
            "2025-03-20 01:25:03 [urllib3.connectionpool] DEBUG: https://www.omdbapi.com:443 \"GET /?t=Dune&apikey=fb84a884 HTTP/1.1\" 200 None\n"
          ]
        },
        {
          "output_type": "stream",
          "name": "stdout",
          "text": [
            "📌 Mengambil data film dari: Denis Villeneuve\n",
            "✅ Dune berhasil diambil.\n"
          ]
        },
        {
          "output_type": "stream",
          "name": "stderr",
          "text": [
            "DEBUG:urllib3.connectionpool:Starting new HTTPS connection (1): www.omdbapi.com:443\n",
            "2025-03-20 01:25:04 [urllib3.connectionpool] DEBUG: Starting new HTTPS connection (1): www.omdbapi.com:443\n",
            "DEBUG:urllib3.connectionpool:https://www.omdbapi.com:443 \"GET /?t=Arrival&apikey=fb84a884 HTTP/1.1\" 200 None\n",
            "2025-03-20 01:25:04 [urllib3.connectionpool] DEBUG: https://www.omdbapi.com:443 \"GET /?t=Arrival&apikey=fb84a884 HTTP/1.1\" 200 None\n"
          ]
        },
        {
          "output_type": "stream",
          "name": "stdout",
          "text": [
            "✅ Arrival berhasil diambil.\n"
          ]
        },
        {
          "output_type": "stream",
          "name": "stderr",
          "text": [
            "DEBUG:urllib3.connectionpool:Starting new HTTPS connection (1): www.omdbapi.com:443\n",
            "2025-03-20 01:25:05 [urllib3.connectionpool] DEBUG: Starting new HTTPS connection (1): www.omdbapi.com:443\n",
            "DEBUG:urllib3.connectionpool:https://www.omdbapi.com:443 \"GET /?t=Blade%20Runner%202049&apikey=fb84a884 HTTP/1.1\" 200 None\n",
            "2025-03-20 01:25:06 [urllib3.connectionpool] DEBUG: https://www.omdbapi.com:443 \"GET /?t=Blade%20Runner%202049&apikey=fb84a884 HTTP/1.1\" 200 None\n"
          ]
        },
        {
          "output_type": "stream",
          "name": "stdout",
          "text": [
            "✅ Blade Runner 2049 berhasil diambil.\n"
          ]
        },
        {
          "output_type": "stream",
          "name": "stderr",
          "text": [
            "DEBUG:urllib3.connectionpool:Starting new HTTPS connection (1): www.omdbapi.com:443\n",
            "2025-03-20 01:25:07 [urllib3.connectionpool] DEBUG: Starting new HTTPS connection (1): www.omdbapi.com:443\n",
            "DEBUG:urllib3.connectionpool:https://www.omdbapi.com:443 \"GET /?t=Prisoners&apikey=fb84a884 HTTP/1.1\" 200 None\n",
            "2025-03-20 01:25:07 [urllib3.connectionpool] DEBUG: https://www.omdbapi.com:443 \"GET /?t=Prisoners&apikey=fb84a884 HTTP/1.1\" 200 None\n"
          ]
        },
        {
          "output_type": "stream",
          "name": "stdout",
          "text": [
            "✅ Prisoners berhasil diambil.\n"
          ]
        },
        {
          "output_type": "stream",
          "name": "stderr",
          "text": [
            "DEBUG:urllib3.connectionpool:Starting new HTTPS connection (1): www.omdbapi.com:443\n",
            "2025-03-20 01:25:08 [urllib3.connectionpool] DEBUG: Starting new HTTPS connection (1): www.omdbapi.com:443\n",
            "DEBUG:urllib3.connectionpool:https://www.omdbapi.com:443 \"GET /?t=Sicario&apikey=fb84a884 HTTP/1.1\" 200 None\n",
            "2025-03-20 01:25:08 [urllib3.connectionpool] DEBUG: https://www.omdbapi.com:443 \"GET /?t=Sicario&apikey=fb84a884 HTTP/1.1\" 200 None\n"
          ]
        },
        {
          "output_type": "stream",
          "name": "stdout",
          "text": [
            "✅ Sicario berhasil diambil.\n"
          ]
        },
        {
          "output_type": "stream",
          "name": "stderr",
          "text": [
            "DEBUG:urllib3.connectionpool:Starting new HTTPS connection (1): www.omdbapi.com:443\n",
            "2025-03-20 01:25:09 [urllib3.connectionpool] DEBUG: Starting new HTTPS connection (1): www.omdbapi.com:443\n",
            "DEBUG:urllib3.connectionpool:https://www.omdbapi.com:443 \"GET /?t=Pengabdi%20Setan&apikey=fb84a884 HTTP/1.1\" 200 47\n",
            "2025-03-20 01:25:09 [urllib3.connectionpool] DEBUG: https://www.omdbapi.com:443 \"GET /?t=Pengabdi%20Setan&apikey=fb84a884 HTTP/1.1\" 200 47\n"
          ]
        },
        {
          "output_type": "stream",
          "name": "stdout",
          "text": [
            "📌 Mengambil data film dari: Joko Anwar\n",
            "⚠️ Film 'Pengabdi Setan' tidak ditemukan!\n"
          ]
        },
        {
          "output_type": "stream",
          "name": "stderr",
          "text": [
            "DEBUG:urllib3.connectionpool:Starting new HTTPS connection (1): www.omdbapi.com:443\n",
            "2025-03-20 01:25:10 [urllib3.connectionpool] DEBUG: Starting new HTTPS connection (1): www.omdbapi.com:443\n",
            "DEBUG:urllib3.connectionpool:https://www.omdbapi.com:443 \"GET /?t=Gundala&apikey=fb84a884 HTTP/1.1\" 200 None\n",
            "2025-03-20 01:25:10 [urllib3.connectionpool] DEBUG: https://www.omdbapi.com:443 \"GET /?t=Gundala&apikey=fb84a884 HTTP/1.1\" 200 None\n"
          ]
        },
        {
          "output_type": "stream",
          "name": "stdout",
          "text": [
            "✅ Gundala berhasil diambil.\n"
          ]
        },
        {
          "output_type": "stream",
          "name": "stderr",
          "text": [
            "DEBUG:urllib3.connectionpool:Starting new HTTPS connection (1): www.omdbapi.com:443\n",
            "2025-03-20 01:25:11 [urllib3.connectionpool] DEBUG: Starting new HTTPS connection (1): www.omdbapi.com:443\n",
            "DEBUG:urllib3.connectionpool:https://www.omdbapi.com:443 \"GET /?t=A%20Copy%20of%20My%20Mind&apikey=fb84a884 HTTP/1.1\" 200 None\n",
            "2025-03-20 01:25:11 [urllib3.connectionpool] DEBUG: https://www.omdbapi.com:443 \"GET /?t=A%20Copy%20of%20My%20Mind&apikey=fb84a884 HTTP/1.1\" 200 None\n"
          ]
        },
        {
          "output_type": "stream",
          "name": "stdout",
          "text": [
            "✅ A Copy of My Mind berhasil diambil.\n"
          ]
        },
        {
          "output_type": "stream",
          "name": "stderr",
          "text": [
            "DEBUG:urllib3.connectionpool:Starting new HTTPS connection (1): www.omdbapi.com:443\n",
            "2025-03-20 01:25:12 [urllib3.connectionpool] DEBUG: Starting new HTTPS connection (1): www.omdbapi.com:443\n",
            "DEBUG:urllib3.connectionpool:https://www.omdbapi.com:443 \"GET /?t=Modus%20Anomali&apikey=fb84a884 HTTP/1.1\" 200 47\n",
            "2025-03-20 01:25:13 [urllib3.connectionpool] DEBUG: https://www.omdbapi.com:443 \"GET /?t=Modus%20Anomali&apikey=fb84a884 HTTP/1.1\" 200 47\n"
          ]
        },
        {
          "output_type": "stream",
          "name": "stdout",
          "text": [
            "⚠️ Film 'Modus Anomali' tidak ditemukan!\n"
          ]
        },
        {
          "output_type": "stream",
          "name": "stderr",
          "text": [
            "DEBUG:urllib3.connectionpool:Starting new HTTPS connection (1): www.omdbapi.com:443\n",
            "2025-03-20 01:25:14 [urllib3.connectionpool] DEBUG: Starting new HTTPS connection (1): www.omdbapi.com:443\n",
            "DEBUG:urllib3.connectionpool:https://www.omdbapi.com:443 \"GET /?t=Janji%20Joni&apikey=fb84a884 HTTP/1.1\" 200 47\n",
            "2025-03-20 01:25:14 [urllib3.connectionpool] DEBUG: https://www.omdbapi.com:443 \"GET /?t=Janji%20Joni&apikey=fb84a884 HTTP/1.1\" 200 47\n"
          ]
        },
        {
          "output_type": "stream",
          "name": "stdout",
          "text": [
            "⚠️ Film 'Janji Joni' tidak ditemukan!\n"
          ]
        },
        {
          "output_type": "stream",
          "name": "stderr",
          "text": [
            "DEBUG:urllib3.connectionpool:Starting new HTTPS connection (1): www.omdbapi.com:443\n",
            "2025-03-20 01:25:15 [urllib3.connectionpool] DEBUG: Starting new HTTPS connection (1): www.omdbapi.com:443\n",
            "DEBUG:urllib3.connectionpool:https://www.omdbapi.com:443 \"GET /?t=Ayat-Ayat%20Cinta&apikey=fb84a884 HTTP/1.1\" 200 47\n",
            "2025-03-20 01:25:15 [urllib3.connectionpool] DEBUG: https://www.omdbapi.com:443 \"GET /?t=Ayat-Ayat%20Cinta&apikey=fb84a884 HTTP/1.1\" 200 47\n"
          ]
        },
        {
          "output_type": "stream",
          "name": "stdout",
          "text": [
            "📌 Mengambil data film dari: Hanung Bramantyo\n",
            "⚠️ Film 'Ayat-Ayat Cinta' tidak ditemukan!\n"
          ]
        },
        {
          "output_type": "stream",
          "name": "stderr",
          "text": [
            "DEBUG:urllib3.connectionpool:Starting new HTTPS connection (1): www.omdbapi.com:443\n",
            "2025-03-20 01:25:16 [urllib3.connectionpool] DEBUG: Starting new HTTPS connection (1): www.omdbapi.com:443\n",
            "DEBUG:urllib3.connectionpool:https://www.omdbapi.com:443 \"GET /?t=Perempuan%20Berkalung%20Sorban&apikey=fb84a884 HTTP/1.1\" 200 47\n",
            "2025-03-20 01:25:16 [urllib3.connectionpool] DEBUG: https://www.omdbapi.com:443 \"GET /?t=Perempuan%20Berkalung%20Sorban&apikey=fb84a884 HTTP/1.1\" 200 47\n"
          ]
        },
        {
          "output_type": "stream",
          "name": "stdout",
          "text": [
            "⚠️ Film 'Perempuan Berkalung Sorban' tidak ditemukan!\n"
          ]
        },
        {
          "output_type": "stream",
          "name": "stderr",
          "text": [
            "DEBUG:urllib3.connectionpool:Starting new HTTPS connection (1): www.omdbapi.com:443\n",
            "2025-03-20 01:25:17 [urllib3.connectionpool] DEBUG: Starting new HTTPS connection (1): www.omdbapi.com:443\n",
            "DEBUG:urllib3.connectionpool:https://www.omdbapi.com:443 \"GET /?t=Kartini&apikey=fb84a884 HTTP/1.1\" 200 None\n",
            "2025-03-20 01:25:17 [urllib3.connectionpool] DEBUG: https://www.omdbapi.com:443 \"GET /?t=Kartini&apikey=fb84a884 HTTP/1.1\" 200 None\n"
          ]
        },
        {
          "output_type": "stream",
          "name": "stdout",
          "text": [
            "✅ Kartini berhasil diambil.\n"
          ]
        },
        {
          "output_type": "stream",
          "name": "stderr",
          "text": [
            "DEBUG:urllib3.connectionpool:Starting new HTTPS connection (1): www.omdbapi.com:443\n",
            "2025-03-20 01:25:18 [urllib3.connectionpool] DEBUG: Starting new HTTPS connection (1): www.omdbapi.com:443\n",
            "DEBUG:urllib3.connectionpool:https://www.omdbapi.com:443 \"GET /?t=Sang%20Pencerah&apikey=fb84a884 HTTP/1.1\" 200 None\n",
            "2025-03-20 01:25:18 [urllib3.connectionpool] DEBUG: https://www.omdbapi.com:443 \"GET /?t=Sang%20Pencerah&apikey=fb84a884 HTTP/1.1\" 200 None\n"
          ]
        },
        {
          "output_type": "stream",
          "name": "stdout",
          "text": [
            "✅ Sang Pencerah berhasil diambil.\n"
          ]
        },
        {
          "output_type": "stream",
          "name": "stderr",
          "text": [
            "DEBUG:urllib3.connectionpool:Starting new HTTPS connection (1): www.omdbapi.com:443\n",
            "2025-03-20 01:25:19 [urllib3.connectionpool] DEBUG: Starting new HTTPS connection (1): www.omdbapi.com:443\n",
            "DEBUG:urllib3.connectionpool:https://www.omdbapi.com:443 \"GET /?t=Rudy%20Habibie&apikey=fb84a884 HTTP/1.1\" 200 None\n",
            "2025-03-20 01:25:20 [urllib3.connectionpool] DEBUG: https://www.omdbapi.com:443 \"GET /?t=Rudy%20Habibie&apikey=fb84a884 HTTP/1.1\" 200 None\n"
          ]
        },
        {
          "output_type": "stream",
          "name": "stdout",
          "text": [
            "✅ Rudy Habibie berhasil diambil.\n"
          ]
        },
        {
          "output_type": "stream",
          "name": "stderr",
          "text": [
            "DEBUG:urllib3.connectionpool:Starting new HTTPS connection (1): www.omdbapi.com:443\n",
            "2025-03-20 01:25:21 [urllib3.connectionpool] DEBUG: Starting new HTTPS connection (1): www.omdbapi.com:443\n",
            "DEBUG:urllib3.connectionpool:https://www.omdbapi.com:443 \"GET /?t=Cek%20Toko%20Sebelah&apikey=fb84a884 HTTP/1.1\" 200 None\n",
            "2025-03-20 01:25:21 [urllib3.connectionpool] DEBUG: https://www.omdbapi.com:443 \"GET /?t=Cek%20Toko%20Sebelah&apikey=fb84a884 HTTP/1.1\" 200 None\n"
          ]
        },
        {
          "output_type": "stream",
          "name": "stdout",
          "text": [
            "📌 Mengambil data film dari: Ernest Prakasa\n",
            "✅ Cek Toko Sebelah berhasil diambil.\n"
          ]
        },
        {
          "output_type": "stream",
          "name": "stderr",
          "text": [
            "DEBUG:urllib3.connectionpool:Starting new HTTPS connection (1): www.omdbapi.com:443\n",
            "2025-03-20 01:25:22 [urllib3.connectionpool] DEBUG: Starting new HTTPS connection (1): www.omdbapi.com:443\n",
            "DEBUG:urllib3.connectionpool:https://www.omdbapi.com:443 \"GET /?t=Imperfect&apikey=fb84a884 HTTP/1.1\" 200 None\n",
            "2025-03-20 01:25:22 [urllib3.connectionpool] DEBUG: https://www.omdbapi.com:443 \"GET /?t=Imperfect&apikey=fb84a884 HTTP/1.1\" 200 None\n"
          ]
        },
        {
          "output_type": "stream",
          "name": "stdout",
          "text": [
            "✅ Imperfect berhasil diambil.\n"
          ]
        },
        {
          "output_type": "stream",
          "name": "stderr",
          "text": [
            "DEBUG:urllib3.connectionpool:Starting new HTTPS connection (1): www.omdbapi.com:443\n",
            "2025-03-20 01:25:23 [urllib3.connectionpool] DEBUG: Starting new HTTPS connection (1): www.omdbapi.com:443\n",
            "DEBUG:urllib3.connectionpool:https://www.omdbapi.com:443 \"GET /?t=Ngenest&apikey=fb84a884 HTTP/1.1\" 200 None\n",
            "2025-03-20 01:25:23 [urllib3.connectionpool] DEBUG: https://www.omdbapi.com:443 \"GET /?t=Ngenest&apikey=fb84a884 HTTP/1.1\" 200 None\n"
          ]
        },
        {
          "output_type": "stream",
          "name": "stdout",
          "text": [
            "✅ Ngenest berhasil diambil.\n"
          ]
        },
        {
          "output_type": "stream",
          "name": "stderr",
          "text": [
            "DEBUG:urllib3.connectionpool:Starting new HTTPS connection (1): www.omdbapi.com:443\n",
            "2025-03-20 01:25:24 [urllib3.connectionpool] DEBUG: Starting new HTTPS connection (1): www.omdbapi.com:443\n",
            "DEBUG:urllib3.connectionpool:https://www.omdbapi.com:443 \"GET /?t=Susah%20Sinyal&apikey=fb84a884 HTTP/1.1\" 200 None\n",
            "2025-03-20 01:25:24 [urllib3.connectionpool] DEBUG: https://www.omdbapi.com:443 \"GET /?t=Susah%20Sinyal&apikey=fb84a884 HTTP/1.1\" 200 None\n"
          ]
        },
        {
          "output_type": "stream",
          "name": "stdout",
          "text": [
            "✅ Susah Sinyal berhasil diambil.\n"
          ]
        },
        {
          "output_type": "stream",
          "name": "stderr",
          "text": [
            "DEBUG:urllib3.connectionpool:Starting new HTTPS connection (1): www.omdbapi.com:443\n",
            "2025-03-20 01:25:25 [urllib3.connectionpool] DEBUG: Starting new HTTPS connection (1): www.omdbapi.com:443\n",
            "DEBUG:urllib3.connectionpool:https://www.omdbapi.com:443 \"GET /?t=Milly%20&%20Mamet&apikey=fb84a884 HTTP/1.1\" 200 None\n",
            "2025-03-20 01:25:25 [urllib3.connectionpool] DEBUG: https://www.omdbapi.com:443 \"GET /?t=Milly%20&%20Mamet&apikey=fb84a884 HTTP/1.1\" 200 None\n"
          ]
        },
        {
          "output_type": "stream",
          "name": "stdout",
          "text": [
            "✅ Milly & Mamet berhasil diambil.\n"
          ]
        },
        {
          "output_type": "stream",
          "name": "stderr",
          "text": [
            "DEBUG:urllib3.connectionpool:Starting new HTTPS connection (1): www.omdbapi.com:443\n",
            "2025-03-20 01:25:26 [urllib3.connectionpool] DEBUG: Starting new HTTPS connection (1): www.omdbapi.com:443\n",
            "DEBUG:urllib3.connectionpool:https://www.omdbapi.com:443 \"GET /?t=Jelangkung&apikey=fb84a884 HTTP/1.1\" 200 None\n",
            "2025-03-20 01:25:27 [urllib3.connectionpool] DEBUG: https://www.omdbapi.com:443 \"GET /?t=Jelangkung&apikey=fb84a884 HTTP/1.1\" 200 None\n"
          ]
        },
        {
          "output_type": "stream",
          "name": "stdout",
          "text": [
            "📌 Mengambil data film dari: Rizal Mantovani\n",
            "✅ Jelangkung berhasil diambil.\n"
          ]
        },
        {
          "output_type": "stream",
          "name": "stderr",
          "text": [
            "DEBUG:urllib3.connectionpool:Starting new HTTPS connection (1): www.omdbapi.com:443\n",
            "2025-03-20 01:25:28 [urllib3.connectionpool] DEBUG: Starting new HTTPS connection (1): www.omdbapi.com:443\n",
            "DEBUG:urllib3.connectionpool:https://www.omdbapi.com:443 \"GET /?t=Wewe&apikey=fb84a884 HTTP/1.1\" 200 None\n",
            "2025-03-20 01:25:28 [urllib3.connectionpool] DEBUG: https://www.omdbapi.com:443 \"GET /?t=Wewe&apikey=fb84a884 HTTP/1.1\" 200 None\n"
          ]
        },
        {
          "output_type": "stream",
          "name": "stdout",
          "text": [
            "✅ Wewe berhasil diambil.\n"
          ]
        },
        {
          "output_type": "stream",
          "name": "stderr",
          "text": [
            "DEBUG:urllib3.connectionpool:Starting new HTTPS connection (1): www.omdbapi.com:443\n",
            "2025-03-20 01:25:29 [urllib3.connectionpool] DEBUG: Starting new HTTPS connection (1): www.omdbapi.com:443\n",
            "DEBUG:urllib3.connectionpool:https://www.omdbapi.com:443 \"GET /?t=Kuntilanak&apikey=fb84a884 HTTP/1.1\" 200 None\n",
            "2025-03-20 01:25:29 [urllib3.connectionpool] DEBUG: https://www.omdbapi.com:443 \"GET /?t=Kuntilanak&apikey=fb84a884 HTTP/1.1\" 200 None\n"
          ]
        },
        {
          "output_type": "stream",
          "name": "stdout",
          "text": [
            "✅ Kuntilanak berhasil diambil.\n"
          ]
        },
        {
          "output_type": "stream",
          "name": "stderr",
          "text": [
            "DEBUG:urllib3.connectionpool:Starting new HTTPS connection (1): www.omdbapi.com:443\n",
            "2025-03-20 01:25:30 [urllib3.connectionpool] DEBUG: Starting new HTTPS connection (1): www.omdbapi.com:443\n",
            "DEBUG:urllib3.connectionpool:https://www.omdbapi.com:443 \"GET /?t=5%20cm&apikey=fb84a884 HTTP/1.1\" 200 None\n",
            "2025-03-20 01:25:30 [urllib3.connectionpool] DEBUG: https://www.omdbapi.com:443 \"GET /?t=5%20cm&apikey=fb84a884 HTTP/1.1\" 200 None\n"
          ]
        },
        {
          "output_type": "stream",
          "name": "stdout",
          "text": [
            "✅ 5 cm berhasil diambil.\n"
          ]
        },
        {
          "output_type": "stream",
          "name": "stderr",
          "text": [
            "DEBUG:urllib3.connectionpool:Starting new HTTPS connection (1): www.omdbapi.com:443\n",
            "2025-03-20 01:25:31 [urllib3.connectionpool] DEBUG: Starting new HTTPS connection (1): www.omdbapi.com:443\n",
            "DEBUG:urllib3.connectionpool:https://www.omdbapi.com:443 \"GET /?t=Air%20Terjun%20Pengantin&apikey=fb84a884 HTTP/1.1\" 200 None\n",
            "2025-03-20 01:25:31 [urllib3.connectionpool] DEBUG: https://www.omdbapi.com:443 \"GET /?t=Air%20Terjun%20Pengantin&apikey=fb84a884 HTTP/1.1\" 200 None\n"
          ]
        },
        {
          "output_type": "stream",
          "name": "stdout",
          "text": [
            "✅ Air Terjun Pengantin berhasil diambil.\n"
          ]
        },
        {
          "output_type": "stream",
          "name": "stderr",
          "text": [
            "DEBUG:urllib3.connectionpool:Starting new HTTPS connection (1): www.omdbapi.com:443\n",
            "2025-03-20 01:25:32 [urllib3.connectionpool] DEBUG: Starting new HTTPS connection (1): www.omdbapi.com:443\n",
            "DEBUG:urllib3.connectionpool:https://www.omdbapi.com:443 \"GET /?t=My%20Stupid%20Boss&apikey=fb84a884 HTTP/1.1\" 200 None\n",
            "2025-03-20 01:25:32 [urllib3.connectionpool] DEBUG: https://www.omdbapi.com:443 \"GET /?t=My%20Stupid%20Boss&apikey=fb84a884 HTTP/1.1\" 200 None\n"
          ]
        },
        {
          "output_type": "stream",
          "name": "stdout",
          "text": [
            "📌 Mengambil data film dari: Upi Avianto\n",
            "✅ My Stupid Boss berhasil diambil.\n"
          ]
        },
        {
          "output_type": "stream",
          "name": "stderr",
          "text": [
            "DEBUG:urllib3.connectionpool:Starting new HTTPS connection (1): www.omdbapi.com:443\n",
            "2025-03-20 01:25:33 [urllib3.connectionpool] DEBUG: Starting new HTTPS connection (1): www.omdbapi.com:443\n",
            "DEBUG:urllib3.connectionpool:https://www.omdbapi.com:443 \"GET /?t=Realita%20Cinta%20dan%20Rock%20n%20Roll&apikey=fb84a884 HTTP/1.1\" 200 None\n",
            "2025-03-20 01:25:34 [urllib3.connectionpool] DEBUG: https://www.omdbapi.com:443 \"GET /?t=Realita%20Cinta%20dan%20Rock%20n%20Roll&apikey=fb84a884 HTTP/1.1\" 200 None\n"
          ]
        },
        {
          "output_type": "stream",
          "name": "stdout",
          "text": [
            "✅ Realita Cinta dan Rock n Roll berhasil diambil.\n"
          ]
        },
        {
          "output_type": "stream",
          "name": "stderr",
          "text": [
            "DEBUG:urllib3.connectionpool:Starting new HTTPS connection (1): www.omdbapi.com:443\n",
            "2025-03-20 01:25:35 [urllib3.connectionpool] DEBUG: Starting new HTTPS connection (1): www.omdbapi.com:443\n",
            "DEBUG:urllib3.connectionpool:https://www.omdbapi.com:443 \"GET /?t=Radit%20dan%20Jani&apikey=fb84a884 HTTP/1.1\" 200 47\n",
            "2025-03-20 01:25:35 [urllib3.connectionpool] DEBUG: https://www.omdbapi.com:443 \"GET /?t=Radit%20dan%20Jani&apikey=fb84a884 HTTP/1.1\" 200 47\n"
          ]
        },
        {
          "output_type": "stream",
          "name": "stdout",
          "text": [
            "⚠️ Film 'Radit dan Jani' tidak ditemukan!\n"
          ]
        },
        {
          "output_type": "stream",
          "name": "stderr",
          "text": [
            "DEBUG:urllib3.connectionpool:Starting new HTTPS connection (1): www.omdbapi.com:443\n",
            "2025-03-20 01:25:36 [urllib3.connectionpool] DEBUG: Starting new HTTPS connection (1): www.omdbapi.com:443\n",
            "DEBUG:urllib3.connectionpool:https://www.omdbapi.com:443 \"GET /?t=Serigala%20Terakhir&apikey=fb84a884 HTTP/1.1\" 200 None\n",
            "2025-03-20 01:25:36 [urllib3.connectionpool] DEBUG: https://www.omdbapi.com:443 \"GET /?t=Serigala%20Terakhir&apikey=fb84a884 HTTP/1.1\" 200 None\n"
          ]
        },
        {
          "output_type": "stream",
          "name": "stdout",
          "text": [
            "✅ Serigala Terakhir berhasil diambil.\n"
          ]
        },
        {
          "output_type": "stream",
          "name": "stderr",
          "text": [
            "DEBUG:urllib3.connectionpool:Starting new HTTPS connection (1): www.omdbapi.com:443\n",
            "2025-03-20 01:25:37 [urllib3.connectionpool] DEBUG: Starting new HTTPS connection (1): www.omdbapi.com:443\n",
            "DEBUG:urllib3.connectionpool:https://www.omdbapi.com:443 \"GET /?t=Belenggu&apikey=fb84a884 HTTP/1.1\" 200 None\n",
            "2025-03-20 01:25:37 [urllib3.connectionpool] DEBUG: https://www.omdbapi.com:443 \"GET /?t=Belenggu&apikey=fb84a884 HTTP/1.1\" 200 None\n"
          ]
        },
        {
          "output_type": "stream",
          "name": "stdout",
          "text": [
            "✅ Belenggu berhasil diambil.\n"
          ]
        },
        {
          "output_type": "stream",
          "name": "stderr",
          "text": [
            "DEBUG:urllib3.connectionpool:Starting new HTTPS connection (1): www.omdbapi.com:443\n",
            "2025-03-20 01:25:38 [urllib3.connectionpool] DEBUG: Starting new HTTPS connection (1): www.omdbapi.com:443\n",
            "DEBUG:urllib3.connectionpool:https://www.omdbapi.com:443 \"GET /?t=Marlina%20si%20Pembunuh%20dalam%20Empat%20Babak&apikey=fb84a884 HTTP/1.1\" 200 47\n",
            "2025-03-20 01:25:38 [urllib3.connectionpool] DEBUG: https://www.omdbapi.com:443 \"GET /?t=Marlina%20si%20Pembunuh%20dalam%20Empat%20Babak&apikey=fb84a884 HTTP/1.1\" 200 47\n"
          ]
        },
        {
          "output_type": "stream",
          "name": "stdout",
          "text": [
            "📌 Mengambil data film dari: Mouly Surya\n",
            "⚠️ Film 'Marlina si Pembunuh dalam Empat Babak' tidak ditemukan!\n"
          ]
        },
        {
          "output_type": "stream",
          "name": "stderr",
          "text": [
            "DEBUG:urllib3.connectionpool:Starting new HTTPS connection (1): www.omdbapi.com:443\n",
            "2025-03-20 01:25:39 [urllib3.connectionpool] DEBUG: Starting new HTTPS connection (1): www.omdbapi.com:443\n",
            "DEBUG:urllib3.connectionpool:https://www.omdbapi.com:443 \"GET /?t=Fiksi.&apikey=fb84a884 HTTP/1.1\" 200 None\n",
            "2025-03-20 01:25:39 [urllib3.connectionpool] DEBUG: https://www.omdbapi.com:443 \"GET /?t=Fiksi.&apikey=fb84a884 HTTP/1.1\" 200 None\n"
          ]
        },
        {
          "output_type": "stream",
          "name": "stdout",
          "text": [
            "✅ Fiksi. berhasil diambil.\n"
          ]
        },
        {
          "output_type": "stream",
          "name": "stderr",
          "text": [
            "DEBUG:urllib3.connectionpool:Starting new HTTPS connection (1): www.omdbapi.com:443\n",
            "2025-03-20 01:25:40 [urllib3.connectionpool] DEBUG: Starting new HTTPS connection (1): www.omdbapi.com:443\n",
            "DEBUG:urllib3.connectionpool:https://www.omdbapi.com:443 \"GET /?t=What%20They%20Don't%20Talk%20About%20When%20They%20Talk%20About%20Love&apikey=fb84a884 HTTP/1.1\" 200 None\n",
            "2025-03-20 01:25:41 [urllib3.connectionpool] DEBUG: https://www.omdbapi.com:443 \"GET /?t=What%20They%20Don't%20Talk%20About%20When%20They%20Talk%20About%20Love&apikey=fb84a884 HTTP/1.1\" 200 None\n"
          ]
        },
        {
          "output_type": "stream",
          "name": "stdout",
          "text": [
            "✅ What They Don't Talk About When They Talk About Love berhasil diambil.\n"
          ]
        },
        {
          "output_type": "stream",
          "name": "stderr",
          "text": [
            "DEBUG:urllib3.connectionpool:Starting new HTTPS connection (1): www.omdbapi.com:443\n",
            "2025-03-20 01:25:42 [urllib3.connectionpool] DEBUG: Starting new HTTPS connection (1): www.omdbapi.com:443\n"
          ]
        },
        {
          "output_type": "stream",
          "name": "stdout",
          "text": [
            "📌 Mengambil data film dari: Angga Dwimas Sasongko\n"
          ]
        },
        {
          "output_type": "stream",
          "name": "stderr",
          "text": [
            "DEBUG:urllib3.connectionpool:https://www.omdbapi.com:443 \"GET /?t=Filosofi%20Kopi&apikey=fb84a884 HTTP/1.1\" 200 None\n",
            "2025-03-20 01:25:42 [urllib3.connectionpool] DEBUG: https://www.omdbapi.com:443 \"GET /?t=Filosofi%20Kopi&apikey=fb84a884 HTTP/1.1\" 200 None\n"
          ]
        },
        {
          "output_type": "stream",
          "name": "stdout",
          "text": [
            "✅ Filosofi Kopi berhasil diambil.\n"
          ]
        },
        {
          "output_type": "stream",
          "name": "stderr",
          "text": [
            "DEBUG:urllib3.connectionpool:Starting new HTTPS connection (1): www.omdbapi.com:443\n",
            "2025-03-20 01:25:43 [urllib3.connectionpool] DEBUG: Starting new HTTPS connection (1): www.omdbapi.com:443\n",
            "DEBUG:urllib3.connectionpool:https://www.omdbapi.com:443 \"GET /?t=Surat%20dari%20Praha&apikey=fb84a884 HTTP/1.1\" 200 47\n",
            "2025-03-20 01:25:43 [urllib3.connectionpool] DEBUG: https://www.omdbapi.com:443 \"GET /?t=Surat%20dari%20Praha&apikey=fb84a884 HTTP/1.1\" 200 47\n"
          ]
        },
        {
          "output_type": "stream",
          "name": "stdout",
          "text": [
            "⚠️ Film 'Surat dari Praha' tidak ditemukan!\n"
          ]
        },
        {
          "output_type": "stream",
          "name": "stderr",
          "text": [
            "DEBUG:urllib3.connectionpool:Starting new HTTPS connection (1): www.omdbapi.com:443\n",
            "2025-03-20 01:25:44 [urllib3.connectionpool] DEBUG: Starting new HTTPS connection (1): www.omdbapi.com:443\n",
            "DEBUG:urllib3.connectionpool:https://www.omdbapi.com:443 \"GET /?t=Nanti%20Kita%20Cerita%20tentang%20Hari%20Ini&apikey=fb84a884 HTTP/1.1\" 200 47\n",
            "2025-03-20 01:25:44 [urllib3.connectionpool] DEBUG: https://www.omdbapi.com:443 \"GET /?t=Nanti%20Kita%20Cerita%20tentang%20Hari%20Ini&apikey=fb84a884 HTTP/1.1\" 200 47\n"
          ]
        },
        {
          "output_type": "stream",
          "name": "stdout",
          "text": [
            "⚠️ Film 'Nanti Kita Cerita tentang Hari Ini' tidak ditemukan!\n"
          ]
        },
        {
          "output_type": "stream",
          "name": "stderr",
          "text": [
            "DEBUG:urllib3.connectionpool:Starting new HTTPS connection (1): www.omdbapi.com:443\n",
            "2025-03-20 01:25:45 [urllib3.connectionpool] DEBUG: Starting new HTTPS connection (1): www.omdbapi.com:443\n",
            "DEBUG:urllib3.connectionpool:https://www.omdbapi.com:443 \"GET /?t=Cahaya%20dari%20Timur&apikey=fb84a884 HTTP/1.1\" 200 47\n",
            "2025-03-20 01:25:45 [urllib3.connectionpool] DEBUG: https://www.omdbapi.com:443 \"GET /?t=Cahaya%20dari%20Timur&apikey=fb84a884 HTTP/1.1\" 200 47\n"
          ]
        },
        {
          "output_type": "stream",
          "name": "stdout",
          "text": [
            "⚠️ Film 'Cahaya dari Timur' tidak ditemukan!\n"
          ]
        },
        {
          "output_type": "stream",
          "name": "stderr",
          "text": [
            "DEBUG:urllib3.connectionpool:Starting new HTTPS connection (1): www.omdbapi.com:443\n",
            "2025-03-20 01:25:46 [urllib3.connectionpool] DEBUG: Starting new HTTPS connection (1): www.omdbapi.com:443\n",
            "DEBUG:urllib3.connectionpool:https://www.omdbapi.com:443 \"GET /?t=Kucumbu%20Tubuh%20Indahku&apikey=fb84a884 HTTP/1.1\" 200 47\n",
            "2025-03-20 01:25:46 [urllib3.connectionpool] DEBUG: https://www.omdbapi.com:443 \"GET /?t=Kucumbu%20Tubuh%20Indahku&apikey=fb84a884 HTTP/1.1\" 200 47\n"
          ]
        },
        {
          "output_type": "stream",
          "name": "stdout",
          "text": [
            "📌 Mengambil data film dari: Garin Nugroho\n",
            "⚠️ Film 'Kucumbu Tubuh Indahku' tidak ditemukan!\n"
          ]
        },
        {
          "output_type": "stream",
          "name": "stderr",
          "text": [
            "DEBUG:urllib3.connectionpool:Starting new HTTPS connection (1): www.omdbapi.com:443\n",
            "2025-03-20 01:25:47 [urllib3.connectionpool] DEBUG: Starting new HTTPS connection (1): www.omdbapi.com:443\n",
            "DEBUG:urllib3.connectionpool:https://www.omdbapi.com:443 \"GET /?t=Opera%20Jawa&apikey=fb84a884 HTTP/1.1\" 200 47\n",
            "2025-03-20 01:25:48 [urllib3.connectionpool] DEBUG: https://www.omdbapi.com:443 \"GET /?t=Opera%20Jawa&apikey=fb84a884 HTTP/1.1\" 200 47\n"
          ]
        },
        {
          "output_type": "stream",
          "name": "stdout",
          "text": [
            "⚠️ Film 'Opera Jawa' tidak ditemukan!\n"
          ]
        },
        {
          "output_type": "stream",
          "name": "stderr",
          "text": [
            "DEBUG:urllib3.connectionpool:Starting new HTTPS connection (1): www.omdbapi.com:443\n",
            "2025-03-20 01:25:49 [urllib3.connectionpool] DEBUG: Starting new HTTPS connection (1): www.omdbapi.com:443\n",
            "DEBUG:urllib3.connectionpool:https://www.omdbapi.com:443 \"GET /?t=Daun%20di%20Atas%20Bantal&apikey=fb84a884 HTTP/1.1\" 200 47\n",
            "2025-03-20 01:25:49 [urllib3.connectionpool] DEBUG: https://www.omdbapi.com:443 \"GET /?t=Daun%20di%20Atas%20Bantal&apikey=fb84a884 HTTP/1.1\" 200 47\n"
          ]
        },
        {
          "output_type": "stream",
          "name": "stdout",
          "text": [
            "⚠️ Film 'Daun di Atas Bantal' tidak ditemukan!\n"
          ]
        },
        {
          "output_type": "stream",
          "name": "stderr",
          "text": [
            "DEBUG:urllib3.connectionpool:Starting new HTTPS connection (1): www.omdbapi.com:443\n",
            "2025-03-20 01:25:50 [urllib3.connectionpool] DEBUG: Starting new HTTPS connection (1): www.omdbapi.com:443\n",
            "DEBUG:urllib3.connectionpool:https://www.omdbapi.com:443 \"GET /?t=Soegija&apikey=fb84a884 HTTP/1.1\" 200 None\n",
            "2025-03-20 01:25:50 [urllib3.connectionpool] DEBUG: https://www.omdbapi.com:443 \"GET /?t=Soegija&apikey=fb84a884 HTTP/1.1\" 200 None\n"
          ]
        },
        {
          "output_type": "stream",
          "name": "stdout",
          "text": [
            "✅ Soegija berhasil diambil.\n"
          ]
        },
        {
          "output_type": "stream",
          "name": "stderr",
          "text": [
            "DEBUG:urllib3.connectionpool:Starting new HTTPS connection (1): www.omdbapi.com:443\n",
            "2025-03-20 01:25:51 [urllib3.connectionpool] DEBUG: Starting new HTTPS connection (1): www.omdbapi.com:443\n",
            "DEBUG:urllib3.connectionpool:https://www.omdbapi.com:443 \"GET /?t=Laskar%20Pelangi%202&apikey=fb84a884 HTTP/1.1\" 200 47\n",
            "2025-03-20 01:25:51 [urllib3.connectionpool] DEBUG: https://www.omdbapi.com:443 \"GET /?t=Laskar%20Pelangi%202&apikey=fb84a884 HTTP/1.1\" 200 47\n"
          ]
        },
        {
          "output_type": "stream",
          "name": "stdout",
          "text": [
            "⚠️ Film 'Laskar Pelangi 2' tidak ditemukan!\n"
          ]
        },
        {
          "output_type": "stream",
          "name": "stderr",
          "text": [
            "DEBUG:urllib3.connectionpool:Starting new HTTPS connection (1): www.omdbapi.com:443\n",
            "2025-03-20 01:25:52 [urllib3.connectionpool] DEBUG: Starting new HTTPS connection (1): www.omdbapi.com:443\n"
          ]
        },
        {
          "output_type": "stream",
          "name": "stdout",
          "text": [
            "📌 Mengambil data film dari: Riri Riza\n"
          ]
        },
        {
          "output_type": "stream",
          "name": "stderr",
          "text": [
            "DEBUG:urllib3.connectionpool:https://www.omdbapi.com:443 \"GET /?t=Ada%20Apa%20dengan%20Cinta?&apikey=fb84a884 HTTP/1.1\" 200 47\n",
            "2025-03-20 01:25:52 [urllib3.connectionpool] DEBUG: https://www.omdbapi.com:443 \"GET /?t=Ada%20Apa%20dengan%20Cinta?&apikey=fb84a884 HTTP/1.1\" 200 47\n"
          ]
        },
        {
          "output_type": "stream",
          "name": "stdout",
          "text": [
            "⚠️ Film 'Ada Apa dengan Cinta?' tidak ditemukan!\n"
          ]
        },
        {
          "output_type": "stream",
          "name": "stderr",
          "text": [
            "DEBUG:urllib3.connectionpool:Starting new HTTPS connection (1): www.omdbapi.com:443\n",
            "2025-03-20 01:25:53 [urllib3.connectionpool] DEBUG: Starting new HTTPS connection (1): www.omdbapi.com:443\n",
            "DEBUG:urllib3.connectionpool:https://www.omdbapi.com:443 \"GET /?t=Laskar%20Pelangi&apikey=fb84a884 HTTP/1.1\" 200 None\n",
            "2025-03-20 01:25:53 [urllib3.connectionpool] DEBUG: https://www.omdbapi.com:443 \"GET /?t=Laskar%20Pelangi&apikey=fb84a884 HTTP/1.1\" 200 None\n"
          ]
        },
        {
          "output_type": "stream",
          "name": "stdout",
          "text": [
            "✅ Laskar Pelangi berhasil diambil.\n"
          ]
        },
        {
          "output_type": "stream",
          "name": "stderr",
          "text": [
            "DEBUG:urllib3.connectionpool:Starting new HTTPS connection (1): www.omdbapi.com:443\n",
            "2025-03-20 01:25:54 [urllib3.connectionpool] DEBUG: Starting new HTTPS connection (1): www.omdbapi.com:443\n",
            "DEBUG:urllib3.connectionpool:https://www.omdbapi.com:443 \"GET /?t=Athirah&apikey=fb84a884 HTTP/1.1\" 200 47\n",
            "2025-03-20 01:25:55 [urllib3.connectionpool] DEBUG: https://www.omdbapi.com:443 \"GET /?t=Athirah&apikey=fb84a884 HTTP/1.1\" 200 47\n"
          ]
        },
        {
          "output_type": "stream",
          "name": "stdout",
          "text": [
            "⚠️ Film 'Athirah' tidak ditemukan!\n"
          ]
        },
        {
          "output_type": "stream",
          "name": "stderr",
          "text": [
            "DEBUG:urllib3.connectionpool:Starting new HTTPS connection (1): www.omdbapi.com:443\n",
            "2025-03-20 01:25:56 [urllib3.connectionpool] DEBUG: Starting new HTTPS connection (1): www.omdbapi.com:443\n",
            "DEBUG:urllib3.connectionpool:https://www.omdbapi.com:443 \"GET /?t=Sokola%20Rimba&apikey=fb84a884 HTTP/1.1\" 200 None\n",
            "2025-03-20 01:25:56 [urllib3.connectionpool] DEBUG: https://www.omdbapi.com:443 \"GET /?t=Sokola%20Rimba&apikey=fb84a884 HTTP/1.1\" 200 None\n"
          ]
        },
        {
          "output_type": "stream",
          "name": "stdout",
          "text": [
            "✅ Sokola Rimba berhasil diambil.\n"
          ]
        },
        {
          "output_type": "stream",
          "name": "stderr",
          "text": [
            "DEBUG:urllib3.connectionpool:Starting new HTTPS connection (1): www.omdbapi.com:443\n",
            "2025-03-20 01:25:57 [urllib3.connectionpool] DEBUG: Starting new HTTPS connection (1): www.omdbapi.com:443\n",
            "DEBUG:urllib3.connectionpool:https://www.omdbapi.com:443 \"GET /?t=Gie&apikey=fb84a884 HTTP/1.1\" 200 None\n",
            "2025-03-20 01:25:57 [urllib3.connectionpool] DEBUG: https://www.omdbapi.com:443 \"GET /?t=Gie&apikey=fb84a884 HTTP/1.1\" 200 None\n"
          ]
        },
        {
          "output_type": "stream",
          "name": "stdout",
          "text": [
            "✅ Gie berhasil diambil.\n"
          ]
        },
        {
          "output_type": "stream",
          "name": "stderr",
          "text": [
            "DEBUG:urllib3.connectionpool:Starting new HTTPS connection (1): www.omdbapi.com:443\n",
            "2025-03-20 01:25:58 [urllib3.connectionpool] DEBUG: Starting new HTTPS connection (1): www.omdbapi.com:443\n",
            "DEBUG:urllib3.connectionpool:https://www.omdbapi.com:443 \"GET /?t=Lovely%20Man&apikey=fb84a884 HTTP/1.1\" 200 None\n",
            "2025-03-20 01:25:58 [urllib3.connectionpool] DEBUG: https://www.omdbapi.com:443 \"GET /?t=Lovely%20Man&apikey=fb84a884 HTTP/1.1\" 200 None\n"
          ]
        },
        {
          "output_type": "stream",
          "name": "stdout",
          "text": [
            "📌 Mengambil data film dari: Teddy Soeriaatmadja\n",
            "✅ Lovely Man berhasil diambil.\n"
          ]
        },
        {
          "output_type": "stream",
          "name": "stderr",
          "text": [
            "DEBUG:urllib3.connectionpool:Starting new HTTPS connection (1): www.omdbapi.com:443\n",
            "2025-03-20 01:25:59 [urllib3.connectionpool] DEBUG: Starting new HTTPS connection (1): www.omdbapi.com:443\n",
            "DEBUG:urllib3.connectionpool:https://www.omdbapi.com:443 \"GET /?t=Something%20in%20the%20Way&apikey=fb84a884 HTTP/1.1\" 200 None\n",
            "2025-03-20 01:25:59 [urllib3.connectionpool] DEBUG: https://www.omdbapi.com:443 \"GET /?t=Something%20in%20the%20Way&apikey=fb84a884 HTTP/1.1\" 200 None\n"
          ]
        },
        {
          "output_type": "stream",
          "name": "stdout",
          "text": [
            "✅ Something in the Way berhasil diambil.\n"
          ]
        },
        {
          "output_type": "stream",
          "name": "stderr",
          "text": [
            "DEBUG:urllib3.connectionpool:Starting new HTTPS connection (1): www.omdbapi.com:443\n",
            "2025-03-20 01:26:00 [urllib3.connectionpool] DEBUG: Starting new HTTPS connection (1): www.omdbapi.com:443\n",
            "DEBUG:urllib3.connectionpool:https://www.omdbapi.com:443 \"GET /?t=About%20a%20Woman&apikey=fb84a884 HTTP/1.1\" 200 None\n",
            "2025-03-20 01:26:00 [urllib3.connectionpool] DEBUG: https://www.omdbapi.com:443 \"GET /?t=About%20a%20Woman&apikey=fb84a884 HTTP/1.1\" 200 None\n"
          ]
        },
        {
          "output_type": "stream",
          "name": "stdout",
          "text": [
            "✅ About a Woman berhasil diambil.\n"
          ]
        },
        {
          "output_type": "stream",
          "name": "stderr",
          "text": [
            "DEBUG:urllib3.connectionpool:Starting new HTTPS connection (1): www.omdbapi.com:443\n",
            "2025-03-20 01:26:01 [urllib3.connectionpool] DEBUG: Starting new HTTPS connection (1): www.omdbapi.com:443\n",
            "DEBUG:urllib3.connectionpool:https://www.omdbapi.com:443 \"GET /?t=Banyu%20Biru&apikey=fb84a884 HTTP/1.1\" 200 None\n",
            "2025-03-20 01:26:01 [urllib3.connectionpool] DEBUG: https://www.omdbapi.com:443 \"GET /?t=Banyu%20Biru&apikey=fb84a884 HTTP/1.1\" 200 None\n"
          ]
        },
        {
          "output_type": "stream",
          "name": "stdout",
          "text": [
            "✅ Banyu Biru berhasil diambil.\n",
            "\n",
            "🎉 Data scraping selesai! Hasilnya disimpan di 'movies_data.json'\n"
          ]
        }
      ]
    },
    {
      "cell_type": "code",
      "source": [
        "print(\"\\nHasil mencuri data Absoulute Cinema:\")\n",
        "for movie in movies_data:\n",
        "    print(\"-\" * 40)\n",
        "    for key, value in movie.items():\n",
        "        print(f\"{key}: {value}\")"
      ],
      "metadata": {
        "colab": {
          "base_uri": "https://localhost:8080/"
        },
        "id": "XlOYH7ivITt0",
        "outputId": "7d1d4d32-6fb6-4a74-d6a3-b73f6ca7a21a"
      },
      "execution_count": 11,
      "outputs": [
        {
          "output_type": "stream",
          "name": "stdout",
          "text": [
            "\n",
            "🎬 Hasil Scraping Film:\n",
            "----------------------------------------\n",
            "Title: Inception\n",
            "Year: 2010\n",
            "Director: Christopher Nolan\n",
            "Genre: Action, Adventure, Sci-Fi\n",
            "IMDB Rating: 8.8\n",
            "Plot: A thief who steals corporate secrets through the use of dream-sharing technology is given the inverse task of planting an idea into the mind of a C.E.O., but his tragic past may doom the project and his team to disaster.\n",
            "----------------------------------------\n",
            "Title: The Dark Knight\n",
            "Year: 2008\n",
            "Director: Christopher Nolan\n",
            "Genre: Action, Crime, Drama\n",
            "IMDB Rating: 9.0\n",
            "Plot: When a menace known as the Joker wreaks havoc and chaos on the people of Gotham, Batman, James Gordon and Harvey Dent must work together to put an end to the madness.\n",
            "----------------------------------------\n",
            "Title: Dunkirk\n",
            "Year: 2017\n",
            "Director: Christopher Nolan\n",
            "Genre: Action, Drama, History\n",
            "IMDB Rating: 7.8\n",
            "Plot: Allied soldiers from Belgium, the British Commonwealth and Empire, and France are surrounded by the German Army and evacuated during a fierce battle in World War II.\n",
            "----------------------------------------\n",
            "Title: Pulp Fiction\n",
            "Year: 1994\n",
            "Director: Quentin Tarantino\n",
            "Genre: Crime, Drama\n",
            "IMDB Rating: 8.9\n",
            "Plot: The lives of two mob hitmen, a boxer, a gangster and his wife, and a pair of diner bandits intertwine in four tales of violence and redemption.\n",
            "----------------------------------------\n",
            "Title: Django Unchained\n",
            "Year: 2012\n",
            "Director: Quentin Tarantino\n",
            "Genre: Comedy, Drama, Western\n",
            "IMDB Rating: 8.5\n",
            "Plot: With the help of a German bounty-hunter, a freed slave sets out to rescue his wife from a brutal plantation owner in Mississippi.\n",
            "----------------------------------------\n",
            "Title: Kill Bill: Vol. 1\n",
            "Year: 2003\n",
            "Director: Quentin Tarantino\n",
            "Genre: Action, Crime, Thriller\n",
            "IMDB Rating: 8.2\n",
            "Plot: After waking from a four-year coma, a former assassin wreaks vengeance on the team of assassins who betrayed her.\n",
            "----------------------------------------\n",
            "Title: Inglourious Basterds\n",
            "Year: 2009\n",
            "Director: Quentin Tarantino\n",
            "Genre: Adventure, Drama, War\n",
            "IMDB Rating: 8.4\n",
            "Plot: In Nazi-occupied France during World War II, a plan to assassinate Nazi leaders by a group of Jewish U.S. soldiers coincides with a theatre owner's vengeful plans for the same.\n",
            "----------------------------------------\n",
            "Title: Once Upon a Time in Hollywood\n",
            "Year: 2016\n",
            "Director: Quentin Tarantino\n",
            "Genre: Drama\n",
            "IMDB Rating: N/A\n",
            "Plot: N/A\n",
            "----------------------------------------\n",
            "Title: Goodfellas\n",
            "Year: 1990\n",
            "Director: Martin Scorsese\n",
            "Genre: Biography, Crime, Drama\n",
            "IMDB Rating: 8.7\n",
            "Plot: The story of Henry Hill and his life in the mafia, covering his relationship with his wife Karen and his mob partners Jimmy Conway and Tommy DeVito.\n",
            "----------------------------------------\n",
            "Title: The Wolf of Wall Street\n",
            "Year: 2013\n",
            "Director: Martin Scorsese\n",
            "Genre: Biography, Comedy, Crime\n",
            "IMDB Rating: 8.2\n",
            "Plot: Based on the true story of Jordan Belfort, from his rise to a wealthy stock-broker living the high life to his fall involving crime, corruption and the federal government.\n",
            "----------------------------------------\n",
            "Title: Taxi Driver\n",
            "Year: 1976\n",
            "Director: Martin Scorsese\n",
            "Genre: Crime, Drama\n",
            "IMDB Rating: 8.2\n",
            "Plot: A mentally unstable veteran works as a nighttime taxi driver in New York City, where the perceived decadence and sleaze fuels his urge for violent action.\n",
            "----------------------------------------\n",
            "Title: The Irishman\n",
            "Year: 2019\n",
            "Director: Martin Scorsese\n",
            "Genre: Biography, Crime, Drama\n",
            "IMDB Rating: 7.8\n",
            "Plot: An illustration of Frank Sheeran's life, from W.W.II veteran to hit-man for the Bufalino crime family and his alleged assassination of his close friend Jimmy Hoffa.\n",
            "----------------------------------------\n",
            "Title: Casino\n",
            "Year: 1995\n",
            "Director: Martin Scorsese\n",
            "Genre: Crime, Drama\n",
            "IMDB Rating: 8.2\n",
            "Plot: In Las Vegas, two best friends--a casino executive and a Mafia enforcer--compete for a gambling empire and a fast-living, fast-loving socialite.\n",
            "----------------------------------------\n",
            "Title: Jurassic Park\n",
            "Year: 1993\n",
            "Director: Steven Spielberg\n",
            "Genre: Action, Adventure, Sci-Fi\n",
            "IMDB Rating: 8.2\n",
            "Plot: An industrialist invites some experts to visit his theme park of cloned dinosaurs. After a power failure, the creatures run loose, putting everyone's lives, including his grandchildren's, in danger.\n",
            "----------------------------------------\n",
            "Title: Schindler's List\n",
            "Year: 1993\n",
            "Director: Steven Spielberg\n",
            "Genre: Biography, Drama, History\n",
            "IMDB Rating: 9.0\n",
            "Plot: In German-occupied Poland during World War II, industrialist Oskar Schindler gradually becomes concerned for his Jewish workforce after witnessing their persecution by the Nazis.\n",
            "----------------------------------------\n",
            "Title: E.T. the Extra-Terrestrial\n",
            "Year: 1982\n",
            "Director: Steven Spielberg\n",
            "Genre: Adventure, Family, Sci-Fi\n",
            "IMDB Rating: 7.9\n",
            "Plot: A troubled child summons the courage to help a friendly alien escape from Earth and return to his home planet.\n",
            "----------------------------------------\n",
            "Title: Jaws\n",
            "Year: 1975\n",
            "Director: Steven Spielberg\n",
            "Genre: Adventure, Drama, Horror\n",
            "IMDB Rating: 8.1\n",
            "Plot: When a massive killer shark unleashes chaos on a beach community off Long Island, it's up to a local sheriff, a marine biologist, and an old seafarer to hunt the beast down.\n",
            "----------------------------------------\n",
            "Title: Indiana Jones and the Last Crusade\n",
            "Year: 1989\n",
            "Director: Steven Spielberg\n",
            "Genre: Action, Adventure\n",
            "IMDB Rating: 8.2\n",
            "Plot: In 1938, after his father goes missing while pursuing the Holy Grail, Indiana Jones finds himself up against the Nazis again to stop them from obtaining its powers.\n",
            "----------------------------------------\n",
            "Title: Gladiator\n",
            "Year: 2000\n",
            "Director: Ridley Scott\n",
            "Genre: Action, Adventure, Drama\n",
            "IMDB Rating: 8.5\n",
            "Plot: A former Roman General sets out to exact vengeance against the corrupt emperor who murdered his family and sent him into slavery.\n",
            "----------------------------------------\n",
            "Title: Blade Runner\n",
            "Year: 1982\n",
            "Director: Ridley Scott\n",
            "Genre: Action, Drama, Sci-Fi\n",
            "IMDB Rating: 8.1\n",
            "Plot: A blade runner must pursue and terminate four replicants who stole a ship in space and have returned to Earth to find their creator.\n",
            "----------------------------------------\n",
            "Title: The Martian\n",
            "Year: 2015\n",
            "Director: Ridley Scott\n",
            "Genre: Adventure, Drama, Sci-Fi\n",
            "IMDB Rating: 8.0\n",
            "Plot: An astronaut becomes stranded on Mars after his team assume him dead, and must rely on his ingenuity to find a way to signal to Earth that he is alive and can survive until a potential rescue.\n",
            "----------------------------------------\n",
            "Title: Alien\n",
            "Year: 1979\n",
            "Director: Ridley Scott\n",
            "Genre: Horror, Sci-Fi\n",
            "IMDB Rating: 8.5\n",
            "Plot: After investigating a mysterious transmission of unknown origin, the crew of a commercial spacecraft encounters a deadly lifeform.\n",
            "----------------------------------------\n",
            "Title: Black Hawk Down\n",
            "Year: 2001\n",
            "Director: Ridley Scott\n",
            "Genre: Action, Drama, History\n",
            "IMDB Rating: 7.7\n",
            "Plot: The story of 160 elite U.S. soldiers who dropped into Mogadishu in October 1993 to capture two top lieutenants of a renegade warlord, but found themselves in a desperate battle with a large force of heavily armed Somalis.\n",
            "----------------------------------------\n",
            "Title: Titanic\n",
            "Year: 1997\n",
            "Director: James Cameron\n",
            "Genre: Drama, Romance\n",
            "IMDB Rating: 7.9\n",
            "Plot: A seventeen-year-old aristocrat falls in love with a kind but poor artist aboard the luxurious, ill-fated R.M.S. Titanic.\n",
            "----------------------------------------\n",
            "Title: Avatar\n",
            "Year: 2009\n",
            "Director: James Cameron\n",
            "Genre: Action, Adventure, Fantasy\n",
            "IMDB Rating: 7.9\n",
            "Plot: A paraplegic Marine dispatched to the moon Pandora on a unique mission becomes torn between following his orders and protecting the world he feels is his home.\n",
            "----------------------------------------\n",
            "Title: Terminator 2: Judgment Day\n",
            "Year: 1991\n",
            "Director: James Cameron\n",
            "Genre: Action, Adventure, Sci-Fi\n",
            "IMDB Rating: 8.6\n",
            "Plot: A cyborg, identical to the one who failed to kill Sarah Connor, must now protect her ten year old son John from an even more advanced and powerful cyborg.\n",
            "----------------------------------------\n",
            "Title: Aliens\n",
            "Year: 1986\n",
            "Director: James Cameron\n",
            "Genre: Action, Adventure, Horror\n",
            "IMDB Rating: 8.4\n",
            "Plot: Decades after surviving the Nostromo incident, Ellen Ripley is sent out to re-establish contact with a terraforming colony but finds herself battling the Alien Queen and her offspring.\n",
            "----------------------------------------\n",
            "Title: The Abyss\n",
            "Year: 1989\n",
            "Director: James Cameron\n",
            "Genre: Adventure, Drama, Mystery\n",
            "IMDB Rating: 7.5\n",
            "Plot: A civilian diving team is enlisted to search for a lost nuclear submarine and faces danger while encountering an alien aquatic species.\n",
            "----------------------------------------\n",
            "Title: Fight Club\n",
            "Year: 1999\n",
            "Director: David Fincher\n",
            "Genre: Drama\n",
            "IMDB Rating: 8.8\n",
            "Plot: An insomniac office worker and a devil-may-care soap maker form an underground fight club that evolves into much more.\n",
            "----------------------------------------\n",
            "Title: Se7en\n",
            "Year: 1995\n",
            "Director: David Fincher\n",
            "Genre: Crime, Drama, Mystery\n",
            "IMDB Rating: 8.6\n",
            "Plot: Two detectives, a rookie and a veteran, hunt a serial killer who uses the seven deadly sins as his motives.\n",
            "----------------------------------------\n",
            "Title: Gone Girl\n",
            "Year: 2014\n",
            "Director: David Fincher\n",
            "Genre: Drama, Mystery, Thriller\n",
            "IMDB Rating: 8.1\n",
            "Plot: The husband of a missing woman becomes the chief suspect in her disappearance.\n",
            "----------------------------------------\n",
            "Title: The Social Network\n",
            "Year: 2010\n",
            "Director: David Fincher\n",
            "Genre: Biography, Drama\n",
            "IMDB Rating: 7.8\n",
            "Plot: As Harvard student Mark Zuckerberg creates the social networking site that would become known as Facebook, he is sued by the twins who claimed he stole their idea and by the co-founder who was later squeezed out of the business.\n",
            "----------------------------------------\n",
            "Title: Zodiac\n",
            "Year: 2007\n",
            "Director: David Fincher\n",
            "Genre: Crime, Drama, Mystery\n",
            "IMDB Rating: 7.7\n",
            "Plot: Between 1968 and 1983, a San Francisco cartoonist becomes an amateur detective obsessed with tracking down the Zodiac Killer, an unidentified individual who terrorizes Northern California with a killing spree.\n",
            "----------------------------------------\n",
            "Title: The Shining\n",
            "Year: 1980\n",
            "Director: Stanley Kubrick\n",
            "Genre: Drama, Horror\n",
            "IMDB Rating: 8.4\n",
            "Plot: A family heads to an isolated hotel for the winter, where a sinister presence influences the father into violence. At the same time, his psychic son sees horrifying forebodings from both the past and the future.\n",
            "----------------------------------------\n",
            "Title: A Clockwork Orange\n",
            "Year: 1971\n",
            "Director: Stanley Kubrick\n",
            "Genre: Crime, Sci-Fi\n",
            "IMDB Rating: 8.2\n",
            "Plot: Alex DeLarge and his droogs barbarize a decaying near-future.\n",
            "----------------------------------------\n",
            "Title: 2001: A Space Odyssey\n",
            "Year: 1968\n",
            "Director: Stanley Kubrick\n",
            "Genre: Adventure, Sci-Fi\n",
            "IMDB Rating: 8.3\n",
            "Plot: When a mysterious artifact is uncovered on the Moon, a spacecraft manned by two humans and one supercomputer is sent to Jupiter to find its origins.\n",
            "----------------------------------------\n",
            "Title: Full Metal Jacket\n",
            "Year: 1987\n",
            "Director: Stanley Kubrick\n",
            "Genre: Drama, War\n",
            "IMDB Rating: 8.2\n",
            "Plot: A pragmatic U.S. Marine observes the dehumanizing effects the Vietnam War has on his fellow recruits from their brutal boot camp training to the bloody street fighting in Hue.\n",
            "----------------------------------------\n",
            "Title: Dr. Strangelove\n",
            "Year: 2012\n",
            "Director: Stanley Kubrick\n",
            "Genre: Short, Comedy, Crime\n",
            "IMDB Rating: N/A\n",
            "Plot: Local criminal entrepreneur, known as Doc, is given a job by a local crime boss to collect some money. However, the results of said collection are not usual.\n",
            "----------------------------------------\n",
            "Title: The Lord of the Rings: The Fellowship of the Ring\n",
            "Year: 2001\n",
            "Director: Peter Jackson\n",
            "Genre: Adventure, Drama, Fantasy\n",
            "IMDB Rating: 8.9\n",
            "Plot: A meek Hobbit from the Shire and eight companions set out on a journey to destroy the powerful One Ring and save Middle-earth from the Dark Lord Sauron.\n",
            "----------------------------------------\n",
            "Title: The Hobbit\n",
            "Year: 1977\n",
            "Director: Peter Jackson\n",
            "Genre: Animation, Adventure, Family\n",
            "IMDB Rating: 6.7\n",
            "Plot: A homebody hobbit in Middle Earth gets talked into joining a quest with a group of dwarves to recover their treasure from a dragon.\n",
            "----------------------------------------\n",
            "Title: King Kong\n",
            "Year: 2005\n",
            "Director: Peter Jackson\n",
            "Genre: Action, Adventure, Romance\n",
            "IMDB Rating: 7.2\n",
            "Plot: A greedy film producer assembles a team of moviemakers and sets out for the infamous Skull Island, where they find more than just cannibalistic natives.\n",
            "----------------------------------------\n",
            "Title: The Lovely Bones\n",
            "Year: 2009\n",
            "Director: Peter Jackson\n",
            "Genre: Drama, Fantasy, Thriller\n",
            "IMDB Rating: 6.6\n",
            "Plot: Centers on a young girl who has been murdered and watches over her family - and her killer - from purgatory. She must weigh her desire for vengeance against her desire for her family to heal.\n",
            "----------------------------------------\n",
            "Title: The Frighteners\n",
            "Year: 1996\n",
            "Director: Peter Jackson\n",
            "Genre: Comedy, Fantasy, Horror\n",
            "IMDB Rating: 7.1\n",
            "Plot: After a tragic car accident that kills his wife, a man discovers he can communicate with the dead, and he uses that gift to con people. However, when a demonic spirit appears, he may be the only one who can stop it from killing th...\n",
            "----------------------------------------\n",
            "Title: Dune\n",
            "Year: 1984\n",
            "Director: Denis Villeneuve\n",
            "Genre: Action, Adventure, Sci-Fi\n",
            "IMDB Rating: 6.3\n",
            "Plot: A Duke's son leads desert warriors against the galactic emperor and his father's evil nemesis to free their desert world from the emperor's rule.\n",
            "----------------------------------------\n",
            "Title: Arrival\n",
            "Year: 2016\n",
            "Director: Denis Villeneuve\n",
            "Genre: Drama, Mystery, Sci-Fi\n",
            "IMDB Rating: 7.9\n",
            "Plot: Linguist Louise Banks leads a team of investigators when gigantic spaceships touch down around the world. As nations teeter on the verge of global war, Banks and her crew must find a way to communicate with the extraterrestrial vi...\n",
            "----------------------------------------\n",
            "Title: Blade Runner 2049\n",
            "Year: 2017\n",
            "Director: Denis Villeneuve\n",
            "Genre: Action, Drama, Mystery\n",
            "IMDB Rating: 8.0\n",
            "Plot: Young Blade Runner K's discovery of a long-buried secret leads him to track down former Blade Runner Rick Deckard, who's been missing for thirty years.\n",
            "----------------------------------------\n",
            "Title: Prisoners\n",
            "Year: 2013\n",
            "Director: Denis Villeneuve\n",
            "Genre: Crime, Drama, Mystery\n",
            "IMDB Rating: 8.2\n",
            "Plot: Keller Dover is facing every parent's worst nightmare. His six-year-old daughter, Anna, is missing, together with her friend, Joy, and as minutes turn to hours, panic sets in. The only lead is an RV that had been parked on their s...\n",
            "----------------------------------------\n",
            "Title: Sicario\n",
            "Year: 2015\n",
            "Director: Denis Villeneuve\n",
            "Genre: Action, Crime, Drama\n",
            "IMDB Rating: 7.7\n",
            "Plot: An idealistic FBI agent is enlisted by a government task force to aid in the escalating war against drugs at the border area between the U.S. and Mexico.\n",
            "----------------------------------------\n",
            "Title: Gundala\n",
            "Year: 2019\n",
            "Director: Joko Anwar\n",
            "Genre: Action, Adventure, Drama\n",
            "IMDB Rating: 6.1\n",
            "Plot: Indonesia's preeminent comic book superhero and his alter ego Sancaka enter the cinematic universe to battle the wicked Pengkor and his diabolical squad of orphan assassins.\n",
            "----------------------------------------\n",
            "Title: A Copy of My Mind\n",
            "Year: 2015\n",
            "Director: Joko Anwar\n",
            "Genre: Drama\n",
            "IMDB Rating: 7.1\n",
            "Plot: A female cheap salon worker and a pirated DVDs subtitle maker fall in love during the turbulent presidential election in Indonesia.\n",
            "----------------------------------------\n",
            "Title: Kartini: Princess of Java\n",
            "Year: 2017\n",
            "Director: Hanung Bramantyo\n",
            "Genre: Biography, Drama, Family\n",
            "IMDB Rating: 7.6\n",
            "Plot: This movie follows the story of the Indonesian heroine named Kartini. In the early 1900s, when Indonesia was still a colony of the Netherlands, women weren't allowed to get higher education. Kartini grew up to fight for equality f...\n",
            "----------------------------------------\n",
            "Title: Sang Pencerah\n",
            "Year: 2010\n",
            "Director: Hanung Bramantyo\n",
            "Genre: Biography, Drama, History\n",
            "IMDB Rating: 7.1\n",
            "Plot: The journey of an Indonesian national hero named K.H. Ahmad Dahlan striving for Muhammadiyah, an Islamic organization in Indonesia, and how he was rejected by the society as he was trying to fix up their perspective.\n",
            "----------------------------------------\n",
            "Title: Rudy Habibie\n",
            "Year: 2016\n",
            "Director: Hanung Bramantyo\n",
            "Genre: Biography, Drama, Romance\n",
            "IMDB Rating: 7.5\n",
            "Plot: This movie follows the story of the 3rd President of Indonesia, B.J. Habibie, young life when he was studying in the university in Germany, his struggle life as a student, and his love life before he eventually dates Ainun.\n",
            "----------------------------------------\n",
            "Title: Cek Toko Sebelah the Series: Ada Lawan Baru\n",
            "Year: 2022\n",
            "Director: Ernest Prakasa\n",
            "Genre: Comedy, Drama\n",
            "IMDB Rating: N/A\n",
            "Plot: N/A\n",
            "----------------------------------------\n",
            "Title: Imperfect\n",
            "Year: 2019\n",
            "Director: Ernest Prakasa\n",
            "Genre: Comedy, Drama, Romance\n",
            "IMDB Rating: 7.7\n",
            "Plot: Being born fat and has dark skins, it feels like a curse for Rara, especially when she worked at the office that has surrounded by pretty girls. Her boss wants her to lose her weight, but there is a man who loves the way she were.\n",
            "----------------------------------------\n",
            "Title: Ngenest\n",
            "Year: 2015\n",
            "Director: Ernest Prakasa\n",
            "Genre: Comedy\n",
            "IMDB Rating: 7.0\n",
            "Plot: Ernest, an Indonesia guy of Chinese descent, has to deal with his life as a Chinese-born, how he often got bullied in school, and how he decided to find a local girl to marry.\n",
            "----------------------------------------\n",
            "Title: Susah Sinyal\n",
            "Year: 2017\n",
            "Director: Ernest Prakasa\n",
            "Genre: Comedy, Drama\n",
            "IMDB Rating: 7.0\n",
            "Plot: Ellen does not keep her promise to watch Kiara's performance at the talent-show competition between high schools. Kiara is angry and goes to Sumba alone, where she can feel a glimmer of happiness.\n",
            "----------------------------------------\n",
            "Title: Milly\n",
            "Year: 2018\n",
            "Director: Ernest Prakasa\n",
            "Genre: Short, Musical\n",
            "IMDB Rating: N/A\n",
            "Plot: N/A\n",
            "----------------------------------------\n",
            "Title: Tusuk Jelangkung\n",
            "Year: 2003\n",
            "Director: Rizal Mantovani\n",
            "Genre: Horror, Mystery\n",
            "IMDB Rating: 5.9\n",
            "Plot: Sequel to the 2001 movie \"Jelangkung\" which will reveal the secret of Jelangkung.\n",
            "----------------------------------------\n",
            "Title: Wewe\n",
            "Year: 2015\n",
            "Director: Rizal Mantovani\n",
            "Genre: Horror\n",
            "IMDB Rating: 5.9\n",
            "Plot: A family move to a new, creepy house. While the parents fight a lot, their youngest daughter missing. It said that she was taken by a supernatural being called Wewe Gombel.\n",
            "----------------------------------------\n",
            "Title: Kuntilanak 3\n",
            "Year: 2022\n",
            "Director: Rizal Mantovani\n",
            "Genre: Adventure, Fantasy, Horror\n",
            "IMDB Rating: 4.2\n",
            "Plot: Dinda, who is considered strange by the village children because of her strength, accidentally injures Panji and Ambar. She regrets and asks Aunt Donna to register her at the Mata Hati School, so that she can learn to control her ...\n",
            "----------------------------------------\n",
            "Title: 5 cm\n",
            "Year: 2012\n",
            "Director: Rizal Mantovani\n",
            "Genre: Adventure, Drama, Romance\n",
            "IMDB Rating: 7.2\n",
            "Plot: Five best friends try to find out what true friendship is by climbing Mount Semeru, the highest peak in Java.\n",
            "----------------------------------------\n",
            "Title: Air Terjun Pengantin\n",
            "Year: 2009\n",
            "Director: Rizal Mantovani\n",
            "Genre: Horror\n",
            "IMDB Rating: 3.6\n",
            "Plot: A woman and her lover go on vacation with their friends to Pengantin Island that has Pengantin Waterfall, a waterfall that if we hope for something there, it will happen.\n",
            "----------------------------------------\n",
            "Title: My Stupid Boss\n",
            "Year: 2016\n",
            "Director: Upi Avianto\n",
            "Genre: Comedy\n",
            "IMDB Rating: 7.1\n",
            "Plot: Diana (Bunga Citra Lestari) lives in Kuala Lumpur following her husband who works there. Diana then applied to work at a company owned by Bossman. Bossman happened to be her husband's college friend while in America.\n",
            "----------------------------------------\n",
            "Title: Realita, Cinta, dan Rock 'n Roll\n",
            "Year: 2006\n",
            "Director: Upi Avianto\n",
            "Genre: Drama, Romance\n",
            "IMDB Rating: 6.8\n",
            "Plot: Ipang (Vino G. Bastian) and Nugi (Herjunot Ali) are two friends who don't like school. They love to play music and have a dream of becoming rock'n roll musicians. They often skip school to have fun in Sandra's store (Nadine Chandr...\n",
            "----------------------------------------\n",
            "Title: Serigala Terakhir\n",
            "Year: 2009\n",
            "Director: Upi Avianto\n",
            "Genre: Action, Crime, Drama\n",
            "IMDB Rating: 6.7\n",
            "Plot: Childhood friends who have the same story and same condition made a gang with their other friends. Their gang is named Serigala Terakhir a.k.the Last Wolves. They have a dream to be the biggest mafia that can they reach.\n",
            "----------------------------------------\n",
            "Title: Belenggu Masjarakat\n",
            "Year: 1953\n",
            "Director: Upi Avianto\n",
            "Genre: Drama\n",
            "IMDB Rating: N/A\n",
            "Plot: N/A\n",
            "----------------------------------------\n",
            "Title: Fiksi.\n",
            "Year: 2008\n",
            "Director: Mouly Surya\n",
            "Genre: Drama, Thriller\n",
            "IMDB Rating: 7.5\n",
            "Plot: Alisha (Ladya Cheryl) never feel comfortable staying in her cool and spacious home until one day she meets Bari (Donny Alamsyah) who introduces her the meaning of love.\n",
            "----------------------------------------\n",
            "Title: What They Don't Talk About When They Talk About Love\n",
            "Year: 2013\n",
            "Director: Mouly Surya\n",
            "Genre: Drama, Romance\n",
            "IMDB Rating: 7.1\n",
            "Plot: At a high school for the visually impaired student, the students are like any other teenagers: they attend classes, pursue artistic endeavors, and fall in love regardless of physical barriers.\n",
            "----------------------------------------\n",
            "Title: Filosofi Kopi\n",
            "Year: 2015\n",
            "Director: Angga Dwimas Sasongko\n",
            "Genre: Drama\n",
            "IMDB Rating: 7.1\n",
            "Plot: A coffee shop struggling to pay their debts, while at the same time maintaining their principles.\n",
            "----------------------------------------\n",
            "Title: Soegija\n",
            "Year: 2012\n",
            "Director: Garin Nugroho\n",
            "Genre: Biography, Drama, History\n",
            "IMDB Rating: 6.3\n",
            "Plot: This movie follows the story of Dutch East Indies' (now Indonesia) first indigenous bishop, Albertus Soegijapranata SJ, from his inauguration until the end of Indonesia's independence war (1940-1949).\n",
            "----------------------------------------\n",
            "Title: Laskar Pelangi\n",
            "Year: 2008\n",
            "Director: Riri Riza\n",
            "Genre: Adventure, Drama, Family\n",
            "IMDB Rating: 7.9\n",
            "Plot: In the 1970s, a group of 10 students struggles with poverty and develop hopes for the future in Gantong Village on the farming and tin mining island of Belitung off the east coast of Sumatra.\n",
            "----------------------------------------\n",
            "Title: Sokola Rimba\n",
            "Year: 2013\n",
            "Director: Riri Riza\n",
            "Genre: Biography, Drama\n",
            "IMDB Rating: 7.3\n",
            "Plot: Following Butet Manurung's journey from anthropologist to educator to activist as she works with the indigenous Orang Rimba people who live upstream the Makekal river in the forest of Bukit Duabelas of Jambi, Sumatera, Indonesia.\n",
            "----------------------------------------\n",
            "Title: Gie\n",
            "Year: 2005\n",
            "Director: Riri Riza\n",
            "Genre: Biography, Drama\n",
            "IMDB Rating: 7.6\n",
            "Plot: Soe Hok Gie is an activist who lived in the sixties. Set in the darkest era of Indonesian modern history, \"Gie\" is an interpretation of what happened based on his journal.\n",
            "----------------------------------------\n",
            "Title: Lovely Man\n",
            "Year: 2011\n",
            "Director: Teddy Soeriaatmadja\n",
            "Genre: Drama\n",
            "IMDB Rating: 7.6\n",
            "Plot: Cahaya (Raihaanun) travels to Jakarta, Indonesia, to search for her father and discovers that he is a prostitute for men.\n",
            "----------------------------------------\n",
            "Title: Something in the Way\n",
            "Year: 2013\n",
            "Director: Teddy Soeriaatmadja\n",
            "Genre: Drama\n",
            "IMDB Rating: 7.4\n",
            "Plot: A porn obsessed taxi driver from Jakarta falls for the beautiful young prostitute and struggles with sexual frustration and misguided piety.\n",
            "----------------------------------------\n",
            "Title: About A Woman\n",
            "Year: 2015\n",
            "Director: Teddy Soeriaatmadja\n",
            "Genre: Drama\n",
            "IMDB Rating: 7.9\n",
            "Plot: A widow living alone develops an affectionate bond with young man hired by her children to assist her at home and offer her companionship.\n",
            "----------------------------------------\n",
            "Title: Banyu Biru\n",
            "Year: 2005\n",
            "Director: Teddy Soeriaatmadja\n",
            "Genre: Drama\n",
            "IMDB Rating: 6.6\n",
            "Plot: Banyu (Tora Sudiro), a young supermarket customer service who is absorbed in his daily routine. A strange incident inspires him to hit the road and solve past family issues.\n"
          ]
        }
      ]
    }
  ]
}