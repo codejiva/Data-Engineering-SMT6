{
  "cells": [
    {
      "cell_type": "markdown",
      "metadata": {
        "id": "21g_eJSRCWDB"
      },
      "source": [
        "## Web Scraping (Teknologi Perekayasaan Data)"
      ]
    },
    {
      "cell_type": "markdown",
      "metadata": {
        "id": "aXU0cttI9uqF"
      },
      "source": [
        "##BeautifulSoup + Requests"
      ]
    },
    {
      "cell_type": "code",
      "execution_count": null,
      "metadata": {
        "id": "MICb3CvpgG7M"
      },
      "outputs": [],
      "source": [
        "import requests\n",
        "from bs4 import BeautifulSoup"
      ]
    },
    {
      "cell_type": "code",
      "execution_count": null,
      "metadata": {
        "id": "SiFtlisVhOoM",
        "collapsed": true
      },
      "outputs": [],
      "source": [
        "headers = {\n",
        "    'user-agent': 'Mozilla/5.0 (X11; Linux x86_64) Chrome/126.0.0.0 Safari/537.36',\n",
        "    'accept': 'text/html',\n",
        "}\n",
        "\n",
        "halaman = requests.get('https://www.imdb.com/chart/top/', headers=headers) # Mendapatkan page HTML melalui request\n",
        "halaman_parsed = BeautifulSoup(halaman.content, 'html.parser') # Parsing konten halaman menggunakan beautifulsoup"
      ]
    },
    {
      "cell_type": "code",
      "execution_count": null,
      "metadata": {
        "id": "Md27N8ueiT75",
        "collapsed": true
      },
      "outputs": [],
      "source": [
        "halaman.text"
      ]
    },
    {
      "cell_type": "code",
      "execution_count": null,
      "metadata": {
        "id": "JVayFfJjX-CU"
      },
      "outputs": [],
      "source": [
        "test = halaman_parsed.select(\"h3\")\n",
        "\n",
        "if test == []:\n",
        "  True"
      ]
    },
    {
      "cell_type": "code",
      "execution_count": null,
      "metadata": {
        "id": "NxObOVCCi2kE",
        "collapsed": true
      },
      "outputs": [],
      "source": [
        "juduls = halaman_parsed.select(\"ul li.ipc-metadata-list-summary-item a.ipc-title-link-wrapper\")\n",
        "\n",
        "juduls"
      ]
    },
    {
      "cell_type": "code",
      "execution_count": null,
      "metadata": {
        "id": "4ljuF4r2ndDm"
      },
      "outputs": [],
      "source": [
        "ratings = halaman_parsed.select(\"ul li span.ipc-rating-star--rating\")\n",
        "\n",
        "ratings[:5]"
      ]
    },
    {
      "cell_type": "code",
      "execution_count": null,
      "metadata": {
        "id": "FqgPYrw4rstO",
        "collapsed": true
      },
      "outputs": [],
      "source": [
        "movies = halaman_parsed.select(\"ul li.ipc-metadata-list-summary-item\")\n",
        "\n",
        "hasil_data = []\n",
        "for movie in movies:\n",
        "    judul = movie.select('a.ipc-title-link-wrapper h3')[0].get_text().lstrip('0123456789. ')  # Remove leading numbers, periods, and spaces\n",
        "    tahun = movie.select('div.cli-title-metadata span')[0].get_text()\n",
        "    durasi = movie.select('div.cli-title-metadata span')[1].get_text()\n",
        "    rating = movie.select('span.ipc-rating-star--rating')[0].get_text()\n",
        "    hasil_data.append({\"judul\": judul, \"tahun\": tahun, \"durasi\": durasi, \"rating\": rating})\n",
        "\n",
        "hasil_data"
      ]
    },
    {
      "cell_type": "code",
      "execution_count": null,
      "metadata": {
        "id": "T4Sr1zlWCUBo"
      },
      "outputs": [],
      "source": [
        "#Jika sekaligus scraping poster film\n",
        "from os.path  import basename\n",
        "\n",
        "movies = halaman_parsed.select(\"ul li.ipc-metadata-list-summary-item\")\n",
        "hasil_data = []\n",
        "for movie in movies:\n",
        "    judul = movie.select('a.ipc-title-link-wrapper h3')[0].get_text().lstrip('0123456789. ')\n",
        "    tahun = movie.select('div.cli-title-metadata span')[0].get_text()\n",
        "    durasi = movie.select('div.cli-title-metadata span')[1].get_text()\n",
        "    rating = movie.select('span.ipc-rating-star--rating')[0].get_text()\n",
        "    poster = movie.select('img.ipc-image')[0].get(\"src\")\n",
        "    hasil_data.append({\"judul\": judul, \"tahun\": tahun, \"durasi\": durasi, \"rating\": rating, \"poster\": poster})\n",
        "\n",
        "    with open('/content/drive/MyDrive/TPD_2025/imdb_images/'+basename(poster), 'wb') as f:\n",
        "      f.write(requests.get(poster).content)\n"
      ]
    },
    {
      "cell_type": "code",
      "execution_count": null,
      "metadata": {
        "id": "FHxU2K45yX3L"
      },
      "outputs": [],
      "source": [
        "import pandas as pd\n",
        "\n",
        "hasil_data_df = pd.DataFrame(hasil_data)\n",
        "\n",
        "hasil_data_df.head(5)"
      ]
    },
    {
      "cell_type": "code",
      "execution_count": null,
      "metadata": {
        "id": "1R5INDSB1Iwn"
      },
      "outputs": [],
      "source": [
        "hasil_data_df.to_csv('/content/drive/MyDrive/TPD_2025/top_movies.csv', index=False)"
      ]
    },
    {
      "cell_type": "markdown",
      "metadata": {
        "id": "2Aqwo2X59sbQ"
      },
      "source": [
        "##Scrapy"
      ]
    },
    {
      "cell_type": "code",
      "execution_count": null,
      "metadata": {
        "id": "3TgwOVFw98AR",
        "collapsed": true
      },
      "outputs": [],
      "source": [
        "#Scrapy = complete package, tidak seperti BeautifulSoup yang harus juga import requests/selenium/urlib2 untuk \"request\"\n",
        "!pip install Scrapy"
      ]
    },
    {
      "cell_type": "code",
      "execution_count": 70,
      "metadata": {
        "colab": {
          "base_uri": "https://localhost:8080/"
        },
        "id": "jMgyUkKJ-JXn",
        "outputId": "a5168502-7450-4a56-ccff-388c9260afea"
      },
      "outputs": [
        {
          "output_type": "stream",
          "name": "stdout",
          "text": [
            "2.12.0\n"
          ]
        }
      ],
      "source": [
        "import scrapy\n",
        "print(scrapy.__version__)"
      ]
    },
    {
      "cell_type": "code",
      "execution_count": 72,
      "metadata": {
        "id": "n4TRgVccKoDN"
      },
      "outputs": [],
      "source": [
        "import scrapy\n",
        "import os\n",
        "os.chdir('/content/drive/MyDrive/TPD_2025/scrapy_imdb/')"
      ]
    },
    {
      "cell_type": "code",
      "execution_count": 73,
      "metadata": {
        "colab": {
          "base_uri": "https://localhost:8080/"
        },
        "id": "QiOEKPRmLD-L",
        "outputId": "5c08b84e-0cf3-49ee-c699-1113b2ea9e46"
      },
      "outputs": [
        {
          "output_type": "stream",
          "name": "stdout",
          "text": [
            "/content/drive/MyDrive/TPD_2025/scrapy_imdb\n"
          ]
        }
      ],
      "source": [
        "!pwd # get working directory, memastikan apakah kita sudah di folder project"
      ]
    },
    {
      "cell_type": "code",
      "execution_count": null,
      "metadata": {
        "id": "3Qn6mssKLSB-",
        "collapsed": true
      },
      "outputs": [],
      "source": [
        "!scrapy startproject scraping_movies"
      ]
    },
    {
      "cell_type": "code",
      "execution_count": null,
      "metadata": {
        "id": "YyIzdP96SRy0",
        "collapsed": true
      },
      "outputs": [],
      "source": [
        "# membuat spider baru \"movies\"\n",
        "os.chdir('/content/drive/MyDrive/TPD_2025/scrapy_imdb/scraping_movies/scraping_movies/spiders/')\n",
        "!scrapy genspider movies https://www.imdb.com/chart/top/"
      ]
    },
    {
      "cell_type": "code",
      "execution_count": null,
      "metadata": {
        "id": "1gqPQmMbYVaX",
        "collapsed": true
      },
      "outputs": [],
      "source": [
        "!scrapy crawl movies"
      ]
    },
    {
      "cell_type": "code",
      "execution_count": null,
      "metadata": {
        "id": "DxggnS8og-6l",
        "collapsed": true
      },
      "outputs": [],
      "source": [
        "!scrapy crawl movies -o top_movies.csv"
      ]
    },
    {
      "cell_type": "markdown",
      "metadata": {
        "id": "B0OEbbeBB8El"
      },
      "source": [
        "## Settting Selenium untuk Colab"
      ]
    },
    {
      "cell_type": "markdown",
      "source": [
        "As of Feb 2023 – an issue with Selenium induced as the colab system was updated from v18.04 to ubuntu v20.04 LTS recently"
      ],
      "metadata": {
        "id": "1fkAOsAjY4fo"
      }
    },
    {
      "cell_type": "code",
      "execution_count": null,
      "metadata": {
        "id": "f6A3oFreB3Nc",
        "collapsed": true
      },
      "outputs": [],
      "source": [
        "%%shell\n",
        "# Ubuntu no longer distributes chromium-browser outside of snap\n",
        "#\n",
        "# Proposed solution: https://askubuntu.com/questions/1204571/how-to-install-chromium-without-snap\n",
        "\n",
        "# Add debian buster\n",
        "cat > /etc/apt/sources.list.d/debian.list <<'EOF'\n",
        "deb [arch=amd64 signed-by=/usr/share/keyrings/debian-buster.gpg] http://deb.debian.org/debian buster main\n",
        "deb [arch=amd64 signed-by=/usr/share/keyrings/debian-buster-updates.gpg] http://deb.debian.org/debian buster-updates main\n",
        "deb [arch=amd64 signed-by=/usr/share/keyrings/debian-security-buster.gpg] http://deb.debian.org/debian-security buster/updates main\n",
        "EOF\n",
        "\n",
        "# Add keys\n",
        "apt-key adv --keyserver keyserver.ubuntu.com --recv-keys DCC9EFBF77E11517\n",
        "apt-key adv --keyserver keyserver.ubuntu.com --recv-keys 648ACFD622F3D138\n",
        "apt-key adv --keyserver keyserver.ubuntu.com --recv-keys 112695A0E562B32A\n",
        "\n",
        "apt-key export 77E11517 | gpg --dearmour -o /usr/share/keyrings/debian-buster.gpg\n",
        "apt-key export 22F3D138 | gpg --dearmour -o /usr/share/keyrings/debian-buster-updates.gpg\n",
        "apt-key export E562B32A | gpg --dearmour -o /usr/share/keyrings/debian-security-buster.gpg\n",
        "\n",
        "# Prefer debian repo for chromium* packages only\n",
        "# Note the double-blank lines between entries\n",
        "cat > /etc/apt/preferences.d/chromium.pref << 'EOF'\n",
        "Package: *\n",
        "Pin: release a=eoan\n",
        "Pin-Priority: 500\n",
        "\n",
        "\n",
        "Package: *\n",
        "Pin: origin \"deb.debian.org\"\n",
        "Pin-Priority: 300\n",
        "\n",
        "\n",
        "Package: chromium*\n",
        "Pin: origin \"deb.debian.org\"\n",
        "Pin-Priority: 700\n",
        "EOF\n",
        "\n",
        "# Install chromium and chromium-driver\n",
        "apt-get update\n",
        "apt-get install chromium chromium-driver\n",
        "\n",
        "# Install selenium\n",
        "pip install selenium"
      ]
    },
    {
      "cell_type": "markdown",
      "metadata": {
        "id": "SG54vB1emZNp"
      },
      "source": [
        "## BeautifulSoup + Selenium"
      ]
    },
    {
      "cell_type": "code",
      "source": [
        "# JALANKAN CODE DI BAWAH UNTUK IMPORT SELENIUM DAN PERSIAPAN DRIVER CHROME\n",
        "\n",
        "from selenium import webdriver\n",
        "from selenium.webdriver.chrome.service import Service\n",
        "\n",
        "from selenium.webdriver.support.ui import Select\n",
        "from selenium.webdriver.common.by import By\n",
        "from selenium.webdriver.common.keys import Keys\n",
        "from selenium.webdriver.support.ui import WebDriverWait\n",
        "from selenium.webdriver.support import expected_conditions as EC\n",
        "\n",
        "service = Service(executable_path=r'/usr/bin/chromedriver')\n",
        "options = webdriver.ChromeOptions()\n",
        "options.add_argument('--headless') # menggunakan chrome tanpa GUI\n",
        "options.add_argument('--no-sandbox')\n",
        "options.add_argument('--disable-dev-shm-usage')\n",
        "driver = webdriver.Chrome(service=service, options=options)\n",
        "\n",
        "print(driver)"
      ],
      "metadata": {
        "colab": {
          "base_uri": "https://localhost:8080/"
        },
        "id": "ZWwNE2qyeUy1",
        "outputId": "8268a053-3137-4139-a919-ccd033b2da99"
      },
      "execution_count": 99,
      "outputs": [
        {
          "output_type": "stream",
          "name": "stdout",
          "text": [
            "<selenium.webdriver.chrome.webdriver.WebDriver (session=\"5983a94f516e6d71a94cce3bfdbce1fd\")>\n"
          ]
        }
      ]
    },
    {
      "cell_type": "code",
      "source": [
        "import time\n",
        "driver.get(\"https://www.detik.com/search/searchall?query=inflasi\")\n",
        "\n",
        "# pilih site - \"detikfinance\"\n",
        "selectsite = Select(driver.find_element(By.ID, 'kanal'))\n",
        "selectsite.select_by_value('29')\n",
        "\n",
        "# pilih waktu - \"Pilih Tanggal\"\n",
        "selecttime = Select(driver.find_element(By.ID, 'timeselect'))\n",
        "selecttime.select_by_value('yes')\n",
        "\n",
        "# isikan tanggal awal dan akhir\n",
        "wait = WebDriverWait(driver, 10)\n",
        "starttime = wait.until(EC.presence_of_element_located((By.ID, 'startPicker')))\n",
        "starttime.send_keys('01/01/2025')  # Start date\n",
        "\n",
        "endtime = wait.until(EC.presence_of_element_located((By.ID, 'endPicker')))\n",
        "endtime.send_keys('28/02/2025')  # End date\n",
        "\n",
        "endtime.send_keys(Keys.RETURN)\n",
        "time.sleep(5)\n"
      ],
      "metadata": {
        "id": "cq3juiIbZIIX",
        "collapsed": true
      },
      "execution_count": 118,
      "outputs": []
    },
    {
      "cell_type": "code",
      "source": [
        "# lakukan web scraping\n",
        "from bs4 import BeautifulSoup\n",
        "\n",
        "halaman_parsed = BeautifulSoup(driver.page_source, 'html.parser')\n",
        "\n",
        "beritas = halaman_parsed.select(\"div.list-content article\")\n",
        "\n",
        "hasil_data_sel = []\n",
        "for berita in beritas:\n",
        "    info = berita.select('div.media__date')[0].get_text(strip=True)\n",
        "    judul = berita.select('h3.media__title a')[0].get_text(strip=True)\n",
        "    isi = berita.select_one('div.media__desc')\n",
        "    isi_text = isi.get_text(strip=True) if isi else \"-\"\n",
        "\n",
        "    hasil_data_sel.append({\"judul\": judul, \"info\": info, \"isi\": isi_text})\n",
        "\n",
        "hasil_data_sel_df = pd.DataFrame(hasil_data_sel)\n",
        "hasil_data_sel_df"
      ],
      "metadata": {
        "colab": {
          "base_uri": "https://localhost:8080/",
          "height": 425
        },
        "id": "yaBzJWjlvTRV",
        "outputId": "1580a62e-3b28-46bf-f987-359b1127fba9"
      },
      "execution_count": 119,
      "outputs": [
        {
          "output_type": "execute_result",
          "data": {
            "text/plain": [
              "                                                judul  \\\n",
              "0   Menteri PU Dilema Soal Truk Obesitas, Dilarang...   \n",
              "1   Inflasi Terendah Sepanjang Sejarah, Pemerintah...   \n",
              "2      Inflasi Tembus Rekor Terendah, Daya Beli Lesu?   \n",
              "3   Video Kebijakan Penurunan Harga Tiket Pesawat ...   \n",
              "4   Inflasi RI Terendah Sepanjang Sejarah, Sri Mul...   \n",
              "5   Video: BPS Catat Inflasi di Desember 2024 Capa...   \n",
              "6   Bahas Inflasi, Luhut Pesan ke Prabowo Jangan K...   \n",
              "7    Inflasi Januari 0,76%, Terendah Sejak Tahun 2000   \n",
              "8   Sri Mulyani Sebut Banyak Negara Iri dengan Tin...   \n",
              "9   Inflasi Masih di Atas Target, Bank Sentral AS ...   \n",
              "10  Cabai Rawit dan Telur Ayam Jadi Biang Kerok In...   \n",
              "11  Airlangga Pamer RI Masuk Jajaran Negara Inflas...   \n",
              "\n",
              "                             info  \\\n",
              "0    Jumat, 21 Feb 2025 19:15 WIB   \n",
              "1    Jumat, 03 Jan 2025 14:51 WIB   \n",
              "2    Jumat, 03 Jan 2025 12:45 WIB   \n",
              "3    Sabtu, 04 Jan 2025 09:00 WIB   \n",
              "4    Senin, 06 Jan 2025 11:50 WIB   \n",
              "5    Kamis, 02 Jan 2025 21:46 WIB   \n",
              "6   Selasa, 18 Feb 2025 18:48 WIB   \n",
              "7   Minggu, 09 Feb 2025 20:00 WIB   \n",
              "8   Selasa, 11 Feb 2025 15:53 WIB   \n",
              "9   Minggu, 05 Jan 2025 17:00 WIB   \n",
              "10   Kamis, 02 Jan 2025 12:45 WIB   \n",
              "11    Rabu, 19 Feb 2025 11:06 WIB   \n",
              "\n",
              "                                                  isi  \n",
              "0   Menteri PU Dody Hanggodo menyatakan larangan t...  \n",
              "1   Kemenko Perekonomian melaporkan inflasi Desemb...  \n",
              "2   Peneliti Institute for Demographic and Affluen...  \n",
              "3                                                   -  \n",
              "4   BPS mencatat inflasi tahun kalender atau year ...  \n",
              "5   Menurut data Badan Pusat Statistik, inflasi se...  \n",
              "6   Ketua Dewan Ekonomi Nasional (DEN) Luhut Binsa...  \n",
              "7                                                   -  \n",
              "8   Menteri Keuangan Sri Mulyani Indrawati mengkla...  \n",
              "9   The Federal Reserve berupaya menangani inflasi...  \n",
              "10  BPS mencatat inflasi Desember 2024 sebesar 0,4...  \n",
              "11  Menteri Airlangga Hartarto mengungkapkan keber...  "
            ],
            "text/html": [
              "\n",
              "  <div id=\"df-d515b646-4d26-4387-8334-e6b554e074d2\" class=\"colab-df-container\">\n",
              "    <div>\n",
              "<style scoped>\n",
              "    .dataframe tbody tr th:only-of-type {\n",
              "        vertical-align: middle;\n",
              "    }\n",
              "\n",
              "    .dataframe tbody tr th {\n",
              "        vertical-align: top;\n",
              "    }\n",
              "\n",
              "    .dataframe thead th {\n",
              "        text-align: right;\n",
              "    }\n",
              "</style>\n",
              "<table border=\"1\" class=\"dataframe\">\n",
              "  <thead>\n",
              "    <tr style=\"text-align: right;\">\n",
              "      <th></th>\n",
              "      <th>judul</th>\n",
              "      <th>info</th>\n",
              "      <th>isi</th>\n",
              "    </tr>\n",
              "  </thead>\n",
              "  <tbody>\n",
              "    <tr>\n",
              "      <th>0</th>\n",
              "      <td>Menteri PU Dilema Soal Truk Obesitas, Dilarang...</td>\n",
              "      <td>Jumat, 21 Feb 2025 19:15 WIB</td>\n",
              "      <td>Menteri PU Dody Hanggodo menyatakan larangan t...</td>\n",
              "    </tr>\n",
              "    <tr>\n",
              "      <th>1</th>\n",
              "      <td>Inflasi Terendah Sepanjang Sejarah, Pemerintah...</td>\n",
              "      <td>Jumat, 03 Jan 2025 14:51 WIB</td>\n",
              "      <td>Kemenko Perekonomian melaporkan inflasi Desemb...</td>\n",
              "    </tr>\n",
              "    <tr>\n",
              "      <th>2</th>\n",
              "      <td>Inflasi Tembus Rekor Terendah, Daya Beli Lesu?</td>\n",
              "      <td>Jumat, 03 Jan 2025 12:45 WIB</td>\n",
              "      <td>Peneliti Institute for Demographic and Affluen...</td>\n",
              "    </tr>\n",
              "    <tr>\n",
              "      <th>3</th>\n",
              "      <td>Video Kebijakan Penurunan Harga Tiket Pesawat ...</td>\n",
              "      <td>Sabtu, 04 Jan 2025 09:00 WIB</td>\n",
              "      <td>-</td>\n",
              "    </tr>\n",
              "    <tr>\n",
              "      <th>4</th>\n",
              "      <td>Inflasi RI Terendah Sepanjang Sejarah, Sri Mul...</td>\n",
              "      <td>Senin, 06 Jan 2025 11:50 WIB</td>\n",
              "      <td>BPS mencatat inflasi tahun kalender atau year ...</td>\n",
              "    </tr>\n",
              "    <tr>\n",
              "      <th>5</th>\n",
              "      <td>Video: BPS Catat Inflasi di Desember 2024 Capa...</td>\n",
              "      <td>Kamis, 02 Jan 2025 21:46 WIB</td>\n",
              "      <td>Menurut data Badan Pusat Statistik, inflasi se...</td>\n",
              "    </tr>\n",
              "    <tr>\n",
              "      <th>6</th>\n",
              "      <td>Bahas Inflasi, Luhut Pesan ke Prabowo Jangan K...</td>\n",
              "      <td>Selasa, 18 Feb 2025 18:48 WIB</td>\n",
              "      <td>Ketua Dewan Ekonomi Nasional (DEN) Luhut Binsa...</td>\n",
              "    </tr>\n",
              "    <tr>\n",
              "      <th>7</th>\n",
              "      <td>Inflasi Januari 0,76%, Terendah Sejak Tahun 2000</td>\n",
              "      <td>Minggu, 09 Feb 2025 20:00 WIB</td>\n",
              "      <td>-</td>\n",
              "    </tr>\n",
              "    <tr>\n",
              "      <th>8</th>\n",
              "      <td>Sri Mulyani Sebut Banyak Negara Iri dengan Tin...</td>\n",
              "      <td>Selasa, 11 Feb 2025 15:53 WIB</td>\n",
              "      <td>Menteri Keuangan Sri Mulyani Indrawati mengkla...</td>\n",
              "    </tr>\n",
              "    <tr>\n",
              "      <th>9</th>\n",
              "      <td>Inflasi Masih di Atas Target, Bank Sentral AS ...</td>\n",
              "      <td>Minggu, 05 Jan 2025 17:00 WIB</td>\n",
              "      <td>The Federal Reserve berupaya menangani inflasi...</td>\n",
              "    </tr>\n",
              "    <tr>\n",
              "      <th>10</th>\n",
              "      <td>Cabai Rawit dan Telur Ayam Jadi Biang Kerok In...</td>\n",
              "      <td>Kamis, 02 Jan 2025 12:45 WIB</td>\n",
              "      <td>BPS mencatat inflasi Desember 2024 sebesar 0,4...</td>\n",
              "    </tr>\n",
              "    <tr>\n",
              "      <th>11</th>\n",
              "      <td>Airlangga Pamer RI Masuk Jajaran Negara Inflas...</td>\n",
              "      <td>Rabu, 19 Feb 2025 11:06 WIB</td>\n",
              "      <td>Menteri Airlangga Hartarto mengungkapkan keber...</td>\n",
              "    </tr>\n",
              "  </tbody>\n",
              "</table>\n",
              "</div>\n",
              "    <div class=\"colab-df-buttons\">\n",
              "\n",
              "  <div class=\"colab-df-container\">\n",
              "    <button class=\"colab-df-convert\" onclick=\"convertToInteractive('df-d515b646-4d26-4387-8334-e6b554e074d2')\"\n",
              "            title=\"Convert this dataframe to an interactive table.\"\n",
              "            style=\"display:none;\">\n",
              "\n",
              "  <svg xmlns=\"http://www.w3.org/2000/svg\" height=\"24px\" viewBox=\"0 -960 960 960\">\n",
              "    <path d=\"M120-120v-720h720v720H120Zm60-500h600v-160H180v160Zm220 220h160v-160H400v160Zm0 220h160v-160H400v160ZM180-400h160v-160H180v160Zm440 0h160v-160H620v160ZM180-180h160v-160H180v160Zm440 0h160v-160H620v160Z\"/>\n",
              "  </svg>\n",
              "    </button>\n",
              "\n",
              "  <style>\n",
              "    .colab-df-container {\n",
              "      display:flex;\n",
              "      gap: 12px;\n",
              "    }\n",
              "\n",
              "    .colab-df-convert {\n",
              "      background-color: #E8F0FE;\n",
              "      border: none;\n",
              "      border-radius: 50%;\n",
              "      cursor: pointer;\n",
              "      display: none;\n",
              "      fill: #1967D2;\n",
              "      height: 32px;\n",
              "      padding: 0 0 0 0;\n",
              "      width: 32px;\n",
              "    }\n",
              "\n",
              "    .colab-df-convert:hover {\n",
              "      background-color: #E2EBFA;\n",
              "      box-shadow: 0px 1px 2px rgba(60, 64, 67, 0.3), 0px 1px 3px 1px rgba(60, 64, 67, 0.15);\n",
              "      fill: #174EA6;\n",
              "    }\n",
              "\n",
              "    .colab-df-buttons div {\n",
              "      margin-bottom: 4px;\n",
              "    }\n",
              "\n",
              "    [theme=dark] .colab-df-convert {\n",
              "      background-color: #3B4455;\n",
              "      fill: #D2E3FC;\n",
              "    }\n",
              "\n",
              "    [theme=dark] .colab-df-convert:hover {\n",
              "      background-color: #434B5C;\n",
              "      box-shadow: 0px 1px 3px 1px rgba(0, 0, 0, 0.15);\n",
              "      filter: drop-shadow(0px 1px 2px rgba(0, 0, 0, 0.3));\n",
              "      fill: #FFFFFF;\n",
              "    }\n",
              "  </style>\n",
              "\n",
              "    <script>\n",
              "      const buttonEl =\n",
              "        document.querySelector('#df-d515b646-4d26-4387-8334-e6b554e074d2 button.colab-df-convert');\n",
              "      buttonEl.style.display =\n",
              "        google.colab.kernel.accessAllowed ? 'block' : 'none';\n",
              "\n",
              "      async function convertToInteractive(key) {\n",
              "        const element = document.querySelector('#df-d515b646-4d26-4387-8334-e6b554e074d2');\n",
              "        const dataTable =\n",
              "          await google.colab.kernel.invokeFunction('convertToInteractive',\n",
              "                                                    [key], {});\n",
              "        if (!dataTable) return;\n",
              "\n",
              "        const docLinkHtml = 'Like what you see? Visit the ' +\n",
              "          '<a target=\"_blank\" href=https://colab.research.google.com/notebooks/data_table.ipynb>data table notebook</a>'\n",
              "          + ' to learn more about interactive tables.';\n",
              "        element.innerHTML = '';\n",
              "        dataTable['output_type'] = 'display_data';\n",
              "        await google.colab.output.renderOutput(dataTable, element);\n",
              "        const docLink = document.createElement('div');\n",
              "        docLink.innerHTML = docLinkHtml;\n",
              "        element.appendChild(docLink);\n",
              "      }\n",
              "    </script>\n",
              "  </div>\n",
              "\n",
              "\n",
              "<div id=\"df-1ea4edd4-f9d1-4e0f-9c9c-b94d7ee0b658\">\n",
              "  <button class=\"colab-df-quickchart\" onclick=\"quickchart('df-1ea4edd4-f9d1-4e0f-9c9c-b94d7ee0b658')\"\n",
              "            title=\"Suggest charts\"\n",
              "            style=\"display:none;\">\n",
              "\n",
              "<svg xmlns=\"http://www.w3.org/2000/svg\" height=\"24px\"viewBox=\"0 0 24 24\"\n",
              "     width=\"24px\">\n",
              "    <g>\n",
              "        <path d=\"M19 3H5c-1.1 0-2 .9-2 2v14c0 1.1.9 2 2 2h14c1.1 0 2-.9 2-2V5c0-1.1-.9-2-2-2zM9 17H7v-7h2v7zm4 0h-2V7h2v10zm4 0h-2v-4h2v4z\"/>\n",
              "    </g>\n",
              "</svg>\n",
              "  </button>\n",
              "\n",
              "<style>\n",
              "  .colab-df-quickchart {\n",
              "      --bg-color: #E8F0FE;\n",
              "      --fill-color: #1967D2;\n",
              "      --hover-bg-color: #E2EBFA;\n",
              "      --hover-fill-color: #174EA6;\n",
              "      --disabled-fill-color: #AAA;\n",
              "      --disabled-bg-color: #DDD;\n",
              "  }\n",
              "\n",
              "  [theme=dark] .colab-df-quickchart {\n",
              "      --bg-color: #3B4455;\n",
              "      --fill-color: #D2E3FC;\n",
              "      --hover-bg-color: #434B5C;\n",
              "      --hover-fill-color: #FFFFFF;\n",
              "      --disabled-bg-color: #3B4455;\n",
              "      --disabled-fill-color: #666;\n",
              "  }\n",
              "\n",
              "  .colab-df-quickchart {\n",
              "    background-color: var(--bg-color);\n",
              "    border: none;\n",
              "    border-radius: 50%;\n",
              "    cursor: pointer;\n",
              "    display: none;\n",
              "    fill: var(--fill-color);\n",
              "    height: 32px;\n",
              "    padding: 0;\n",
              "    width: 32px;\n",
              "  }\n",
              "\n",
              "  .colab-df-quickchart:hover {\n",
              "    background-color: var(--hover-bg-color);\n",
              "    box-shadow: 0 1px 2px rgba(60, 64, 67, 0.3), 0 1px 3px 1px rgba(60, 64, 67, 0.15);\n",
              "    fill: var(--button-hover-fill-color);\n",
              "  }\n",
              "\n",
              "  .colab-df-quickchart-complete:disabled,\n",
              "  .colab-df-quickchart-complete:disabled:hover {\n",
              "    background-color: var(--disabled-bg-color);\n",
              "    fill: var(--disabled-fill-color);\n",
              "    box-shadow: none;\n",
              "  }\n",
              "\n",
              "  .colab-df-spinner {\n",
              "    border: 2px solid var(--fill-color);\n",
              "    border-color: transparent;\n",
              "    border-bottom-color: var(--fill-color);\n",
              "    animation:\n",
              "      spin 1s steps(1) infinite;\n",
              "  }\n",
              "\n",
              "  @keyframes spin {\n",
              "    0% {\n",
              "      border-color: transparent;\n",
              "      border-bottom-color: var(--fill-color);\n",
              "      border-left-color: var(--fill-color);\n",
              "    }\n",
              "    20% {\n",
              "      border-color: transparent;\n",
              "      border-left-color: var(--fill-color);\n",
              "      border-top-color: var(--fill-color);\n",
              "    }\n",
              "    30% {\n",
              "      border-color: transparent;\n",
              "      border-left-color: var(--fill-color);\n",
              "      border-top-color: var(--fill-color);\n",
              "      border-right-color: var(--fill-color);\n",
              "    }\n",
              "    40% {\n",
              "      border-color: transparent;\n",
              "      border-right-color: var(--fill-color);\n",
              "      border-top-color: var(--fill-color);\n",
              "    }\n",
              "    60% {\n",
              "      border-color: transparent;\n",
              "      border-right-color: var(--fill-color);\n",
              "    }\n",
              "    80% {\n",
              "      border-color: transparent;\n",
              "      border-right-color: var(--fill-color);\n",
              "      border-bottom-color: var(--fill-color);\n",
              "    }\n",
              "    90% {\n",
              "      border-color: transparent;\n",
              "      border-bottom-color: var(--fill-color);\n",
              "    }\n",
              "  }\n",
              "</style>\n",
              "\n",
              "  <script>\n",
              "    async function quickchart(key) {\n",
              "      const quickchartButtonEl =\n",
              "        document.querySelector('#' + key + ' button');\n",
              "      quickchartButtonEl.disabled = true;  // To prevent multiple clicks.\n",
              "      quickchartButtonEl.classList.add('colab-df-spinner');\n",
              "      try {\n",
              "        const charts = await google.colab.kernel.invokeFunction(\n",
              "            'suggestCharts', [key], {});\n",
              "      } catch (error) {\n",
              "        console.error('Error during call to suggestCharts:', error);\n",
              "      }\n",
              "      quickchartButtonEl.classList.remove('colab-df-spinner');\n",
              "      quickchartButtonEl.classList.add('colab-df-quickchart-complete');\n",
              "    }\n",
              "    (() => {\n",
              "      let quickchartButtonEl =\n",
              "        document.querySelector('#df-1ea4edd4-f9d1-4e0f-9c9c-b94d7ee0b658 button');\n",
              "      quickchartButtonEl.style.display =\n",
              "        google.colab.kernel.accessAllowed ? 'block' : 'none';\n",
              "    })();\n",
              "  </script>\n",
              "</div>\n",
              "\n",
              "  <div id=\"id_db38e4fa-2d82-4e5f-a495-658d8d5dd5af\">\n",
              "    <style>\n",
              "      .colab-df-generate {\n",
              "        background-color: #E8F0FE;\n",
              "        border: none;\n",
              "        border-radius: 50%;\n",
              "        cursor: pointer;\n",
              "        display: none;\n",
              "        fill: #1967D2;\n",
              "        height: 32px;\n",
              "        padding: 0 0 0 0;\n",
              "        width: 32px;\n",
              "      }\n",
              "\n",
              "      .colab-df-generate:hover {\n",
              "        background-color: #E2EBFA;\n",
              "        box-shadow: 0px 1px 2px rgba(60, 64, 67, 0.3), 0px 1px 3px 1px rgba(60, 64, 67, 0.15);\n",
              "        fill: #174EA6;\n",
              "      }\n",
              "\n",
              "      [theme=dark] .colab-df-generate {\n",
              "        background-color: #3B4455;\n",
              "        fill: #D2E3FC;\n",
              "      }\n",
              "\n",
              "      [theme=dark] .colab-df-generate:hover {\n",
              "        background-color: #434B5C;\n",
              "        box-shadow: 0px 1px 3px 1px rgba(0, 0, 0, 0.15);\n",
              "        filter: drop-shadow(0px 1px 2px rgba(0, 0, 0, 0.3));\n",
              "        fill: #FFFFFF;\n",
              "      }\n",
              "    </style>\n",
              "    <button class=\"colab-df-generate\" onclick=\"generateWithVariable('hasil_data_sel_df')\"\n",
              "            title=\"Generate code using this dataframe.\"\n",
              "            style=\"display:none;\">\n",
              "\n",
              "  <svg xmlns=\"http://www.w3.org/2000/svg\" height=\"24px\"viewBox=\"0 0 24 24\"\n",
              "       width=\"24px\">\n",
              "    <path d=\"M7,19H8.4L18.45,9,17,7.55,7,17.6ZM5,21V16.75L18.45,3.32a2,2,0,0,1,2.83,0l1.4,1.43a1.91,1.91,0,0,1,.58,1.4,1.91,1.91,0,0,1-.58,1.4L9.25,21ZM18.45,9,17,7.55Zm-12,3A5.31,5.31,0,0,0,4.9,8.1,5.31,5.31,0,0,0,1,6.5,5.31,5.31,0,0,0,4.9,4.9,5.31,5.31,0,0,0,6.5,1,5.31,5.31,0,0,0,8.1,4.9,5.31,5.31,0,0,0,12,6.5,5.46,5.46,0,0,0,6.5,12Z\"/>\n",
              "  </svg>\n",
              "    </button>\n",
              "    <script>\n",
              "      (() => {\n",
              "      const buttonEl =\n",
              "        document.querySelector('#id_db38e4fa-2d82-4e5f-a495-658d8d5dd5af button.colab-df-generate');\n",
              "      buttonEl.style.display =\n",
              "        google.colab.kernel.accessAllowed ? 'block' : 'none';\n",
              "\n",
              "      buttonEl.onclick = () => {\n",
              "        google.colab.notebook.generateWithVariable('hasil_data_sel_df');\n",
              "      }\n",
              "      })();\n",
              "    </script>\n",
              "  </div>\n",
              "\n",
              "    </div>\n",
              "  </div>\n"
            ],
            "application/vnd.google.colaboratory.intrinsic+json": {
              "type": "dataframe",
              "variable_name": "hasil_data_sel_df",
              "summary": "{\n  \"name\": \"hasil_data_sel_df\",\n  \"rows\": 12,\n  \"fields\": [\n    {\n      \"column\": \"judul\",\n      \"properties\": {\n        \"dtype\": \"string\",\n        \"num_unique_values\": 12,\n        \"samples\": [\n          \"Cabai Rawit dan Telur Ayam Jadi Biang Kerok Inflasi Desember 0,44%\",\n          \"Inflasi Masih di Atas Target, Bank Sentral AS Bakal Lakukan Hal Ini\",\n          \"Menteri PU Dilema Soal Truk Obesitas, Dilarang Bisa Picu Kenaikan Inflasi\"\n        ],\n        \"semantic_type\": \"\",\n        \"description\": \"\"\n      }\n    },\n    {\n      \"column\": \"info\",\n      \"properties\": {\n        \"dtype\": \"string\",\n        \"num_unique_values\": 12,\n        \"samples\": [\n          \"Kamis, 02 Jan 2025 12:45 WIB\",\n          \"Minggu, 05 Jan 2025 17:00 WIB\",\n          \"Jumat, 21 Feb 2025 19:15 WIB\"\n        ],\n        \"semantic_type\": \"\",\n        \"description\": \"\"\n      }\n    },\n    {\n      \"column\": \"isi\",\n      \"properties\": {\n        \"dtype\": \"string\",\n        \"num_unique_values\": 11,\n        \"samples\": [\n          \"Menurut data Badan Pusat Statistik, inflasi secara bulanan RI naik 0,44% di Desember 2024. Sementara secara tahunan sebesar 1,57%. Apa penyebabnya?\",\n          \"Menteri PU Dody Hanggodo menyatakan larangan truk ODOL jadi diskusi lintas kementerian.\",\n          \"BPS mencatat inflasi Desember 2024 sebesar 0,44%, didorong oleh komponen bergejolak seperti telur dan cabe. Komponen inti juga berkontribusi.\"\n        ],\n        \"semantic_type\": \"\",\n        \"description\": \"\"\n      }\n    }\n  ]\n}"
            }
          },
          "metadata": {},
          "execution_count": 119
        }
      ]
    },
    {
      "cell_type": "markdown",
      "metadata": {
        "id": "vOAP6qYm1LUO"
      },
      "source": [
        "## Scraping Data dengan APIs"
      ]
    },
    {
      "cell_type": "code",
      "execution_count": 116,
      "metadata": {
        "id": "SLSehreo5bE-"
      },
      "outputs": [],
      "source": [
        "# Wikipedia, cek https://www.mediawiki.org/wiki/API:Main_page untuk parameter setiap call\n",
        "import requests\n",
        "import pandas as pd\n",
        "\n",
        "url = 'https://en.wikipedia.org/w/api.php'\n",
        "params = {\n",
        "        'action': 'query',\n",
        "        'list':'search',\n",
        "        'srsearch':'data engineer',\n",
        "        'format': 'json'\n",
        "    }\n",
        "response = requests.get(url, params=params)\n",
        "\n",
        "if response.status_code == 200:\n",
        "    # Extract JSON data dari response\n",
        "    data = response.json()\n",
        "\n",
        "    dtwiki = pd.json_normalize(data['query']['search'])\n",
        "    dtwiki.to_csv('/content/drive/MyDrive/TPD_scraping/wiki_dataenginner.csv', index=False)\n",
        "\n",
        "else:\n",
        "    print(f\"Request gagal dengan status {response.status_code}\")\n",
        "\n"
      ]
    },
    {
      "cell_type": "code",
      "execution_count": null,
      "metadata": {
        "id": "5A0zguaOIwmP"
      },
      "outputs": [],
      "source": [
        "# Twitter, cek https://developer.twitter.com/en/docs/api-reference-index\n",
        "import requests\n",
        "\n",
        "url = \"https://api.twitter.com/2/tweets/search/recent\"\n",
        "headers = {\n",
        "    \"Authorization\": \"Bearer <your_access_token>\"\n",
        "}\n",
        "params = {\n",
        "    \"query\": \"climate\", #isikan dengan keyword untuk search\n",
        "    \"max_results\": 10\n",
        "}\n",
        "\n",
        "response = requests.get(url, headers=headers, params=params)\n",
        "if response.status_code == 200:\n",
        "    # Extract JSON data dari response\n",
        "    data = response.json()\n",
        "\n",
        "    print(data)\n",
        "else:\n",
        "    print(f\"Request gagal dengan status {response.status_code}\")\n",
        "\n"
      ]
    },
    {
      "cell_type": "markdown",
      "metadata": {
        "id": "gbzctt0gfuVp"
      },
      "source": [
        "## PENUGASAN (1 Week Assignment)\n",
        "\n",
        "1. Buat File .ipynb yang baru dengan nama *Praktikum4_NIM.ipynb*\n",
        "\n",
        "2. Lakukan web scraping menggunakan **Requests + BeautifulSoup** untuk mengekstrak Tabel **Matching Cryptocurrencies** pada tab **Table View** di Yahoo!Finance  https://finance.yahoo.com/crypto/ (cukup 3 halaman saja - 75 rows). **Hints**: lihat perubahan URL untuk setiap halaman table dan lakukan looping per halaman\n",
        "\n",
        "3. Lakukan web scraping menggunakan **Scrapy** untuk mengekstrak data negara di https://www.scrapethissite.com/pages/simple/\n",
        "\n",
        "4. Buat data scraping menggunakan API:\n",
        "  - Pilih salah satu penyedia data: Twitter/Instagram/Facebook/Google/atau lainnya\n",
        "  - Sign Up untuk mendapatkan akses autentikasi API (jika diperlukan)\n",
        "  - Baca dan pelajari dokumentasi API\n",
        "  - Ambil data dari penyedia data (cukup satu jenis data saja - 1 API method)\n",
        "\n",
        "\n",
        "---\n",
        "\n",
        "\n",
        "\n",
        "**Silakan submit di Google Classroom:**\n",
        "1. File notebook .ipynb\n",
        "2. File spider Scrapy yang sudah diedit dari no 3\n",
        "3. Hasil screenshot data CSV hasil dari tugas no 2,3,4 (bukan file datanya)\n",
        "\n",
        "\n",
        "\n"
      ]
    }
  ],
  "metadata": {
    "colab": {
      "provenance": []
    },
    "kernelspec": {
      "display_name": "Python 3",
      "name": "python3"
    },
    "language_info": {
      "name": "python"
    }
  },
  "nbformat": 4,
  "nbformat_minor": 0
}